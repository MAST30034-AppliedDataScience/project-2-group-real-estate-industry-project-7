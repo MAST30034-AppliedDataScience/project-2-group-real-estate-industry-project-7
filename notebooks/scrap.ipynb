{
 "cells": [
  {
   "cell_type": "code",
   "execution_count": 1,
   "metadata": {},
   "outputs": [],
   "source": [
    "import re\n",
    "import requests \n",
    "import json"
   ]
  },
  {
   "cell_type": "markdown",
   "metadata": {},
   "source": [
    "## Get URLs from Xml Files"
   ]
  },
  {
   "cell_type": "markdown",
   "metadata": {},
   "source": [
    "Due to restriction of Domain website, those xml file below were manually downloaded form [here](https://www.domain.com.au/sitemap-listings-rent.xml).\n",
    "<br> With 10 rent listing files between **Aug 2024 and Sept 2023**."
   ]
  },
  {
   "cell_type": "code",
   "execution_count": 5,
   "metadata": {},
   "outputs": [
    {
     "name": "stdout",
     "output_type": "stream",
     "text": [
      "10376\n",
      "['https://www.domain.com.au/322-peats-ferry-road-hornsby-nsw-2077-17151663', 'https://www.domain.com.au/9-5-17-queen-street-newtown-nsw-2042-17151662', 'https://www.domain.com.au/18-liney-st-clemton-park-campsie-nsw-2194-17151658', 'https://www.domain.com.au/18-liney-street-clemton-park-nsw-2206-17151656', 'https://www.domain.com.au/14-trebbiano-dr-cessnock-nsw-2325-17151654']\n"
     ]
    }
   ],
   "source": [
    "def extract_property_urls_from_files(file_paths):\n",
    "    '''\n",
    "        This function is used to extract the property urls from xml files.\n",
    "        And return list of urls.\n",
    "    '''\n",
    "\n",
    "    all_urls = []\n",
    "    path = '../data/raw/internal/rent_listing/'\n",
    "\n",
    "    for file_path in file_paths:\n",
    "        # Read the file\n",
    "        with open(path+file_path, 'r', encoding='utf-8') as file:\n",
    "            content = file.read()\n",
    "\n",
    "        # Pattern to match urls\n",
    "        pattern = r\"https://www\\.domain\\.com\\.au/\\d+-[a-z0-9-]+\"\n",
    "\n",
    "        # Find all matching urls\n",
    "        urls = re.findall(pattern, content)\n",
    "        \n",
    "        # Add found urls to the combined list\n",
    "        all_urls.extend(urls)\n",
    "\n",
    "    return all_urls\n",
    "\n",
    "# File names of rent listing that downloaded manually.\n",
    "file_paths = ['sitemap-listings-rent-2024080105.xml','sitemap-listings-rent-2024061102.xml','sitemap-listings-rent-2024051404.xml','sitemap-listings-rent-2024041604.xml','sitemap-listings-rent-2024031803.xml','sitemap-listings-rent-2024021823.xml','sitemap-listings-rent-2023121920.xml','sitemap-listings-rent-2023112202.xml','sitemap-listings-rent-2023102603.xml','sitemap-listings-rent-2023092702.xml']\n",
    "property_urls = extract_property_urls_from_files(file_paths)\n",
    "\n",
    "print(len(property_urls))\n",
    "print(property_urls[:5])"
   ]
  },
  {
   "cell_type": "code",
   "execution_count": 6,
   "metadata": {},
   "outputs": [
    {
     "name": "stdout",
     "output_type": "stream",
     "text": [
      "Rent Properties in VIC:  3277\n"
     ]
    }
   ],
   "source": [
    "# Filter the urls with Victoria state\n",
    "vic_property_urls = [url for url in property_urls if '-vic-' in url.lower()]\n",
    "print(\"Rent Properties in VIC: \",len(vic_property_urls)) "
   ]
  },
  {
   "cell_type": "code",
   "execution_count": 7,
   "metadata": {},
   "outputs": [
    {
     "name": "stdout",
     "output_type": "stream",
     "text": [
      "Valid property ID:  3277\n",
      "['17151652', '17151645', '17151640', '17151631', '15741275']\n"
     ]
    }
   ],
   "source": [
    "def extract_property_id(url):\n",
    "    '''\n",
    "        This function is used to extract the property ID from url,\n",
    "        and return the extracted id.\n",
    "    '''\n",
    "\n",
    "    # Pattern to match ID, last digits are ID\n",
    "    pattern = r'-(\\d+)$' \n",
    "\n",
    "    match = re.search(pattern, url)\n",
    "    if match:\n",
    "        return match.group(1)\n",
    "    else: \n",
    "        print(url)\n",
    "    \n",
    "# Extract the property ID\n",
    "property_ids = [extract_property_id(url) for url in vic_property_urls]\n",
    "\n",
    "print('Valid property ID: ',len(property_ids)) \n",
    "print(property_ids[:5]) "
   ]
  },
  {
   "cell_type": "markdown",
   "metadata": {},
   "source": [
    "## Get Rent Informations From Domain"
   ]
  },
  {
   "cell_type": "code",
   "execution_count": 8,
   "metadata": {},
   "outputs": [],
   "source": [
    "# Ref https://www.youtube.com/watch?v=_OJBOy00IJ0  \n",
    "\n",
    "def get_property_info(property_ids,client_id,client_secret):\n",
    "    ''' \n",
    "        This function is used to get each properties information from Domain website\n",
    "        with client_id and client_secret. And return a list of json file.\n",
    "    '''\n",
    "\n",
    "    # Scope to get data\n",
    "    scopes = ['api_listings_read']\n",
    "    auth_url = 'https://auth.domain.com.au/v1/connect/token'\n",
    "    url_endpoint = 'https://api.domain.com.au/sandbox/v1/listings/'\n",
    "\n",
    "    # Make requests using client_id and client_secret\n",
    "    response = requests.post(auth_url, data = {\n",
    "                        'client_id':client_id,\n",
    "                        'client_secret':client_secret,\n",
    "                        'grant_type':'client_credentials',\n",
    "                        'scope':scopes,\n",
    "                        'Content-Type':'text/json'\n",
    "                        })\n",
    "\n",
    "    # Get access_token\n",
    "    json_res = response.json()\n",
    "    access_token = json_res['access_token']\n",
    "    auth = {'Authorization':'Bearer ' + access_token}\n",
    "\n",
    "    property_data = []\n",
    "\n",
    "    # Make call on each property and get peroperty information\n",
    "    for property_id in property_ids:\n",
    "        url = url_endpoint + property_id\n",
    "        try:\n",
    "            res = requests.get(url, headers=auth)\n",
    "            res.raise_for_status()  \n",
    "            data = res.json()\n",
    "            property_data.append(data)\n",
    "        except requests.exceptions.RequestException as e:\n",
    "            print(f\"Request failed for property ID {property_id}: {e}\")\n",
    "\n",
    "    return property_data\n"
   ]
  },
  {
   "cell_type": "markdown",
   "metadata": {},
   "source": [
    "<div class=\"alert alert-block alert-danger\">\n",
    "<b>ATTENTION:</b> Please do not run this cell more than once per day. <br>Due to the limited number of calls allowed per project each day (a maximum of 500 requests per client_id and client_secret)\n",
    "</div>"
   ]
  },
  {
   "cell_type": "code",
   "execution_count": 9,
   "metadata": {},
   "outputs": [
    {
     "name": "stdout",
     "output_type": "stream",
     "text": [
      "Successfully retirve rows 0 - 499, with length 500\n",
      "Successfully retirve rows 500 - 999, with length 500\n",
      "Successfully retirve rows 1000 - 1499, with length 500\n",
      "Successfully retirve rows 1500 - 1999, with length 500\n",
      "Successfully retirve rows 2000 - 2499, with length 500\n",
      "Successfully retirve rows 2500 - 2999, with length 500\n",
      "Successfully retirve rows 3000-3277, with length 277\n"
     ]
    }
   ],
   "source": [
    "# Runs for more than 10 minutes !!!\n",
    "client_ids = ['client_779c83047fc6ca8f40bc8f438f022a20', 'client_8131a96f4b9788629547fed330289174', 'client_b63adc07b03cfb151228e38bfc7f884a', 'client_337b6d727f0e8cebc52d473dab474d4b', 'client_98434d043f6920a97beed3c6564a8a9f', 'client_b3726f45a4fb88d106fb2e7dce3dfe39', 'client_e30997b3b9d0266799f39f230b725359', 'client_c4b9cea6cb4655b13c8ca915ec2c9ec1', 'client_269a4d07ff5c28ff77388fd783168f18']\n",
    "secrets = ['secret_1a40ba6def78135d7bd368037f406c11', 'secret_7be2046a0900191b37139c4d03a615b4', 'secret_e6cd894a59b48952bdd9103826d73c11', 'secret_eaf458eda5303661594458bb8f079e68', 'secret_1136068dab63b2b287900893dfd0381f', 'secret_01dcf0ef4aa97d9a68cb857dbd1cb775', 'secret_de214f5f742836870d21016d65b03839', 'secret_bca57b96566b5974623601bfe7ed29f0', 'secret_ea7cb4223b4a8184ebdfe55bf5153683']\n",
    "\n",
    "property_data = []\n",
    "LENGTH_PER_CALL = 500\n",
    "\n",
    "# Split ids into 6 parts, each time make 500 call\n",
    "for i in range(6):\n",
    "    property_data1 = get_property_info(property_ids[i*LENGTH_PER_CALL : (i+1)*LENGTH_PER_CALL], client_ids[i], secrets[i])\n",
    "    print(f'Successfully retirve rows {i*LENGTH_PER_CALL} - {(i+1)*LENGTH_PER_CALL-1}, with length {len(property_data1)}')\n",
    "    property_data.extend(property_data1)\n",
    "\n",
    "# Get rest rows\n",
    "property_data1 = get_property_info(property_ids[3000:],client_ids[i+1],secrets[i+1])\n",
    "print(f'Successfully retirve rows {3000}-{len(property_ids)}, with length {len(property_data1)}')\n",
    "property_data.extend(property_data1)\n"
   ]
  },
  {
   "cell_type": "code",
   "execution_count": 12,
   "metadata": {},
   "outputs": [
    {
     "data": {
      "text/plain": [
       "3277"
      ]
     },
     "execution_count": 12,
     "metadata": {},
     "output_type": "execute_result"
    }
   ],
   "source": [
    "# Write into json file for later cleaning\n",
    "with open(\"../data/raw/internal/rent_info.json\", 'w') as outfile:\n",
    "    json.dump(property_data, outfile, indent=4)\n",
    "\n",
    "# Check size of write in\n",
    "with open('../data/raw/internal/rent_info.json') as f:\n",
    "    rent_info = json.load(f)\n",
    "len(rent_info)"
   ]
  }
 ],
 "metadata": {
  "kernelspec": {
   "display_name": "base",
   "language": "python",
   "name": "python3"
  },
  "language_info": {
   "codemirror_mode": {
    "name": "ipython",
    "version": 3
   },
   "file_extension": ".py",
   "mimetype": "text/x-python",
   "name": "python",
   "nbconvert_exporter": "python",
   "pygments_lexer": "ipython3",
   "version": "3.11.5"
  }
 },
 "nbformat": 4,
 "nbformat_minor": 2
}
