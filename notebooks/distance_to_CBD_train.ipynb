{
 "cells": [
  {
   "cell_type": "markdown",
   "metadata": {},
   "source": [
    "# Calculate distance to CBD and minimum distance and duration to train station"
   ]
  },
  {
   "cell_type": "markdown",
   "metadata": {},
   "source": [
    "This notebook is used to calculate the distance to Melbourne CBD with latitude and longitude coordinates are: [-37.840935, 144.946457](https://www.latlong.net/place/melbourne-vic-australia-27235.html) for each rental property."
   ]
  },
  {
   "cell_type": "code",
   "execution_count": 92,
   "metadata": {},
   "outputs": [],
   "source": [
    "import pandas as pd\n",
    "import openrouteservice as ors\n",
    "import numpy as np\n",
    "import math\n",
    "import time"
   ]
  },
  {
   "cell_type": "code",
   "execution_count": 93,
   "metadata": {},
   "outputs": [],
   "source": [
    "# Limitation of 40 calls per minutes, 500 calls per day\n",
    "# coord(lng,lat)\n",
    "def cal_CBD_distance_duration(coordinates, client):\n",
    "    ''' \n",
    "    This function calculates the driving distance and duration from rental locations to the Melbourne CBD.\n",
    "    It recieves A list of coordinates in the form [(lng, lat), ..., (lng, lat)],  where the first coordinate in the list \n",
    "    represents the Melbourne CBD location.\n",
    "    Returns a list of distances(m) and durations(sec) for each route from the rental locations to the Melbourne CBD.\n",
    "    '''\n",
    "    matrix = client.distance_matrix(\n",
    "        locations=coordinates,\n",
    "        destinations = [0],\n",
    "        profile='driving-car',\n",
    "        metrics=['distance', 'duration'], \n",
    "        validate=False,\n",
    "    )\n",
    "    return matrix['distances'], matrix['durations']"
   ]
  },
  {
   "cell_type": "code",
   "execution_count": 94,
   "metadata": {},
   "outputs": [
    {
     "name": "stdout",
     "output_type": "stream",
     "text": [
      "2963\n"
     ]
    }
   ],
   "source": [
    "rent_df = pd.read_csv(\"../data/curated/rent_cleaned.csv\")\n",
    "\n",
    "MEL_CBD_COOR = [(144.962646, -37.810272)]\n",
    "locations = MEL_CBD_COOR + list(zip(rent_df['longitude'],rent_df['latitude'])) \n",
    "print(len(locations))"
   ]
  },
  {
   "cell_type": "code",
   "execution_count": 95,
   "metadata": {},
   "outputs": [],
   "source": [
    "client = ors.Client(key='5b3ce3597851110001cf6248c37b113ef7624ea4afac15bc7da77cc6')\n",
    "distances, duractions = cal_CBD_distance_duration(locations, client) # Run for 5s"
   ]
  },
  {
   "cell_type": "code",
   "execution_count": 96,
   "metadata": {},
   "outputs": [
    {
     "data": {
      "text/html": [
       "<div>\n",
       "<style scoped>\n",
       "    .dataframe tbody tr th:only-of-type {\n",
       "        vertical-align: middle;\n",
       "    }\n",
       "\n",
       "    .dataframe tbody tr th {\n",
       "        vertical-align: top;\n",
       "    }\n",
       "\n",
       "    .dataframe thead th {\n",
       "        text-align: right;\n",
       "    }\n",
       "</style>\n",
       "<table border=\"1\" class=\"dataframe\">\n",
       "  <thead>\n",
       "    <tr style=\"text-align: right;\">\n",
       "      <th></th>\n",
       "      <th>min_dist</th>\n",
       "      <th>min_dur</th>\n",
       "    </tr>\n",
       "  </thead>\n",
       "  <tbody>\n",
       "    <tr>\n",
       "      <th>0</th>\n",
       "      <td>77980.16</td>\n",
       "      <td>4052.63</td>\n",
       "    </tr>\n",
       "    <tr>\n",
       "      <th>1</th>\n",
       "      <td>18463.67</td>\n",
       "      <td>1724.63</td>\n",
       "    </tr>\n",
       "    <tr>\n",
       "      <th>2</th>\n",
       "      <td>38993.27</td>\n",
       "      <td>2457.46</td>\n",
       "    </tr>\n",
       "    <tr>\n",
       "      <th>3</th>\n",
       "      <td>50375.36</td>\n",
       "      <td>2703.94</td>\n",
       "    </tr>\n",
       "    <tr>\n",
       "      <th>4</th>\n",
       "      <td>15235.71</td>\n",
       "      <td>1499.86</td>\n",
       "    </tr>\n",
       "  </tbody>\n",
       "</table>\n",
       "</div>"
      ],
      "text/plain": [
       "   min_dist  min_dur\n",
       "0  77980.16  4052.63\n",
       "1  18463.67  1724.63\n",
       "2  38993.27  2457.46\n",
       "3  50375.36  2703.94\n",
       "4  15235.71  1499.86"
      ]
     },
     "execution_count": 96,
     "metadata": {},
     "output_type": "execute_result"
    }
   ],
   "source": [
    "# Flatten the list of lists into a single list\n",
    "flattened_distances = [item[0] for item in distances]\n",
    "flattened_durations = [item[0] for item in duractions]\n",
    "\n",
    "# Assign the flattened list to a new column in rent_df\n",
    "dist_cbd = flattened_distances[1:] # Exclude first element, distance from CBD to CBD \n",
    "dur_cbd = flattened_durations[1:] # Exclude first element, duration from CBD to CBD \n",
    "\n",
    "results_df = pd.DataFrame({\n",
    "    'min_dist': dist_cbd,\n",
    "    'min_dur': dur_cbd\n",
    "}, index=rent_df.index)  # Adjust index to match rental properties\n",
    "\n",
    "results_df.to_csv(\"../data/curated/dist_dur_to_cbd.csv\")\n",
    "results_df.head()\n"
   ]
  },
  {
   "cell_type": "markdown",
   "metadata": {},
   "source": [
    "## Train Station"
   ]
  },
  {
   "cell_type": "code",
   "execution_count": 56,
   "metadata": {},
   "outputs": [],
   "source": [
    "def cal_distance_to_train(coordinates_list, client):\n",
    "    matrix = client.distance_matrix(\n",
    "            locations=coordinates_list,\n",
    "            destinations= list(range(10)),\n",
    "            profile='driving-car',\n",
    "            metrics=['distance', 'duration'],\n",
    "            validate=False,\n",
    "        )\n",
    "    return  matrix['distances'], matrix['durations']\n"
   ]
  },
  {
   "cell_type": "markdown",
   "metadata": {},
   "source": [
    " 10 records of rental properties runs for 2.5s, use 1 quota"
   ]
  },
  {
   "cell_type": "code",
   "execution_count": 87,
   "metadata": {},
   "outputs": [
    {
     "name": "stdout",
     "output_type": "stream",
     "text": [
      "Pausing for 60 seconds to comply with API call limits.\n",
      "Pausing for 60 seconds to comply with API call limits.\n",
      "Pausing for 60 seconds to comply with API call limits.\n",
      "Pausing for 60 seconds to comply with API call limits.\n",
      "Pausing for 60 seconds to comply with API call limits.\n",
      "Pausing for 60 seconds to comply with API call limits.\n",
      "Pausing for 60 seconds to comply with API call limits.\n"
     ]
    }
   ],
   "source": [
    "# client = ors.Client(key='5b3ce3597851110001cf6248c37b113ef7624ea4afac15bc7da77cc6') \n",
    "client = ors.Client(key='5b3ce3597851110001cf6248c37fdbcdaf554d519ed7b85241426f38')\n",
    "\n",
    "train = pd.read_csv(\"../data/raw/external/train_station/metropolitan_train_location_2023.csv\")\n",
    "train_stations = list(zip(train['Stop_long'], train['Stop_lat']))\n",
    "\n",
    "min_distances = []\n",
    "min_durations = []\n",
    "\n",
    "api_calls = 0\n",
    "max_calls_per_batch = 40\n",
    "\n",
    "for i in range(0,len(rent_df),10):\n",
    "\n",
    "    df = rent_df[i:i+10]\n",
    "    all_coordinates = [(rental['longitude'], rental['latitude']) for _, rental in df.iterrows()] + train_stations\n",
    "    \n",
    "    distances, durations = cal_distance_to_train(all_coordinates,client)\n",
    "\n",
    "    dist_df = pd.DataFrame(distances)\n",
    "    dur_df = pd.DataFrame(durations)\n",
    "\n",
    "    dist_df_filtered = dist_df.iloc[10:, :]  \n",
    "    dur_df_filtered = dur_df.iloc[10:, :] \n",
    "\n",
    "    min_distances.extend(dist_df_filtered.apply(lambda row: min(row), axis=0))\n",
    "    min_durations.extend(dur_df_filtered.apply(lambda row: min(row), axis=0))\n",
    "\n",
    "    api_calls += 1\n",
    "\n",
    "    if api_calls % max_calls_per_batch == 0:\n",
    "        print(f\"Pausing for 60 seconds to comply with API call limits.\")\n",
    "        time.sleep(60)"
   ]
  },
  {
   "cell_type": "code",
   "execution_count": 88,
   "metadata": {},
   "outputs": [
    {
     "name": "stdout",
     "output_type": "stream",
     "text": [
      "2962\n"
     ]
    }
   ],
   "source": [
    "# Last call of function only has 2 rental properties, and rest 8 are about train distance, hence exclude them\n",
    "rent_min_distances = min_distances[:-8]\n",
    "rent_min_durations = min_durations[:-8]\n",
    "print(len(rent_min_distances))"
   ]
  },
  {
   "cell_type": "code",
   "execution_count": 91,
   "metadata": {},
   "outputs": [
    {
     "data": {
      "text/html": [
       "<div>\n",
       "<style scoped>\n",
       "    .dataframe tbody tr th:only-of-type {\n",
       "        vertical-align: middle;\n",
       "    }\n",
       "\n",
       "    .dataframe tbody tr th {\n",
       "        vertical-align: top;\n",
       "    }\n",
       "\n",
       "    .dataframe thead th {\n",
       "        text-align: right;\n",
       "    }\n",
       "</style>\n",
       "<table border=\"1\" class=\"dataframe\">\n",
       "  <thead>\n",
       "    <tr style=\"text-align: right;\">\n",
       "      <th></th>\n",
       "      <th>min_dist</th>\n",
       "      <th>min_dur</th>\n",
       "    </tr>\n",
       "  </thead>\n",
       "  <tbody>\n",
       "    <tr>\n",
       "      <th>0</th>\n",
       "      <td>18581.67</td>\n",
       "      <td>1267.66</td>\n",
       "    </tr>\n",
       "    <tr>\n",
       "      <th>1</th>\n",
       "      <td>1974.77</td>\n",
       "      <td>216.90</td>\n",
       "    </tr>\n",
       "    <tr>\n",
       "      <th>2</th>\n",
       "      <td>4148.63</td>\n",
       "      <td>529.58</td>\n",
       "    </tr>\n",
       "    <tr>\n",
       "      <th>3</th>\n",
       "      <td>3284.04</td>\n",
       "      <td>480.19</td>\n",
       "    </tr>\n",
       "    <tr>\n",
       "      <th>4</th>\n",
       "      <td>2387.93</td>\n",
       "      <td>260.07</td>\n",
       "    </tr>\n",
       "  </tbody>\n",
       "</table>\n",
       "</div>"
      ],
      "text/plain": [
       "   min_dist  min_dur\n",
       "0  18581.67  1267.66\n",
       "1   1974.77   216.90\n",
       "2   4148.63   529.58\n",
       "3   3284.04   480.19\n",
       "4   2387.93   260.07"
      ]
     },
     "execution_count": 91,
     "metadata": {},
     "output_type": "execute_result"
    }
   ],
   "source": [
    "# Store them into a ddataframe\n",
    "results_df = pd.DataFrame({\n",
    "    'min_dist': rent_min_distances,\n",
    "    'min_dur': rent_min_durations\n",
    "}, index=rent_df.index)  # Adjust index to match rental properties\n",
    "results_df.to_csv(\"../data/curated/min_dist_dur_nearest_train.csv\")\n",
    "results_df.head()"
   ]
  }
 ],
 "metadata": {
  "kernelspec": {
   "display_name": "base",
   "language": "python",
   "name": "python3"
  },
  "language_info": {
   "codemirror_mode": {
    "name": "ipython",
    "version": 3
   },
   "file_extension": ".py",
   "mimetype": "text/x-python",
   "name": "python",
   "nbconvert_exporter": "python",
   "pygments_lexer": "ipython3",
   "version": "3.11.5"
  }
 },
 "nbformat": 4,
 "nbformat_minor": 2
}
