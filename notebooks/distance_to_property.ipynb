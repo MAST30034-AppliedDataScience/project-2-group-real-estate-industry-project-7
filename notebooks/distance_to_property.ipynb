{
 "cells": [
  {
   "cell_type": "code",
   "execution_count": 3,
   "metadata": {},
   "outputs": [
    {
     "name": "stdout",
     "output_type": "stream",
     "text": [
      "     Stop_ID                                        Stop_name   latitude  \\\n",
      "207    19842                                Melbourne Central -37.809939   \n",
      "209    19854                                  Flinders Street -37.818305   \n",
      "206    19841                                        Flagstaff -37.811981   \n",
      "208    19843                                       Parliament -37.811054   \n",
      "315    64408  Southern Cross Railway Station (Melbourne City) -37.818245   \n",
      "213    22180                                   Southern Cross -37.817936   \n",
      "212    19979                                         Jolimont -37.816527   \n",
      "211    19973                                  North Melbourne -37.806310   \n",
      "137    19978                                    West Richmond -37.814949   \n",
      "136    19977                                   North Richmond -37.810398   \n",
      "\n",
      "      longitude  distance  \n",
      "207  144.962593  0.408811  \n",
      "209  144.966964  0.623303  \n",
      "206  144.955654  0.679847  \n",
      "208  144.972911  0.908948  \n",
      "315  144.951691  1.129153  \n",
      "213  144.951411  1.136202  \n",
      "212  144.984098  1.877280  \n",
      "211  144.941510  2.066198  \n",
      "137  144.991423  2.498412  \n",
      "136  144.992500  2.613154  \n"
     ]
    }
   ],
   "source": [
    "########   Calculate the 10 nearest park/school/train station to your property  ########### \n",
    "#integrate the following code to your code\n",
    "from top_10_nearest import LocationFinder \n",
    "finder = LocationFinder()\n",
    "\n",
    "train_path = \"../data/curated/train_station_cleaned.csv\"  # you can change it to the school or park .csv file directory\n",
    "\n",
    "# Find the top 10 nearest locations to the given latitude and longitude\n",
    "#finder.top_10_nearest(property_latitude, property_longitude, path to your park/train/school .csv file)\n",
    "top_10_df = finder.top_10_nearest(-37.8136, 144.9631,train_path)\n",
    "print(top_10_df)"
   ]
  }
 ],
 "metadata": {
  "kernelspec": {
   "display_name": "Python 3",
   "language": "python",
   "name": "python3"
  },
  "language_info": {
   "codemirror_mode": {
    "name": "ipython",
    "version": 3
   },
   "file_extension": ".py",
   "mimetype": "text/x-python",
   "name": "python",
   "nbconvert_exporter": "python",
   "pygments_lexer": "ipython3",
   "version": "3.11.9"
  }
 },
 "nbformat": 4,
 "nbformat_minor": 2
}
