{
 "cells": [
  {
   "cell_type": "markdown",
   "metadata": {},
   "source": [
    "This notebook download all external dataset used for this project"
   ]
  },
  {
   "cell_type": "markdown",
   "metadata": {},
   "source": [
    "1. VIC school location data 2020 - 2023\n",
    "2. VIC park & reserve location data (latest)\n",
    "3. VIC train station location data 2023 (latest)\n",
    "4. VIC population data 2021 (latest)\n",
    "5. VIC annual income by region data 2016 - 2020 (latest)"
   ]
  },
  {
   "cell_type": "code",
   "execution_count": 2,
   "metadata": {},
   "outputs": [],
   "source": [
    "from pathlib import Path\n",
    "import requests\n",
    "import zipfile"
   ]
  },
  {
   "cell_type": "code",
   "execution_count": 4,
   "metadata": {},
   "outputs": [],
   "source": [
    "# Creat external data directory\n",
    "data_folder = Path.cwd().parent / 'data'\n",
    "school_dir = data_folder / 'raw' / 'external' / 'school'\n",
    "park_dir = data_folder / 'raw' / 'external' / 'park'\n",
    "train_station_dir = data_folder / 'raw' / 'external' / 'train_station'\n",
    "population_dir = data_folder / 'raw' / 'external' / 'population'\n",
    "income_dir = data_folder / 'raw' / 'external' / 'income'\n",
    "\n",
    "\n",
    "\n",
    "school_dir.mkdir(parents=True, exist_ok=True)\n",
    "park_dir.mkdir(parents=True, exist_ok=True)\n",
    "train_station_dir.mkdir(parents=True, exist_ok=True)\n",
    "population_dir.mkdir(parents=True, exist_ok=True)\n",
    "income_dir.mkdir(parents=True, exist_ok=True)\n",
    "\n",
    "\n"
   ]
  },
  {
   "cell_type": "markdown",
   "metadata": {},
   "source": [
    "1. Download VIC school location data 2020 - 2023"
   ]
  },
  {
   "cell_type": "code",
   "execution_count": 3,
   "metadata": {},
   "outputs": [
    {
     "name": "stdout",
     "output_type": "stream",
     "text": [
      "school_location_2020.csv downloaded and saved to c:\\Users\\29557\\Documents\\GitHub\\project-2-group-real-estate-industry-project-7\\data\\raw\\external\\school\\school_location_2020.csv \n",
      "school_location_2021.csv downloaded and saved to c:\\Users\\29557\\Documents\\GitHub\\project-2-group-real-estate-industry-project-7\\data\\raw\\external\\school\\school_location_2021.csv \n",
      "school_location_2022.csv downloaded and saved to c:\\Users\\29557\\Documents\\GitHub\\project-2-group-real-estate-industry-project-7\\data\\raw\\external\\school\\school_location_2022.csv \n",
      "school_location_2023.csv downloaded and saved to c:\\Users\\29557\\Documents\\GitHub\\project-2-group-real-estate-industry-project-7\\data\\raw\\external\\school\\school_location_2023.csv \n"
     ]
    }
   ],
   "source": [
    "# Download school location data 2020-2023\n",
    "\n",
    "files = [\n",
    "    (\"https://www.education.vic.gov.au/Documents/about/research/datavic/dv296-schoollocations2020.csv\", \"school_location_2020.csv\", school_dir / \"school_location_2020.csv\"),\n",
    "    (\"https://www.education.vic.gov.au/Documents/about/research/datavic/dv309_schoollocations2021.csv\", \"school_location_2021.csv\", school_dir / \"school_location_2021.csv\"),\n",
    "    (\"https://www.education.vic.gov.au/Documents/about/research/datavic/dv331_schoollocations2022.csv\", \"school_location_2022.csv\",school_dir / \"school_location_2022.csv\"),\n",
    "    (\"https://www.education.vic.gov.au/Documents/about/research/datavic/dv346-schoollocations2023.csv\", \"school_location_2023.csv\",school_dir / \"school_location_2023.csv\")\n",
    "]\n",
    "\n",
    "\n",
    "for url, file_name, destination in files:\n",
    "    response = requests.get(url)\n",
    "    response.raise_for_status()  \n",
    "    \n",
    "    with open(destination, 'wb') as f:\n",
    "        f.write(response.content)\n",
    "\n",
    "    print(f\"{file_name} downloaded and saved to {destination} \")\n"
   ]
  },
  {
   "cell_type": "markdown",
   "metadata": {},
   "source": [
    "2. Download VIC park & reserve location data"
   ]
  },
  {
   "cell_type": "code",
   "execution_count": 7,
   "metadata": {},
   "outputs": [
    {
     "name": "stdout",
     "output_type": "stream",
     "text": [
      "park_reserve.zip downloaded and saved to c:\\Users\\29557\\Documents\\GitHub\\project-2-group-real-estate-industry-project-7\\data\\raw\\external\\park\\park_reserve.zip\n",
      "File unzipped to c:\\Users\\29557\\Documents\\GitHub\\project-2-group-real-estate-industry-project-7\\data\\raw\\external\\park\\park_reserve\n"
     ]
    }
   ],
   "source": [
    "import requests\n",
    "from pathlib import Path\n",
    "import zipfile\n",
    "\n",
    "# Define the paths\n",
    "zip_folder = park_dir / 'park_reserve'\n",
    "park_file = 'park_reserve.zip'\n",
    "park_file_path = park_dir / park_file\n",
    "\n",
    "# URL of the park reserve zip file\n",
    "url = \"https://s3.ap-southeast-2.amazonaws.com/cl-isd-prd-datashare-s3-delivery/Order_3QOIU3.zip\"\n",
    "\n",
    "# Ensure the directories exist\n",
    "park_dir.mkdir(parents=True, exist_ok=True)\n",
    "zip_folder.mkdir(parents=True, exist_ok=True)\n",
    "\n",
    "# Download the file and save it to the park_dir\n",
    "response = requests.get(url)\n",
    "response.raise_for_status()  # Check for successful download\n",
    "\n",
    "with open(park_file_path, 'wb') as f:\n",
    "    f.write(response.content)\n",
    "\n",
    "print(f\"{park_file} downloaded and saved to {park_file_path}\")\n",
    "\n",
    "# Unzip the file into the zip_folder\n",
    "with zipfile.ZipFile(park_file_path, 'r') as zip_ref:\n",
    "    zip_ref.extractall(zip_folder)\n",
    "\n",
    "print(f\"File unzipped to {zip_folder}\")\n",
    "\n",
    "\n"
   ]
  },
  {
   "cell_type": "markdown",
   "metadata": {},
   "source": [
    "3. Download VIC train station location data"
   ]
  },
  {
   "cell_type": "code",
   "execution_count": 8,
   "metadata": {},
   "outputs": [
    {
     "name": "stdout",
     "output_type": "stream",
     "text": [
      "metropolitan_train_location_2023.csv downloaded and saved to c:\\Users\\29557\\Documents\\GitHub\\project-2-group-real-estate-industry-project-7\\data\\raw\\external\\train_station\\metropolitan_train_location_2023.csv \n",
      "regional_train_location_2023.csv downloaded and saved to c:\\Users\\29557\\Documents\\GitHub\\project-2-group-real-estate-industry-project-7\\data\\raw\\external\\train_station\\regional_train_location_2023.csv \n"
     ]
    }
   ],
   "source": [
    "files = [\n",
    "\n",
    "    \n",
    "    (\"https://vicroadsopendatastorehouse.vicroads.vic.gov.au/opendata/Public_Transport/Patronage/Annual_metropolitan_train_station_entries/Annual_Metropolitan_Train_Station_Entries_2023-24.csv\", \"metropolitan_train_location_2023.csv\", train_station_dir / \"metropolitan_train_location_2023.csv\"),\n",
    "    (\"https://vicroadsopendatastorehouse.vicroads.vic.gov.au/opendata/Public_Transport/Patronage/Annual%20regional%20train%20station%20entries/Annual_Regional_Train_Station_Entries_2023-24.csv\", \"regional_train_location_2023.csv\", train_station_dir / \"regional_train_location_2023.csv\"),\n",
    "    \n",
    "]\n",
    "\n",
    "# add to above files variable to download past years train station data\n",
    "#    (\"https://vicroadsopendatastorehouse.vicroads.vic.gov.au/opendata/Public_Transport/Patronage/Annual%20metropolitan%20train%20station%20entries/Annual%20metropolitan%20train%20station%20entries%202020-21.csv\", \"metropolitan_train_location_2020.csv\", train_station_dir / \"metropolitan_train_location_2020.csv\"),\n",
    "#    (\"https://vicroadsopendatastorehouse.vicroads.vic.gov.au/opendata/Public_Transport/Patronage/Annual%20regional%20train%20station%20entries/Annual%20regional%20train%20station%20entries%202020-21.csv\", \"regional_train_location_2020.csv\", train_station_dir / \"regional_train_location_2020.csv\"),\n",
    "    \n",
    "#    (\"https://vicroadsopendatastorehouse.vicroads.vic.gov.au/opendata/Public_Transport/Patronage/Annual%20metropolitan%20train%20station%20entries/Annual%20metropolitan%20train%20station%20entries%202021-22.csv\", \"metropolitan_train_location_2021.csv\", train_station_dir / \"metropolitan_train_location_2021.csv\"),\n",
    "#    (\"https://vicroadsopendatastorehouse.vicroads.vic.gov.au/opendata/Public_Transport/Patronage/Annual%20regional%20train%20station%20entries/Annual%20regional%20train%20station%20entries%202021-22.csv\", \"regional_train_location_2021.csv\", train_station_dir / \"regional_train_location_2021.csv\"),\n",
    "    \n",
    "#    (\"https://vicroadsopendatastorehouse.vicroads.vic.gov.au/opendata/Public_Transport/Patronage/Annual_metropolitan_train_station_entries/Annual_metropolitan_train_station_entries_2022_23.csv\", \"metropolitan_train_location_2022.csv\", train_station_dir / \"metropolitan_train_location_2022.csv\"),\n",
    "#    (\"https://vicroadsopendatastorehouse.vicroads.vic.gov.au/opendata/Public_Transport/Patronage/Annual%20regional%20train%20station%20entries/Annual%20regional%20train%20station%20entries%202022-23.csv\", \"regional_train_location_2022.csv\", train_station_dir / \"regional_train_location_2022.csv\"),\n",
    "\n",
    "\n",
    "for url, file_name ,destination in files:\n",
    "    response = requests.get(url)\n",
    "    response.raise_for_status()  \n",
    "    \n",
    "    with open(destination, 'wb') as f:\n",
    "        f.write(response.content)\n",
    "\n",
    "    print(f\"{file_name} downloaded and saved to {destination} \")"
   ]
  },
  {
   "cell_type": "markdown",
   "metadata": {},
   "source": [
    "4. Download VIC population data 2021"
   ]
  },
  {
   "cell_type": "code",
   "execution_count": 9,
   "metadata": {},
   "outputs": [
    {
     "name": "stdout",
     "output_type": "stream",
     "text": [
      "population_2021.zip downloaded and saved to c:\\Users\\29557\\Documents\\GitHub\\project-2-group-real-estate-industry-project-7\\data\\raw\\external\\population\\population_2021.zip\n",
      "population_2021.zip unzipped and files extracted to c:\\Users\\29557\\Documents\\GitHub\\project-2-group-real-estate-industry-project-7\\data\\raw\\external\\population\\population_2021\n"
     ]
    }
   ],
   "source": [
    "#Download population data\n",
    "url = \"https://www.abs.gov.au/census/find-census-data/datapacks/download/2021_GCP_STE_for_VIC_short-header.zip\"\n",
    "file_name = \"population_2021.zip\"\n",
    "destination = population_dir / file_name\n",
    "response = requests.get(url)\n",
    "response.raise_for_status()  \n",
    "\n",
    "with open(destination, 'wb') as f:\n",
    "    f.write(response.content)\n",
    "\n",
    "print(f\"{file_name} downloaded and saved to {destination}\")\n",
    "\n",
    "#Unzip the file\n",
    "extraction_path = population_dir / \"population_2021\"\n",
    "extraction_path.mkdir(parents=True, exist_ok=True)\n",
    "\n",
    "with zipfile.ZipFile(destination, 'r') as zip_ref:\n",
    "    zip_ref.extractall(extraction_path)\n",
    "\n",
    "print(f\"{file_name} unzipped and files extracted to {extraction_path}\")"
   ]
  },
  {
   "cell_type": "markdown",
   "metadata": {},
   "source": [
    "5. VIC annual income by region data 2016 - 2020 (latest)"
   ]
  },
  {
   "cell_type": "code",
   "execution_count": 10,
   "metadata": {},
   "outputs": [
    {
     "name": "stdout",
     "output_type": "stream",
     "text": [
      "income_2016_2020.xlsx downloaded and saved to c:\\Users\\29557\\Documents\\GitHub\\project-2-group-real-estate-industry-project-7\\data\\raw\\external\\income\\income_2016_2020.xlsx\n"
     ]
    }
   ],
   "source": [
    "# Download annual income data 1016 - 2020\n",
    "url = \"https://www.abs.gov.au/statistics/labour/earnings-and-working-conditions/personal-income-australia/2020-21-financial-year/Table%201%20-%20Total%20income%2C%20earners%20and%20summary%20statistics%20by%20geography%2C%202016-17%20to%202020-21.xlsx\"\n",
    "file_name = \"income_2016_2020.xlsx\"\n",
    "destination = income_dir / file_name\n",
    "response = requests.get(url)\n",
    "response.raise_for_status()  \n",
    "\n",
    "with open(destination, 'wb') as f:\n",
    "    f.write(response.content)\n",
    "\n",
    "print(f\"{file_name} downloaded and saved to {destination}\")"
   ]
  }
 ],
 "metadata": {
  "kernelspec": {
   "display_name": "Python 3",
   "language": "python",
   "name": "python3"
  },
  "language_info": {
   "codemirror_mode": {
    "name": "ipython",
    "version": 3
   },
   "file_extension": ".py",
   "mimetype": "text/x-python",
   "name": "python",
   "nbconvert_exporter": "python",
   "pygments_lexer": "ipython3",
   "version": "3.11.9"
  }
 },
 "nbformat": 4,
 "nbformat_minor": 2
}
