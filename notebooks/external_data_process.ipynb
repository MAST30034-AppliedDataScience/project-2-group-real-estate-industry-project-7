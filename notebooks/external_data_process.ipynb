{
 "cells": [
  {
   "cell_type": "code",
   "execution_count": 2,
   "metadata": {},
   "outputs": [],
   "source": [
    "import pandas as pd\n",
    "import geopandas as gpd\n",
    "import warnings\n",
    "warnings.filterwarnings(\"ignore\", category=pd.errors.SettingWithCopyWarning)"
   ]
  },
  {
   "cell_type": "markdown",
   "metadata": {},
   "source": [
    "# 1. school location processing"
   ]
  },
  {
   "cell_type": "code",
   "execution_count": 3,
   "metadata": {},
   "outputs": [],
   "source": [
    "school_dt_2020 = pd.read_csv('../data/raw/external/school/school_location_2020.csv')\n",
    "school_dt_2021 = pd.read_csv('../data/raw/external/school/school_location_2021.csv', encoding='cp1252')\n",
    "school_dt_2022 = pd.read_csv('../data/raw/external/school/school_location_2022.csv', encoding='cp1252')\n",
    "school_dt_2023 = pd.read_csv('../data/raw/external/school/school_location_2023.csv', encoding='cp1252')"
   ]
  },
  {
   "cell_type": "code",
   "execution_count": 38,
   "metadata": {},
   "outputs": [],
   "source": [
    "#select needed features\n",
    "names = ['2020','2021','2022','2023']\n",
    "columns = ['School_Name','School_Type','Address_Line_1','Address_Town','Address_Postcode','Address_State','LGA_ID','LGA_Name','X','Y']\n",
    "school_data = {}\n",
    "\n",
    "for name in names:\n",
    "    school_data[name] = locals()[f'school_dt_{name}'][columns]\n",
    "\n",
    "#remove whitespace & check null rows\n",
    "nun_rows = {}\n",
    "for name in names:\n",
    "    school_data[name].replace(\"\", float(\"NaN\"), inplace=True)\n",
    "    nun_rows[name] = school_data[name].isnull().sum().sort_values(ascending = False)"
   ]
  },
  {
   "cell_type": "code",
   "execution_count": 39,
   "metadata": {},
   "outputs": [
    {
     "data": {
      "text/plain": [
       "School_Name         0\n",
       "School_Type         0\n",
       "Address_Line_1      0\n",
       "Address_Town        0\n",
       "Address_Postcode    0\n",
       "Address_State       0\n",
       "LGA_ID              0\n",
       "LGA_Name            0\n",
       "X                   0\n",
       "Y                   0\n",
       "dtype: int64"
      ]
     },
     "execution_count": 39,
     "metadata": {},
     "output_type": "execute_result"
    }
   ],
   "source": [
    "nun_rows['2020']"
   ]
  },
  {
   "cell_type": "code",
   "execution_count": 40,
   "metadata": {},
   "outputs": [
    {
     "data": {
      "text/plain": [
       "School_Name         0\n",
       "School_Type         0\n",
       "Address_Line_1      0\n",
       "Address_Town        0\n",
       "Address_Postcode    0\n",
       "Address_State       0\n",
       "LGA_ID              0\n",
       "LGA_Name            0\n",
       "X                   0\n",
       "Y                   0\n",
       "dtype: int64"
      ]
     },
     "execution_count": 40,
     "metadata": {},
     "output_type": "execute_result"
    }
   ],
   "source": [
    "nun_rows['2021']"
   ]
  },
  {
   "cell_type": "code",
   "execution_count": 41,
   "metadata": {},
   "outputs": [
    {
     "data": {
      "text/plain": [
       "X                   1\n",
       "Y                   1\n",
       "School_Name         0\n",
       "School_Type         0\n",
       "Address_Line_1      0\n",
       "Address_Town        0\n",
       "Address_Postcode    0\n",
       "Address_State       0\n",
       "LGA_ID              0\n",
       "LGA_Name            0\n",
       "dtype: int64"
      ]
     },
     "execution_count": 41,
     "metadata": {},
     "output_type": "execute_result"
    }
   ],
   "source": [
    "nun_rows['2022']"
   ]
  },
  {
   "cell_type": "code",
   "execution_count": 42,
   "metadata": {},
   "outputs": [
    {
     "data": {
      "text/plain": [
       "X                   1\n",
       "Y                   1\n",
       "School_Name         0\n",
       "School_Type         0\n",
       "Address_Line_1      0\n",
       "Address_Town        0\n",
       "Address_Postcode    0\n",
       "Address_State       0\n",
       "LGA_ID              0\n",
       "LGA_Name            0\n",
       "dtype: int64"
      ]
     },
     "execution_count": 42,
     "metadata": {},
     "output_type": "execute_result"
    }
   ],
   "source": [
    "nun_rows['2023']"
   ]
  },
  {
   "cell_type": "code",
   "execution_count": 43,
   "metadata": {},
   "outputs": [],
   "source": [
    "#save cleaned data\n",
    "for name in names:\n",
    "    school_data[name].to_csv(f'../data/raw/external/school/school_location_{name}.csv')\n"
   ]
  },
  {
   "cell_type": "markdown",
   "metadata": {},
   "source": [
    "# 2. park location data processing"
   ]
  },
  {
   "cell_type": "code",
   "execution_count": 44,
   "metadata": {},
   "outputs": [],
   "source": [
    "park_dt = pd.read_csv('../data/raw/external/park/park_location.csv')"
   ]
  },
  {
   "cell_type": "code",
   "execution_count": 45,
   "metadata": {},
   "outputs": [
    {
     "name": "stdout",
     "output_type": "stream",
     "text": [
      "<bound method Series.sort_values of geo_point_2d    0\n",
      "longitude       0\n",
      "latitude        0\n",
      "postcode        0\n",
      "area            0\n",
      "name            0\n",
      "postcode        0\n",
      "suburb          0\n",
      "projection      0\n",
      "dtype: int64>\n"
     ]
    }
   ],
   "source": [
    "#select needed features\n",
    "park_dt = park_dt[['geo_point_2d','longitude','latitude','postcode','area','name','postcode','suburb','projection']]\n",
    "\n",
    "\n",
    "#remove whitespace & check null rows\n",
    "park_dt.replace(\"\", float(\"NaN\"), inplace=True)\n",
    "null_rows_park = park_dt.isnull().sum().sort_values\n",
    "print(null_rows_park)\n",
    "\n",
    "#save data\n",
    "park_dt.to_csv('../data/raw/external/park/park_location.csv')"
   ]
  },
  {
   "cell_type": "markdown",
   "metadata": {},
   "source": [
    "# 3. Train location data process"
   ]
  },
  {
   "cell_type": "code",
   "execution_count": 3,
   "metadata": {},
   "outputs": [],
   "source": [
    "metropolitan_train_dt = pd.read_csv('../data/raw/external/train_station/metropolitan_train_location_2023.csv')\n",
    "regional_train_dt = pd.read_csv('../data/raw/external/train_station/regional_train_location_2023.csv')"
   ]
  },
  {
   "cell_type": "code",
   "execution_count": 4,
   "metadata": {},
   "outputs": [],
   "source": [
    "#select needed features\n",
    "types = ['metropolitan','regional']\n",
    "columns_train = ['Stop_ID','Stop_name','Stop_lat','Stop_long']\n",
    "train_data = {}\n",
    "\n",
    "for type in types:\n",
    "    train_data[type] = locals()[f'{type}_train_dt'][columns_train]\n",
    "\n",
    "#remove whitespace & check null rows\n",
    "null_train = {}\n",
    "for type in types:\n",
    "    train_data[type].replace(\"\", float(\"NaN\"), inplace=True)\n",
    "    null_train[type] = train_data[type].isnull().sum().sort_values(ascending = False)"
   ]
  },
  {
   "cell_type": "code",
   "execution_count": 5,
   "metadata": {},
   "outputs": [
    {
     "data": {
      "text/plain": [
       "Stop_ID      0\n",
       "Stop_name    0\n",
       "Stop_lat     0\n",
       "Stop_long    0\n",
       "dtype: int64"
      ]
     },
     "execution_count": 5,
     "metadata": {},
     "output_type": "execute_result"
    }
   ],
   "source": [
    "null_train['metropolitan']"
   ]
  },
  {
   "cell_type": "code",
   "execution_count": 6,
   "metadata": {},
   "outputs": [
    {
     "data": {
      "text/plain": [
       "Stop_ID      0\n",
       "Stop_name    0\n",
       "Stop_lat     0\n",
       "Stop_long    0\n",
       "dtype: int64"
      ]
     },
     "execution_count": 6,
     "metadata": {},
     "output_type": "execute_result"
    }
   ],
   "source": [
    "null_train['regional']"
   ]
  },
  {
   "cell_type": "code",
   "execution_count": 7,
   "metadata": {},
   "outputs": [],
   "source": [
    "#save cleaned data\n",
    "for type in types:\n",
    "    train_data[type].to_csv(f'../data/raw/external/train_station/{type}_train_location_2023.csv')"
   ]
  }
 ],
 "metadata": {
  "kernelspec": {
   "display_name": "Python 3 (ipykernel)",
   "language": "python",
   "name": "python3"
  },
  "language_info": {
   "codemirror_mode": {
    "name": "ipython",
    "version": 3
   },
   "file_extension": ".py",
   "mimetype": "text/x-python",
   "name": "python",
   "nbconvert_exporter": "python",
   "pygments_lexer": "ipython3",
   "version": "3.8.10"
  }
 },
 "nbformat": 4,
 "nbformat_minor": 2
}
