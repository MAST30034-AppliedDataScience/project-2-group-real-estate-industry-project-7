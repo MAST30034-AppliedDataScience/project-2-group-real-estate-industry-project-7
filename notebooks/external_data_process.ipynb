{
 "cells": [
  {
   "cell_type": "code",
   "execution_count": 1,
   "metadata": {},
   "outputs": [],
   "source": [
    "import pandas as pd\n",
    "import geopandas as gpd\n",
    "import warnings\n",
    "warnings.filterwarnings(\"ignore\", category=pd.errors.SettingWithCopyWarning)"
   ]
  },
  {
   "cell_type": "markdown",
   "metadata": {},
   "source": [
    "# 1. school location processing"
   ]
  },
  {
   "cell_type": "code",
   "execution_count": 2,
   "metadata": {},
   "outputs": [],
   "source": [
    "school_dt_2020 = pd.read_csv('../data/raw/external/school/school_location_2020.csv')\n",
    "school_dt_2021 = pd.read_csv('../data/raw/external/school/school_location_2021.csv', encoding='cp1252')\n",
    "school_dt_2022 = pd.read_csv('../data/raw/external/school/school_location_2022.csv', encoding='cp1252')\n",
    "school_dt_2023 = pd.read_csv('../data/raw/external/school/school_location_2023.csv', encoding='cp1252')"
   ]
  },
  {
   "cell_type": "code",
   "execution_count": 3,
   "metadata": {},
   "outputs": [],
   "source": [
    "#select needed features\n",
    "names = ['2020','2021','2022','2023']\n",
    "columns = ['School_Name','School_Type','Address_Line_1','Address_Town','Address_Postcode','Address_State','LGA_ID','LGA_Name','X','Y']\n",
    "school_data = {}\n",
    "\n",
    "for name in names:\n",
    "    school_data[name] = locals()[f'school_dt_{name}'][columns]\n",
    "\n",
    "#remove whitespace & check null rows\n",
    "nun_rows = {}\n",
    "for name in names:\n",
    "    school_data[name].replace(\"\", float(\"NaN\"), inplace=True)\n",
    "    nun_rows[name] = school_data[name].isnull().sum().sort_values(ascending = False)"
   ]
  },
  {
   "cell_type": "code",
   "execution_count": 4,
   "metadata": {},
   "outputs": [
    {
     "data": {
      "text/plain": [
       "School_Name         0\n",
       "School_Type         0\n",
       "Address_Line_1      0\n",
       "Address_Town        0\n",
       "Address_Postcode    0\n",
       "Address_State       0\n",
       "LGA_ID              0\n",
       "LGA_Name            0\n",
       "X                   0\n",
       "Y                   0\n",
       "dtype: int64"
      ]
     },
     "execution_count": 4,
     "metadata": {},
     "output_type": "execute_result"
    }
   ],
   "source": [
    "nun_rows['2020']"
   ]
  },
  {
   "cell_type": "code",
   "execution_count": 5,
   "metadata": {},
   "outputs": [
    {
     "data": {
      "text/plain": [
       "School_Name         0\n",
       "School_Type         0\n",
       "Address_Line_1      0\n",
       "Address_Town        0\n",
       "Address_Postcode    0\n",
       "Address_State       0\n",
       "LGA_ID              0\n",
       "LGA_Name            0\n",
       "X                   0\n",
       "Y                   0\n",
       "dtype: int64"
      ]
     },
     "execution_count": 5,
     "metadata": {},
     "output_type": "execute_result"
    }
   ],
   "source": [
    "nun_rows['2021']"
   ]
  },
  {
   "cell_type": "code",
   "execution_count": 6,
   "metadata": {},
   "outputs": [
    {
     "data": {
      "text/plain": [
       "Y                   1\n",
       "X                   1\n",
       "School_Type         0\n",
       "School_Name         0\n",
       "Address_Line_1      0\n",
       "Address_Town        0\n",
       "Address_State       0\n",
       "Address_Postcode    0\n",
       "LGA_Name            0\n",
       "LGA_ID              0\n",
       "dtype: int64"
      ]
     },
     "execution_count": 6,
     "metadata": {},
     "output_type": "execute_result"
    }
   ],
   "source": [
    "nun_rows['2022']"
   ]
  },
  {
   "cell_type": "code",
   "execution_count": 7,
   "metadata": {},
   "outputs": [
    {
     "data": {
      "text/plain": [
       "Y                   1\n",
       "X                   1\n",
       "School_Type         0\n",
       "School_Name         0\n",
       "Address_Line_1      0\n",
       "Address_Town        0\n",
       "Address_State       0\n",
       "Address_Postcode    0\n",
       "LGA_Name            0\n",
       "LGA_ID              0\n",
       "dtype: int64"
      ]
     },
     "execution_count": 7,
     "metadata": {},
     "output_type": "execute_result"
    }
   ],
   "source": [
    "nun_rows['2023']"
   ]
  },
  {
   "cell_type": "code",
   "execution_count": 8,
   "metadata": {},
   "outputs": [],
   "source": [
    "#save cleaned data\n",
    "for name in names:\n",
    "    school_data[name].to_csv(f'../data/curated/school_location_cleaned_{name}.csv')\n"
   ]
  },
  {
   "cell_type": "markdown",
   "metadata": {},
   "source": [
    "# 2. park location data processing"
   ]
  },
  {
   "cell_type": "code",
   "execution_count": 9,
   "metadata": {},
   "outputs": [
    {
     "ename": "FileNotFoundError",
     "evalue": "[Errno 2] No such file or directory: '../data/raw/external/park/park_location.csv'",
     "output_type": "error",
     "traceback": [
      "\u001b[1;31m---------------------------------------------------------------------------\u001b[0m",
      "\u001b[1;31mFileNotFoundError\u001b[0m                         Traceback (most recent call last)",
      "Cell \u001b[1;32mIn[9], line 1\u001b[0m\n\u001b[1;32m----> 1\u001b[0m park_dt \u001b[38;5;241m=\u001b[39m \u001b[43mpd\u001b[49m\u001b[38;5;241;43m.\u001b[39;49m\u001b[43mread_csv\u001b[49m\u001b[43m(\u001b[49m\u001b[38;5;124;43m'\u001b[39;49m\u001b[38;5;124;43m../data/raw/external/park/park_location.csv\u001b[39;49m\u001b[38;5;124;43m'\u001b[39;49m\u001b[43m)\u001b[49m\n",
      "File \u001b[1;32m~\\AppData\\Local\\Packages\\PythonSoftwareFoundation.Python.3.11_qbz5n2kfra8p0\\LocalCache\\local-packages\\Python311\\site-packages\\pandas\\io\\parsers\\readers.py:1026\u001b[0m, in \u001b[0;36mread_csv\u001b[1;34m(filepath_or_buffer, sep, delimiter, header, names, index_col, usecols, dtype, engine, converters, true_values, false_values, skipinitialspace, skiprows, skipfooter, nrows, na_values, keep_default_na, na_filter, verbose, skip_blank_lines, parse_dates, infer_datetime_format, keep_date_col, date_parser, date_format, dayfirst, cache_dates, iterator, chunksize, compression, thousands, decimal, lineterminator, quotechar, quoting, doublequote, escapechar, comment, encoding, encoding_errors, dialect, on_bad_lines, delim_whitespace, low_memory, memory_map, float_precision, storage_options, dtype_backend)\u001b[0m\n\u001b[0;32m   1013\u001b[0m kwds_defaults \u001b[38;5;241m=\u001b[39m _refine_defaults_read(\n\u001b[0;32m   1014\u001b[0m     dialect,\n\u001b[0;32m   1015\u001b[0m     delimiter,\n\u001b[1;32m   (...)\u001b[0m\n\u001b[0;32m   1022\u001b[0m     dtype_backend\u001b[38;5;241m=\u001b[39mdtype_backend,\n\u001b[0;32m   1023\u001b[0m )\n\u001b[0;32m   1024\u001b[0m kwds\u001b[38;5;241m.\u001b[39mupdate(kwds_defaults)\n\u001b[1;32m-> 1026\u001b[0m \u001b[38;5;28;01mreturn\u001b[39;00m \u001b[43m_read\u001b[49m\u001b[43m(\u001b[49m\u001b[43mfilepath_or_buffer\u001b[49m\u001b[43m,\u001b[49m\u001b[43m \u001b[49m\u001b[43mkwds\u001b[49m\u001b[43m)\u001b[49m\n",
      "File \u001b[1;32m~\\AppData\\Local\\Packages\\PythonSoftwareFoundation.Python.3.11_qbz5n2kfra8p0\\LocalCache\\local-packages\\Python311\\site-packages\\pandas\\io\\parsers\\readers.py:620\u001b[0m, in \u001b[0;36m_read\u001b[1;34m(filepath_or_buffer, kwds)\u001b[0m\n\u001b[0;32m    617\u001b[0m _validate_names(kwds\u001b[38;5;241m.\u001b[39mget(\u001b[38;5;124m\"\u001b[39m\u001b[38;5;124mnames\u001b[39m\u001b[38;5;124m\"\u001b[39m, \u001b[38;5;28;01mNone\u001b[39;00m))\n\u001b[0;32m    619\u001b[0m \u001b[38;5;66;03m# Create the parser.\u001b[39;00m\n\u001b[1;32m--> 620\u001b[0m parser \u001b[38;5;241m=\u001b[39m \u001b[43mTextFileReader\u001b[49m\u001b[43m(\u001b[49m\u001b[43mfilepath_or_buffer\u001b[49m\u001b[43m,\u001b[49m\u001b[43m \u001b[49m\u001b[38;5;241;43m*\u001b[39;49m\u001b[38;5;241;43m*\u001b[39;49m\u001b[43mkwds\u001b[49m\u001b[43m)\u001b[49m\n\u001b[0;32m    622\u001b[0m \u001b[38;5;28;01mif\u001b[39;00m chunksize \u001b[38;5;129;01mor\u001b[39;00m iterator:\n\u001b[0;32m    623\u001b[0m     \u001b[38;5;28;01mreturn\u001b[39;00m parser\n",
      "File \u001b[1;32m~\\AppData\\Local\\Packages\\PythonSoftwareFoundation.Python.3.11_qbz5n2kfra8p0\\LocalCache\\local-packages\\Python311\\site-packages\\pandas\\io\\parsers\\readers.py:1620\u001b[0m, in \u001b[0;36mTextFileReader.__init__\u001b[1;34m(self, f, engine, **kwds)\u001b[0m\n\u001b[0;32m   1617\u001b[0m     \u001b[38;5;28mself\u001b[39m\u001b[38;5;241m.\u001b[39moptions[\u001b[38;5;124m\"\u001b[39m\u001b[38;5;124mhas_index_names\u001b[39m\u001b[38;5;124m\"\u001b[39m] \u001b[38;5;241m=\u001b[39m kwds[\u001b[38;5;124m\"\u001b[39m\u001b[38;5;124mhas_index_names\u001b[39m\u001b[38;5;124m\"\u001b[39m]\n\u001b[0;32m   1619\u001b[0m \u001b[38;5;28mself\u001b[39m\u001b[38;5;241m.\u001b[39mhandles: IOHandles \u001b[38;5;241m|\u001b[39m \u001b[38;5;28;01mNone\u001b[39;00m \u001b[38;5;241m=\u001b[39m \u001b[38;5;28;01mNone\u001b[39;00m\n\u001b[1;32m-> 1620\u001b[0m \u001b[38;5;28mself\u001b[39m\u001b[38;5;241m.\u001b[39m_engine \u001b[38;5;241m=\u001b[39m \u001b[38;5;28;43mself\u001b[39;49m\u001b[38;5;241;43m.\u001b[39;49m\u001b[43m_make_engine\u001b[49m\u001b[43m(\u001b[49m\u001b[43mf\u001b[49m\u001b[43m,\u001b[49m\u001b[43m \u001b[49m\u001b[38;5;28;43mself\u001b[39;49m\u001b[38;5;241;43m.\u001b[39;49m\u001b[43mengine\u001b[49m\u001b[43m)\u001b[49m\n",
      "File \u001b[1;32m~\\AppData\\Local\\Packages\\PythonSoftwareFoundation.Python.3.11_qbz5n2kfra8p0\\LocalCache\\local-packages\\Python311\\site-packages\\pandas\\io\\parsers\\readers.py:1880\u001b[0m, in \u001b[0;36mTextFileReader._make_engine\u001b[1;34m(self, f, engine)\u001b[0m\n\u001b[0;32m   1878\u001b[0m     \u001b[38;5;28;01mif\u001b[39;00m \u001b[38;5;124m\"\u001b[39m\u001b[38;5;124mb\u001b[39m\u001b[38;5;124m\"\u001b[39m \u001b[38;5;129;01mnot\u001b[39;00m \u001b[38;5;129;01min\u001b[39;00m mode:\n\u001b[0;32m   1879\u001b[0m         mode \u001b[38;5;241m+\u001b[39m\u001b[38;5;241m=\u001b[39m \u001b[38;5;124m\"\u001b[39m\u001b[38;5;124mb\u001b[39m\u001b[38;5;124m\"\u001b[39m\n\u001b[1;32m-> 1880\u001b[0m \u001b[38;5;28mself\u001b[39m\u001b[38;5;241m.\u001b[39mhandles \u001b[38;5;241m=\u001b[39m \u001b[43mget_handle\u001b[49m\u001b[43m(\u001b[49m\n\u001b[0;32m   1881\u001b[0m \u001b[43m    \u001b[49m\u001b[43mf\u001b[49m\u001b[43m,\u001b[49m\n\u001b[0;32m   1882\u001b[0m \u001b[43m    \u001b[49m\u001b[43mmode\u001b[49m\u001b[43m,\u001b[49m\n\u001b[0;32m   1883\u001b[0m \u001b[43m    \u001b[49m\u001b[43mencoding\u001b[49m\u001b[38;5;241;43m=\u001b[39;49m\u001b[38;5;28;43mself\u001b[39;49m\u001b[38;5;241;43m.\u001b[39;49m\u001b[43moptions\u001b[49m\u001b[38;5;241;43m.\u001b[39;49m\u001b[43mget\u001b[49m\u001b[43m(\u001b[49m\u001b[38;5;124;43m\"\u001b[39;49m\u001b[38;5;124;43mencoding\u001b[39;49m\u001b[38;5;124;43m\"\u001b[39;49m\u001b[43m,\u001b[49m\u001b[43m \u001b[49m\u001b[38;5;28;43;01mNone\u001b[39;49;00m\u001b[43m)\u001b[49m\u001b[43m,\u001b[49m\n\u001b[0;32m   1884\u001b[0m \u001b[43m    \u001b[49m\u001b[43mcompression\u001b[49m\u001b[38;5;241;43m=\u001b[39;49m\u001b[38;5;28;43mself\u001b[39;49m\u001b[38;5;241;43m.\u001b[39;49m\u001b[43moptions\u001b[49m\u001b[38;5;241;43m.\u001b[39;49m\u001b[43mget\u001b[49m\u001b[43m(\u001b[49m\u001b[38;5;124;43m\"\u001b[39;49m\u001b[38;5;124;43mcompression\u001b[39;49m\u001b[38;5;124;43m\"\u001b[39;49m\u001b[43m,\u001b[49m\u001b[43m \u001b[49m\u001b[38;5;28;43;01mNone\u001b[39;49;00m\u001b[43m)\u001b[49m\u001b[43m,\u001b[49m\n\u001b[0;32m   1885\u001b[0m \u001b[43m    \u001b[49m\u001b[43mmemory_map\u001b[49m\u001b[38;5;241;43m=\u001b[39;49m\u001b[38;5;28;43mself\u001b[39;49m\u001b[38;5;241;43m.\u001b[39;49m\u001b[43moptions\u001b[49m\u001b[38;5;241;43m.\u001b[39;49m\u001b[43mget\u001b[49m\u001b[43m(\u001b[49m\u001b[38;5;124;43m\"\u001b[39;49m\u001b[38;5;124;43mmemory_map\u001b[39;49m\u001b[38;5;124;43m\"\u001b[39;49m\u001b[43m,\u001b[49m\u001b[43m \u001b[49m\u001b[38;5;28;43;01mFalse\u001b[39;49;00m\u001b[43m)\u001b[49m\u001b[43m,\u001b[49m\n\u001b[0;32m   1886\u001b[0m \u001b[43m    \u001b[49m\u001b[43mis_text\u001b[49m\u001b[38;5;241;43m=\u001b[39;49m\u001b[43mis_text\u001b[49m\u001b[43m,\u001b[49m\n\u001b[0;32m   1887\u001b[0m \u001b[43m    \u001b[49m\u001b[43merrors\u001b[49m\u001b[38;5;241;43m=\u001b[39;49m\u001b[38;5;28;43mself\u001b[39;49m\u001b[38;5;241;43m.\u001b[39;49m\u001b[43moptions\u001b[49m\u001b[38;5;241;43m.\u001b[39;49m\u001b[43mget\u001b[49m\u001b[43m(\u001b[49m\u001b[38;5;124;43m\"\u001b[39;49m\u001b[38;5;124;43mencoding_errors\u001b[39;49m\u001b[38;5;124;43m\"\u001b[39;49m\u001b[43m,\u001b[49m\u001b[43m \u001b[49m\u001b[38;5;124;43m\"\u001b[39;49m\u001b[38;5;124;43mstrict\u001b[39;49m\u001b[38;5;124;43m\"\u001b[39;49m\u001b[43m)\u001b[49m\u001b[43m,\u001b[49m\n\u001b[0;32m   1888\u001b[0m \u001b[43m    \u001b[49m\u001b[43mstorage_options\u001b[49m\u001b[38;5;241;43m=\u001b[39;49m\u001b[38;5;28;43mself\u001b[39;49m\u001b[38;5;241;43m.\u001b[39;49m\u001b[43moptions\u001b[49m\u001b[38;5;241;43m.\u001b[39;49m\u001b[43mget\u001b[49m\u001b[43m(\u001b[49m\u001b[38;5;124;43m\"\u001b[39;49m\u001b[38;5;124;43mstorage_options\u001b[39;49m\u001b[38;5;124;43m\"\u001b[39;49m\u001b[43m,\u001b[49m\u001b[43m \u001b[49m\u001b[38;5;28;43;01mNone\u001b[39;49;00m\u001b[43m)\u001b[49m\u001b[43m,\u001b[49m\n\u001b[0;32m   1889\u001b[0m \u001b[43m\u001b[49m\u001b[43m)\u001b[49m\n\u001b[0;32m   1890\u001b[0m \u001b[38;5;28;01massert\u001b[39;00m \u001b[38;5;28mself\u001b[39m\u001b[38;5;241m.\u001b[39mhandles \u001b[38;5;129;01mis\u001b[39;00m \u001b[38;5;129;01mnot\u001b[39;00m \u001b[38;5;28;01mNone\u001b[39;00m\n\u001b[0;32m   1891\u001b[0m f \u001b[38;5;241m=\u001b[39m \u001b[38;5;28mself\u001b[39m\u001b[38;5;241m.\u001b[39mhandles\u001b[38;5;241m.\u001b[39mhandle\n",
      "File \u001b[1;32m~\\AppData\\Local\\Packages\\PythonSoftwareFoundation.Python.3.11_qbz5n2kfra8p0\\LocalCache\\local-packages\\Python311\\site-packages\\pandas\\io\\common.py:873\u001b[0m, in \u001b[0;36mget_handle\u001b[1;34m(path_or_buf, mode, encoding, compression, memory_map, is_text, errors, storage_options)\u001b[0m\n\u001b[0;32m    868\u001b[0m \u001b[38;5;28;01melif\u001b[39;00m \u001b[38;5;28misinstance\u001b[39m(handle, \u001b[38;5;28mstr\u001b[39m):\n\u001b[0;32m    869\u001b[0m     \u001b[38;5;66;03m# Check whether the filename is to be opened in binary mode.\u001b[39;00m\n\u001b[0;32m    870\u001b[0m     \u001b[38;5;66;03m# Binary mode does not support 'encoding' and 'newline'.\u001b[39;00m\n\u001b[0;32m    871\u001b[0m     \u001b[38;5;28;01mif\u001b[39;00m ioargs\u001b[38;5;241m.\u001b[39mencoding \u001b[38;5;129;01mand\u001b[39;00m \u001b[38;5;124m\"\u001b[39m\u001b[38;5;124mb\u001b[39m\u001b[38;5;124m\"\u001b[39m \u001b[38;5;129;01mnot\u001b[39;00m \u001b[38;5;129;01min\u001b[39;00m ioargs\u001b[38;5;241m.\u001b[39mmode:\n\u001b[0;32m    872\u001b[0m         \u001b[38;5;66;03m# Encoding\u001b[39;00m\n\u001b[1;32m--> 873\u001b[0m         handle \u001b[38;5;241m=\u001b[39m \u001b[38;5;28mopen\u001b[39m(\n\u001b[0;32m    874\u001b[0m             handle,\n\u001b[0;32m    875\u001b[0m             ioargs\u001b[38;5;241m.\u001b[39mmode,\n\u001b[0;32m    876\u001b[0m             encoding\u001b[38;5;241m=\u001b[39mioargs\u001b[38;5;241m.\u001b[39mencoding,\n\u001b[0;32m    877\u001b[0m             errors\u001b[38;5;241m=\u001b[39merrors,\n\u001b[0;32m    878\u001b[0m             newline\u001b[38;5;241m=\u001b[39m\u001b[38;5;124m\"\u001b[39m\u001b[38;5;124m\"\u001b[39m,\n\u001b[0;32m    879\u001b[0m         )\n\u001b[0;32m    880\u001b[0m     \u001b[38;5;28;01melse\u001b[39;00m:\n\u001b[0;32m    881\u001b[0m         \u001b[38;5;66;03m# Binary mode\u001b[39;00m\n\u001b[0;32m    882\u001b[0m         handle \u001b[38;5;241m=\u001b[39m \u001b[38;5;28mopen\u001b[39m(handle, ioargs\u001b[38;5;241m.\u001b[39mmode)\n",
      "\u001b[1;31mFileNotFoundError\u001b[0m: [Errno 2] No such file or directory: '../data/raw/external/park/park_location.csv'"
     ]
    }
   ],
   "source": [
    "park_dt = pd.read_csv('../data/raw/external/park/park_location.csv')"
   ]
  },
  {
   "cell_type": "code",
   "execution_count": 14,
   "metadata": {},
   "outputs": [
    {
     "name": "stdout",
     "output_type": "stream",
     "text": [
      "<bound method Series.sort_values of geo_point_2d    0\n",
      "longitude       0\n",
      "latitude        0\n",
      "postcode        0\n",
      "area            0\n",
      "name            0\n",
      "postcode        0\n",
      "suburb          0\n",
      "projection      0\n",
      "dtype: int64>\n"
     ]
    }
   ],
   "source": [
    "#select needed features\n",
    "park_dt = park_dt[['geo_point_2d','longitude','latitude','postcode','area','name','postcode','suburb','projection']]\n",
    "\n",
    "\n",
    "#remove whitespace & check null rows\n",
    "park_dt.replace(\"\", float(\"NaN\"), inplace=True)\n",
    "null_rows_park = park_dt.isnull().sum().sort_values\n",
    "print(null_rows_park)\n",
    "\n",
    "#save data\n",
    "park_dt.to_csv('../data/curated/park_location_cleaned.csv')"
   ]
  },
  {
   "cell_type": "markdown",
   "metadata": {},
   "source": [
    "# 3. Train location data process"
   ]
  },
  {
   "cell_type": "code",
   "execution_count": 15,
   "metadata": {},
   "outputs": [],
   "source": [
    "metropolitan_train_dt = pd.read_csv('../data/raw/external/train_station/metropolitan_train_location_2023.csv')\n",
    "regional_train_dt = pd.read_csv('../data/raw/external/train_station/regional_train_location_2023.csv')"
   ]
  },
  {
   "cell_type": "code",
   "execution_count": 16,
   "metadata": {},
   "outputs": [],
   "source": [
    "#select needed features\n",
    "types = ['metropolitan','regional']\n",
    "columns_train = ['Stop_ID','Stop_name','Stop_lat','Stop_long']\n",
    "train_data = {}\n",
    "\n",
    "for type in types:\n",
    "    train_data[type] = locals()[f'{type}_train_dt'][columns_train]\n",
    "\n",
    "#remove whitespace & check null rows\n",
    "null_train = {}\n",
    "for type in types:\n",
    "    train_data[type].replace(\"\", float(\"NaN\"), inplace=True)\n",
    "    null_train[type] = train_data[type].isnull().sum().sort_values(ascending = False)"
   ]
  },
  {
   "cell_type": "code",
   "execution_count": 17,
   "metadata": {},
   "outputs": [
    {
     "data": {
      "text/plain": [
       "Stop_ID      0\n",
       "Stop_name    0\n",
       "Stop_lat     0\n",
       "Stop_long    0\n",
       "dtype: int64"
      ]
     },
     "execution_count": 17,
     "metadata": {},
     "output_type": "execute_result"
    }
   ],
   "source": [
    "null_train['metropolitan']"
   ]
  },
  {
   "cell_type": "code",
   "execution_count": 18,
   "metadata": {},
   "outputs": [
    {
     "data": {
      "text/plain": [
       "Stop_ID      0\n",
       "Stop_name    0\n",
       "Stop_lat     0\n",
       "Stop_long    0\n",
       "dtype: int64"
      ]
     },
     "execution_count": 18,
     "metadata": {},
     "output_type": "execute_result"
    }
   ],
   "source": [
    "null_train['regional']"
   ]
  },
  {
   "cell_type": "code",
   "execution_count": 19,
   "metadata": {},
   "outputs": [],
   "source": [
    "#save cleaned data\n",
    "for type in types:\n",
    "    train_data[type].to_csv(f'../data/curated/{type}_train_location_2023_cleaned.csv')"
   ]
  },
  {
   "cell_type": "markdown",
   "metadata": {},
   "source": [
    "# 4. Population data processing"
   ]
  },
  {
   "cell_type": "code",
   "execution_count": 21,
   "metadata": {},
   "outputs": [
    {
     "data": {
      "text/html": [
       "<div>\n",
       "<style scoped>\n",
       "    .dataframe tbody tr th:only-of-type {\n",
       "        vertical-align: middle;\n",
       "    }\n",
       "\n",
       "    .dataframe tbody tr th {\n",
       "        vertical-align: top;\n",
       "    }\n",
       "\n",
       "    .dataframe thead th {\n",
       "        text-align: right;\n",
       "    }\n",
       "</style>\n",
       "<table border=\"1\" class=\"dataframe\">\n",
       "  <thead>\n",
       "    <tr style=\"text-align: right;\">\n",
       "      <th></th>\n",
       "      <th>GCCSA name</th>\n",
       "      <th>SA2 code</th>\n",
       "      <th>SA2 name</th>\n",
       "      <th>2001</th>\n",
       "      <th>2002</th>\n",
       "      <th>2003</th>\n",
       "      <th>2004</th>\n",
       "      <th>2005</th>\n",
       "      <th>2006</th>\n",
       "      <th>2007</th>\n",
       "      <th>...</th>\n",
       "      <th>2014</th>\n",
       "      <th>2015</th>\n",
       "      <th>2016</th>\n",
       "      <th>2017</th>\n",
       "      <th>2018</th>\n",
       "      <th>2019</th>\n",
       "      <th>2020</th>\n",
       "      <th>2021</th>\n",
       "      <th>2022</th>\n",
       "      <th>2023</th>\n",
       "    </tr>\n",
       "  </thead>\n",
       "  <tbody>\n",
       "    <tr>\n",
       "      <th>643</th>\n",
       "      <td>Rest of Vic.</td>\n",
       "      <td>201011001</td>\n",
       "      <td>Alfredton</td>\n",
       "      <td>5756</td>\n",
       "      <td>6092</td>\n",
       "      <td>6293</td>\n",
       "      <td>6480</td>\n",
       "      <td>6648</td>\n",
       "      <td>6761</td>\n",
       "      <td>7034</td>\n",
       "      <td>...</td>\n",
       "      <td>10338</td>\n",
       "      <td>11039</td>\n",
       "      <td>11852</td>\n",
       "      <td>12649</td>\n",
       "      <td>13537</td>\n",
       "      <td>14434</td>\n",
       "      <td>15507</td>\n",
       "      <td>16841</td>\n",
       "      <td>18002</td>\n",
       "      <td>18997</td>\n",
       "    </tr>\n",
       "    <tr>\n",
       "      <th>644</th>\n",
       "      <td>Rest of Vic.</td>\n",
       "      <td>201011002</td>\n",
       "      <td>Ballarat</td>\n",
       "      <td>11497</td>\n",
       "      <td>11708</td>\n",
       "      <td>12015</td>\n",
       "      <td>12189</td>\n",
       "      <td>12269</td>\n",
       "      <td>12356</td>\n",
       "      <td>12408</td>\n",
       "      <td>...</td>\n",
       "      <td>12327</td>\n",
       "      <td>12300</td>\n",
       "      <td>12301</td>\n",
       "      <td>12266</td>\n",
       "      <td>12244</td>\n",
       "      <td>12320</td>\n",
       "      <td>12196</td>\n",
       "      <td>12071</td>\n",
       "      <td>11938</td>\n",
       "      <td>11809</td>\n",
       "    </tr>\n",
       "    <tr>\n",
       "      <th>645</th>\n",
       "      <td>Rest of Vic.</td>\n",
       "      <td>201011005</td>\n",
       "      <td>Buninyong</td>\n",
       "      <td>5320</td>\n",
       "      <td>5399</td>\n",
       "      <td>5557</td>\n",
       "      <td>5620</td>\n",
       "      <td>5857</td>\n",
       "      <td>6037</td>\n",
       "      <td>6131</td>\n",
       "      <td>...</td>\n",
       "      <td>7082</td>\n",
       "      <td>7191</td>\n",
       "      <td>7311</td>\n",
       "      <td>7409</td>\n",
       "      <td>7418</td>\n",
       "      <td>7458</td>\n",
       "      <td>7377</td>\n",
       "      <td>7229</td>\n",
       "      <td>7247</td>\n",
       "      <td>7323</td>\n",
       "    </tr>\n",
       "    <tr>\n",
       "      <th>646</th>\n",
       "      <td>Rest of Vic.</td>\n",
       "      <td>201011006</td>\n",
       "      <td>Delacombe</td>\n",
       "      <td>4154</td>\n",
       "      <td>4225</td>\n",
       "      <td>4371</td>\n",
       "      <td>4465</td>\n",
       "      <td>4704</td>\n",
       "      <td>5041</td>\n",
       "      <td>5206</td>\n",
       "      <td>...</td>\n",
       "      <td>6583</td>\n",
       "      <td>6846</td>\n",
       "      <td>7195</td>\n",
       "      <td>7622</td>\n",
       "      <td>8183</td>\n",
       "      <td>8890</td>\n",
       "      <td>9755</td>\n",
       "      <td>10648</td>\n",
       "      <td>11798</td>\n",
       "      <td>12869</td>\n",
       "    </tr>\n",
       "    <tr>\n",
       "      <th>647</th>\n",
       "      <td>Rest of Vic.</td>\n",
       "      <td>201011007</td>\n",
       "      <td>Smythes Creek</td>\n",
       "      <td>3317</td>\n",
       "      <td>3378</td>\n",
       "      <td>3411</td>\n",
       "      <td>3473</td>\n",
       "      <td>3508</td>\n",
       "      <td>3542</td>\n",
       "      <td>3594</td>\n",
       "      <td>...</td>\n",
       "      <td>3945</td>\n",
       "      <td>3966</td>\n",
       "      <td>3990</td>\n",
       "      <td>4004</td>\n",
       "      <td>4042</td>\n",
       "      <td>4112</td>\n",
       "      <td>4152</td>\n",
       "      <td>4211</td>\n",
       "      <td>4223</td>\n",
       "      <td>4268</td>\n",
       "    </tr>\n",
       "    <tr>\n",
       "      <th>...</th>\n",
       "      <td>...</td>\n",
       "      <td>...</td>\n",
       "      <td>...</td>\n",
       "      <td>...</td>\n",
       "      <td>...</td>\n",
       "      <td>...</td>\n",
       "      <td>...</td>\n",
       "      <td>...</td>\n",
       "      <td>...</td>\n",
       "      <td>...</td>\n",
       "      <td>...</td>\n",
       "      <td>...</td>\n",
       "      <td>...</td>\n",
       "      <td>...</td>\n",
       "      <td>...</td>\n",
       "      <td>...</td>\n",
       "      <td>...</td>\n",
       "      <td>...</td>\n",
       "      <td>...</td>\n",
       "      <td>...</td>\n",
       "      <td>...</td>\n",
       "    </tr>\n",
       "    <tr>\n",
       "      <th>1160</th>\n",
       "      <td>Rest of Vic.</td>\n",
       "      <td>217031476</td>\n",
       "      <td>Otway</td>\n",
       "      <td>3452</td>\n",
       "      <td>3479</td>\n",
       "      <td>3511</td>\n",
       "      <td>3511</td>\n",
       "      <td>3492</td>\n",
       "      <td>3459</td>\n",
       "      <td>3489</td>\n",
       "      <td>...</td>\n",
       "      <td>3519</td>\n",
       "      <td>3538</td>\n",
       "      <td>3556</td>\n",
       "      <td>3635</td>\n",
       "      <td>3710</td>\n",
       "      <td>3802</td>\n",
       "      <td>3911</td>\n",
       "      <td>3979</td>\n",
       "      <td>3974</td>\n",
       "      <td>3983</td>\n",
       "    </tr>\n",
       "    <tr>\n",
       "      <th>1161</th>\n",
       "      <td>Rest of Vic.</td>\n",
       "      <td>217041477</td>\n",
       "      <td>Moyne - East</td>\n",
       "      <td>6718</td>\n",
       "      <td>6704</td>\n",
       "      <td>6676</td>\n",
       "      <td>6643</td>\n",
       "      <td>6638</td>\n",
       "      <td>6652</td>\n",
       "      <td>6606</td>\n",
       "      <td>...</td>\n",
       "      <td>6734</td>\n",
       "      <td>6716</td>\n",
       "      <td>6709</td>\n",
       "      <td>6717</td>\n",
       "      <td>6746</td>\n",
       "      <td>6798</td>\n",
       "      <td>6883</td>\n",
       "      <td>6990</td>\n",
       "      <td>7046</td>\n",
       "      <td>7132</td>\n",
       "    </tr>\n",
       "    <tr>\n",
       "      <th>1162</th>\n",
       "      <td>Rest of Vic.</td>\n",
       "      <td>217041478</td>\n",
       "      <td>Moyne - West</td>\n",
       "      <td>8317</td>\n",
       "      <td>8387</td>\n",
       "      <td>8450</td>\n",
       "      <td>8487</td>\n",
       "      <td>8517</td>\n",
       "      <td>8601</td>\n",
       "      <td>8694</td>\n",
       "      <td>...</td>\n",
       "      <td>9383</td>\n",
       "      <td>9467</td>\n",
       "      <td>9603</td>\n",
       "      <td>9686</td>\n",
       "      <td>9783</td>\n",
       "      <td>9845</td>\n",
       "      <td>9859</td>\n",
       "      <td>9967</td>\n",
       "      <td>10098</td>\n",
       "      <td>10148</td>\n",
       "    </tr>\n",
       "    <tr>\n",
       "      <th>1163</th>\n",
       "      <td>Rest of Vic.</td>\n",
       "      <td>217041479</td>\n",
       "      <td>Warrnambool - North</td>\n",
       "      <td>17053</td>\n",
       "      <td>17449</td>\n",
       "      <td>17726</td>\n",
       "      <td>17937</td>\n",
       "      <td>18172</td>\n",
       "      <td>18528</td>\n",
       "      <td>18877</td>\n",
       "      <td>...</td>\n",
       "      <td>20930</td>\n",
       "      <td>21217</td>\n",
       "      <td>21442</td>\n",
       "      <td>21688</td>\n",
       "      <td>21954</td>\n",
       "      <td>22184</td>\n",
       "      <td>22416</td>\n",
       "      <td>22470</td>\n",
       "      <td>22586</td>\n",
       "      <td>22762</td>\n",
       "    </tr>\n",
       "    <tr>\n",
       "      <th>1164</th>\n",
       "      <td>Rest of Vic.</td>\n",
       "      <td>217041480</td>\n",
       "      <td>Warrnambool - South</td>\n",
       "      <td>12506</td>\n",
       "      <td>12578</td>\n",
       "      <td>12639</td>\n",
       "      <td>12697</td>\n",
       "      <td>12748</td>\n",
       "      <td>12792</td>\n",
       "      <td>12839</td>\n",
       "      <td>...</td>\n",
       "      <td>13154</td>\n",
       "      <td>13150</td>\n",
       "      <td>13173</td>\n",
       "      <td>13199</td>\n",
       "      <td>13226</td>\n",
       "      <td>13264</td>\n",
       "      <td>13346</td>\n",
       "      <td>13298</td>\n",
       "      <td>13323</td>\n",
       "      <td>13476</td>\n",
       "    </tr>\n",
       "  </tbody>\n",
       "</table>\n",
       "<p>522 rows × 26 columns</p>\n",
       "</div>"
      ],
      "text/plain": [
       "        GCCSA name   SA2 code             SA2 name   2001   2002   2003  \\\n",
       "643   Rest of Vic.  201011001            Alfredton   5756   6092   6293   \n",
       "644   Rest of Vic.  201011002             Ballarat  11497  11708  12015   \n",
       "645   Rest of Vic.  201011005            Buninyong   5320   5399   5557   \n",
       "646   Rest of Vic.  201011006            Delacombe   4154   4225   4371   \n",
       "647   Rest of Vic.  201011007        Smythes Creek   3317   3378   3411   \n",
       "...            ...        ...                  ...    ...    ...    ...   \n",
       "1160  Rest of Vic.  217031476                Otway   3452   3479   3511   \n",
       "1161  Rest of Vic.  217041477         Moyne - East   6718   6704   6676   \n",
       "1162  Rest of Vic.  217041478         Moyne - West   8317   8387   8450   \n",
       "1163  Rest of Vic.  217041479  Warrnambool - North  17053  17449  17726   \n",
       "1164  Rest of Vic.  217041480  Warrnambool - South  12506  12578  12639   \n",
       "\n",
       "       2004   2005   2006   2007  ...   2014   2015   2016   2017   2018  \\\n",
       "643    6480   6648   6761   7034  ...  10338  11039  11852  12649  13537   \n",
       "644   12189  12269  12356  12408  ...  12327  12300  12301  12266  12244   \n",
       "645    5620   5857   6037   6131  ...   7082   7191   7311   7409   7418   \n",
       "646    4465   4704   5041   5206  ...   6583   6846   7195   7622   8183   \n",
       "647    3473   3508   3542   3594  ...   3945   3966   3990   4004   4042   \n",
       "...     ...    ...    ...    ...  ...    ...    ...    ...    ...    ...   \n",
       "1160   3511   3492   3459   3489  ...   3519   3538   3556   3635   3710   \n",
       "1161   6643   6638   6652   6606  ...   6734   6716   6709   6717   6746   \n",
       "1162   8487   8517   8601   8694  ...   9383   9467   9603   9686   9783   \n",
       "1163  17937  18172  18528  18877  ...  20930  21217  21442  21688  21954   \n",
       "1164  12697  12748  12792  12839  ...  13154  13150  13173  13199  13226   \n",
       "\n",
       "       2019   2020   2021   2022   2023  \n",
       "643   14434  15507  16841  18002  18997  \n",
       "644   12320  12196  12071  11938  11809  \n",
       "645    7458   7377   7229   7247   7323  \n",
       "646    8890   9755  10648  11798  12869  \n",
       "647    4112   4152   4211   4223   4268  \n",
       "...     ...    ...    ...    ...    ...  \n",
       "1160   3802   3911   3979   3974   3983  \n",
       "1161   6798   6883   6990   7046   7132  \n",
       "1162   9845   9859   9967  10098  10148  \n",
       "1163  22184  22416  22470  22586  22762  \n",
       "1164  13264  13346  13298  13323  13476  \n",
       "\n",
       "[522 rows x 26 columns]"
      ]
     },
     "execution_count": 21,
     "metadata": {},
     "output_type": "execute_result"
    }
   ],
   "source": [
    "population = pd.read_excel('../data/raw/external/population/population_2001-23.xlsx',sheet_name='Table 1', header=5)\n",
    "\n",
    "# Rename the column name\n",
    "population.rename(columns={population.columns[1]: 'GCCSA name',population.columns[6]: 'SA2 code', population.columns[7]: 'SA2 name'}, inplace=True)\n",
    "\n",
    "# Drop no need columns\n",
    "population.drop(columns=['Unnamed: 0','Unnamed: 2','Unnamed: 3','Unnamed: 4','Unnamed: 5'],inplace=True)\n",
    "\n",
    "# Skip first row\n",
    "population = population.iloc[1:,:]\n",
    "\n",
    "# Keep rows in victoria only\n",
    "population_vic = population.loc[population['GCCSA name'].isin(['Rest of Vic.','Greater Melbourne'])]\n",
    "\n",
    "population_vic.to_csv(\"../data/curated/population_cleaned.csv\",index=False)\n",
    "\n",
    "population_vic"
   ]
  }
 ],
 "metadata": {
  "kernelspec": {
   "display_name": "Python 3 (ipykernel)",
   "language": "python",
   "name": "python3"
  },
  "language_info": {
   "codemirror_mode": {
    "name": "ipython",
    "version": 3
   },
   "file_extension": ".py",
   "mimetype": "text/x-python",
   "name": "python",
   "nbconvert_exporter": "python",
   "pygments_lexer": "ipython3",
   "version": "3.11.9"
  }
 },
 "nbformat": 4,
 "nbformat_minor": 2
}
