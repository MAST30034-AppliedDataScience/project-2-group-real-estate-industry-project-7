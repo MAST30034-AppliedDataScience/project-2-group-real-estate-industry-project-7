{
 "cells": [
  {
   "cell_type": "code",
   "execution_count": 61,
   "metadata": {},
   "outputs": [],
   "source": [
    "import pandas as pd\n",
    "import geopandas as gpd"
   ]
  },
  {
   "cell_type": "markdown",
   "metadata": {},
   "source": [
    "# 1. school location processing"
   ]
  },
  {
   "cell_type": "code",
   "execution_count": 115,
   "metadata": {},
   "outputs": [],
   "source": [
    "school_dt_2020 = pd.read_csv('/home/data/raw/external/school/school_location_2020.csv')\n",
    "school_dt_2021 = pd.read_csv('/home/data/raw/external/school/school_location_2021.csv',encoding = 'cp1252')\n",
    "school_dt_2022 = pd.read_csv('/home/data/raw/external/school/school_location_2022.csv',encoding = 'cp1252')\n",
    "school_dt_2023 = pd.read_csv('/home/data/raw/external/school/school_location_2023.csv',encoding = 'cp1252')"
   ]
  },
  {
   "cell_type": "code",
   "execution_count": 139,
   "metadata": {},
   "outputs": [
    {
     "name": "stderr",
     "output_type": "stream",
     "text": [
      "/tmp/ipykernel_2047/1329448288.py:10: SettingWithCopyWarning: \n",
      "A value is trying to be set on a copy of a slice from a DataFrame\n",
      "\n",
      "See the caveats in the documentation: https://pandas.pydata.org/pandas-docs/stable/user_guide/indexing.html#returning-a-view-versus-a-copy\n",
      "  school_data[name].replace(\"\", float(\"NaN\"), inplace=True)\n"
     ]
    }
   ],
   "source": [
    "#select needed features\n",
    "names = ['2020','2021','2022','2023']\n",
    "columns = ['School_Name','School_Type','Address_Line_1','Address_Town','Address_Postcode','Address_State','LGA_ID','LGA_Name','X','Y']\n",
    "school_data = {}\n",
    "\n",
    "for name in names:\n",
    "    school_data[name] = locals()[f'school_dt_{name}'][columns]\n",
    "\n",
    "#remove whitespace & check null rows\n",
    "nun_rows = {}\n",
    "for name in names:\n",
    "    school_data[name].replace(\"\", float(\"NaN\"), inplace=True)\n",
    "    nun_rows[name] = school_data[name].isnull().sum().sort_values(ascending = False)"
   ]
  },
  {
   "cell_type": "code",
   "execution_count": 140,
   "metadata": {},
   "outputs": [
    {
     "data": {
      "text/plain": [
       "School_Name         0\n",
       "School_Type         0\n",
       "Address_Line_1      0\n",
       "Address_Town        0\n",
       "Address_Postcode    0\n",
       "Address_State       0\n",
       "LGA_ID              0\n",
       "LGA_Name            0\n",
       "X                   0\n",
       "Y                   0\n",
       "dtype: int64"
      ]
     },
     "execution_count": 140,
     "metadata": {},
     "output_type": "execute_result"
    }
   ],
   "source": [
    "nun_rows['2020']"
   ]
  },
  {
   "cell_type": "code",
   "execution_count": 141,
   "metadata": {},
   "outputs": [
    {
     "data": {
      "text/plain": [
       "School_Name         0\n",
       "School_Type         0\n",
       "Address_Line_1      0\n",
       "Address_Town        0\n",
       "Address_Postcode    0\n",
       "Address_State       0\n",
       "LGA_ID              0\n",
       "LGA_Name            0\n",
       "X                   0\n",
       "Y                   0\n",
       "dtype: int64"
      ]
     },
     "execution_count": 141,
     "metadata": {},
     "output_type": "execute_result"
    }
   ],
   "source": [
    "nun_rows['2021']"
   ]
  },
  {
   "cell_type": "code",
   "execution_count": 142,
   "metadata": {},
   "outputs": [
    {
     "data": {
      "text/plain": [
       "X                   1\n",
       "Y                   1\n",
       "School_Name         0\n",
       "School_Type         0\n",
       "Address_Line_1      0\n",
       "Address_Town        0\n",
       "Address_Postcode    0\n",
       "Address_State       0\n",
       "LGA_ID              0\n",
       "LGA_Name            0\n",
       "dtype: int64"
      ]
     },
     "execution_count": 142,
     "metadata": {},
     "output_type": "execute_result"
    }
   ],
   "source": [
    "nun_rows['2022']"
   ]
  },
  {
   "cell_type": "code",
   "execution_count": 143,
   "metadata": {},
   "outputs": [
    {
     "data": {
      "text/plain": [
       "X                   1\n",
       "Y                   1\n",
       "School_Name         0\n",
       "School_Type         0\n",
       "Address_Line_1      0\n",
       "Address_Town        0\n",
       "Address_Postcode    0\n",
       "Address_State       0\n",
       "LGA_ID              0\n",
       "LGA_Name            0\n",
       "dtype: int64"
      ]
     },
     "execution_count": 143,
     "metadata": {},
     "output_type": "execute_result"
    }
   ],
   "source": [
    "nun_rows['2023']"
   ]
  },
  {
   "cell_type": "code",
   "execution_count": 144,
   "metadata": {},
   "outputs": [],
   "source": [
    "#save cleaned data\n",
    "for name in names:\n",
    "    school_data[name].to_csv(f'/home/data/raw/external/school/school_location_{name}.csv')\n"
   ]
  },
  {
   "cell_type": "markdown",
   "metadata": {},
   "source": [
    "# 2. park location data processing"
   ]
  },
  {
   "cell_type": "code",
   "execution_count": 151,
   "metadata": {},
   "outputs": [],
   "source": [
    "park_dt = pd.read_csv('/home/data/raw/external/park/park_location.csv')"
   ]
  },
  {
   "cell_type": "code",
   "execution_count": 152,
   "metadata": {},
   "outputs": [
    {
     "name": "stdout",
     "output_type": "stream",
     "text": [
      "<bound method Series.sort_values of geo_point_2d    0\n",
      "longitude       0\n",
      "latitude        0\n",
      "postcode        0\n",
      "area            0\n",
      "name            0\n",
      "postcode        0\n",
      "suburb          0\n",
      "projection      0\n",
      "dtype: int64>\n"
     ]
    }
   ],
   "source": [
    "#select needed features\n",
    "park_dt = park_dt[['geo_point_2d','longitude','latitude','postcode','area','name','postcode','suburb','projection']]\n",
    "\n",
    "\n",
    "#remove whitespace & check null rows\n",
    "park_dt.replace(\"\", float(\"NaN\"), inplace=True)\n",
    "null_rows_park = park_dt.isnull().sum().sort_values\n",
    "print(null_rows_park)\n",
    "\n",
    "#save data\n",
    "park_dt.to_csv('/home/data/raw/external/park/park_location.csv')"
   ]
  }
 ],
 "metadata": {
  "kernelspec": {
   "display_name": "Python 3 (ipykernel)",
   "language": "python",
   "name": "python3"
  }
 },
 "nbformat": 4,
 "nbformat_minor": 2
}
