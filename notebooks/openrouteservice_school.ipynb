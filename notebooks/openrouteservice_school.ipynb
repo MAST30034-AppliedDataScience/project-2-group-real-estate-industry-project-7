{
 "cells": [
  {
   "cell_type": "markdown",
   "metadata": {},
   "source": [
    "### Import Library"
   ]
  },
  {
   "cell_type": "code",
   "execution_count": 1,
   "metadata": {},
   "outputs": [],
   "source": [
    "import pandas as pd\n",
    "import openrouteservice as ors\n",
    "import numpy as np\n",
    "import math\n",
    "from top_3_nearest import LocationFinder\n",
    "from geopy.distance import geodesic\n",
    "import time\n",
    "import os"
   ]
  },
  {
   "cell_type": "markdown",
   "metadata": {},
   "source": [
    "### Find the minimum distance and the minimum duration to the nearest school for each rental property"
   ]
  },
  {
   "cell_type": "code",
   "execution_count": 2,
   "metadata": {},
   "outputs": [],
   "source": [
    "# Initialize the LocationFinder instance\n",
    "finder = LocationFinder()"
   ]
  },
  {
   "cell_type": "code",
   "execution_count": 3,
   "metadata": {},
   "outputs": [],
   "source": [
    "def cal_distance_duration_batch_large(coordinates_list, client):\n",
    "    '''\n",
    "    This function calculates the driving distance and duration for multiple rental locations to all train stations\n",
    "    in batches where origin x destination <= 3500.\n",
    "    '''\n",
    "    batch_size = 50  \n",
    "    num_batches = int(np.ceil(len(coordinates_list) / batch_size))\n",
    "    \n",
    "    all_distances = []\n",
    "    all_durations = []\n",
    "    \n",
    "    for i in range(num_batches):\n",
    "        batch_start = i * batch_size\n",
    "        batch_end = min((i + 1) * batch_size, len(coordinates_list))\n",
    "        batch_coordinates = coordinates_list[batch_start:batch_end]\n",
    "        \n",
    "        matrix = client.distance_matrix(\n",
    "            locations=batch_coordinates,\n",
    "            destinations=[i for i in range(len(batch_coordinates))],\n",
    "            profile='driving-car',\n",
    "            metrics=['distance', 'duration'],\n",
    "            validate=False,\n",
    "        )\n",
    "        \n",
    "        distances = matrix['distances']\n",
    "        durations = matrix['durations']\n",
    "        \n",
    "        all_distances.extend(distances)\n",
    "        all_durations.extend(durations)\n",
    "    \n",
    "    return all_distances, all_durations"
   ]
  },
  {
   "cell_type": "code",
   "execution_count": 4,
   "metadata": {},
   "outputs": [],
   "source": [
    "def cal_distance_duration_batch_small(coordinates_list, client):\n",
    "    '''\n",
    "    This function calculates the driving distance and duration for multiple rental locations to all train stations\n",
    "    in smaller batches where locations <= 25.\n",
    "    '''\n",
    "    max_locations = 25\n",
    "    num_batches = int(math.ceil(len(coordinates_list) / max_locations))\n",
    "    \n",
    "    all_distances = []\n",
    "    all_durations = []\n",
    "    \n",
    "    for i in range(num_batches):\n",
    "        batch_start = i * max_locations\n",
    "        batch_end = min((i + 1) * max_locations, len(coordinates_list))\n",
    "        batch_coordinates = coordinates_list[batch_start:batch_end]\n",
    "        \n",
    "        for j in range(0, len(batch_coordinates), max_locations):\n",
    "            sub_batch_end = min(j + max_locations, len(batch_coordinates))\n",
    "            sub_batch = batch_coordinates[j:sub_batch_end]\n",
    "            \n",
    "            matrix = client.distance_matrix(\n",
    "                locations=sub_batch,\n",
    "                destinations=[i for i in range(len(sub_batch))],\n",
    "                profile='driving-car',\n",
    "                metrics=['distance', 'duration'],\n",
    "                validate=False,\n",
    "            )\n",
    "            \n",
    "            distances = matrix['distances']\n",
    "            durations = matrix['durations']\n",
    "            \n",
    "            all_distances.extend(distances)\n",
    "            all_durations.extend(durations)\n",
    "    \n",
    "    return all_distances, all_durations"
   ]
  },
  {
   "cell_type": "code",
   "execution_count": 5,
   "metadata": {},
   "outputs": [],
   "source": [
    "# Prepare the data\n",
    "school = pd.read_csv(\"../data/curated/school_location_cleaned_2023.csv\")\n",
    "# Rename X and Y to longitude and latitude, and remove spaces in the column names\n",
    "school.rename(columns={'X': 'longitude', 'Y': 'latitude'}, inplace=True)\n",
    "school.columns = school.columns.str.strip()\n",
    "school.to_csv('../data/curated/school_location_cleaned_2023_modified.csv', index=False)\n",
    "\n",
    "rent_cleaned = pd.read_csv(\"../data/curated/rent_cleaned.csv\")"
   ]
  },
  {
   "cell_type": "code",
   "execution_count": 6,
   "metadata": {},
   "outputs": [
    {
     "name": "stdout",
     "output_type": "stream",
     "text": [
      "2962\n"
     ]
    }
   ],
   "source": [
    "data_num = len(rent_cleaned)\n",
    "print(data_num)"
   ]
  },
  {
   "cell_type": "markdown",
   "metadata": {},
   "source": [
    "### All api_keys need"
   ]
  },
  {
   "cell_type": "code",
   "execution_count": 7,
   "metadata": {},
   "outputs": [],
   "source": [
    "# api_keys = [\n",
    "#     '5b3ce3597851110001cf624836637fed137740e8acff29bb224a6097',\n",
    "#     '5b3ce3597851110001cf6248cf89de10dc754c9bb6f67409d675e26d',\n",
    "#     '5b3ce3597851110001cf62483161f33d5d2c4bf89b53d50c7a004c14',\n",
    "#     '5b3ce3597851110001cf62485dd4c2d56a644502b1e22ac6f42fee55',\n",
    "#     '5b3ce3597851110001cf62486095da9f835d4db4b2a9dcce2c6f872b',\n",
    "#     '5b3ce3597851110001cf6248a63ba42f01324f9298b2419740c5000e',\n",
    "#     '5b3ce3597851110001cf62483da649ff61f04e7897e471e310b4ac2a',\n",
    "#     '5b3ce3597851110001cf62480969bb3ee47846b3b8973a37a9b2b906'\n",
    "# ]"
   ]
  },
  {
   "cell_type": "code",
   "execution_count": 8,
   "metadata": {},
   "outputs": [
    {
     "name": "stderr",
     "output_type": "stream",
     "text": [
      "/usr/local/lib/python3.10/dist-packages/numpy/_core/fromnumeric.py:57: FutureWarning: 'DataFrame.swapaxes' is deprecated and will be removed in a future version. Please use 'DataFrame.transpose' instead.\n",
      "  return bound(*args, **kwds)\n"
     ]
    }
   ],
   "source": [
    "# Select the entire dataset of total 2962 rows and split into blocks of 200 rows each\n",
    "reduced_df = rent_cleaned.iloc[:data_num, :].copy()\n",
    "rent_dfs = np.array_split(reduced_df, int(np.ceil(len(reduced_df) / 200)))  # Split into blocks of 200 rows each\\"
   ]
  },
  {
   "cell_type": "code",
   "execution_count": 9,
   "metadata": {},
   "outputs": [
    {
     "name": "stdout",
     "output_type": "stream",
     "text": [
      "Processed 40 rentals, resting for 70 seconds...\n",
      "Processed 80 rentals, resting for 70 seconds...\n",
      "Processed 120 rentals, resting for 70 seconds...\n",
      "Processed 160 rentals, resting for 70 seconds...\n",
      "Processed 200 rentals, resting for 70 seconds...\n",
      "Processed 240 rentals, resting for 70 seconds...\n",
      "Processed 280 rentals, resting for 70 seconds...\n",
      "Processed 320 rentals, resting for 70 seconds...\n",
      "Processed 360 rentals, resting for 70 seconds...\n",
      "switch to next API key: 5b3ce3597851110001cf6248cf89de10dc754c9bb6f67409d675e26d\n",
      "Processed 400 rentals, resting for 70 seconds...\n",
      "Processed 440 rentals, resting for 70 seconds...\n",
      "Processed 480 rentals, resting for 70 seconds...\n",
      "Processed 520 rentals, resting for 70 seconds...\n",
      "Processed 560 rentals, resting for 70 seconds...\n",
      "Processed 600 rentals, resting for 70 seconds...\n",
      "Processed 640 rentals, resting for 70 seconds...\n",
      "Processed 680 rentals, resting for 70 seconds...\n",
      "Processed 720 rentals, resting for 70 seconds...\n",
      "Processed 760 rentals, resting for 70 seconds...\n",
      "switch to next API key: 5b3ce3597851110001cf62483161f33d5d2c4bf89b53d50c7a004c14\n",
      "Processed 800 rentals, resting for 70 seconds...\n",
      "Processed 840 rentals, resting for 70 seconds...\n",
      "Processed 880 rentals, resting for 70 seconds...\n",
      "Processed 920 rentals, resting for 70 seconds...\n",
      "Processed 960 rentals, resting for 70 seconds...\n",
      "Processed 1000 rentals, resting for 70 seconds...\n",
      "Processed 1040 rentals, resting for 70 seconds...\n",
      "Processed 1080 rentals, resting for 70 seconds...\n",
      "Processed 1120 rentals, resting for 70 seconds...\n",
      "Processed 1160 rentals, resting for 70 seconds...\n",
      "switch to next API key: 5b3ce3597851110001cf62485dd4c2d56a644502b1e22ac6f42fee55\n",
      "Processed 1200 rentals, resting for 70 seconds...\n",
      "Processed 1240 rentals, resting for 70 seconds...\n",
      "Processed 1280 rentals, resting for 70 seconds...\n",
      "Processed 1320 rentals, resting for 70 seconds...\n",
      "Processed 1360 rentals, resting for 70 seconds...\n",
      "Processed 1400 rentals, resting for 70 seconds...\n",
      "Processed 1440 rentals, resting for 70 seconds...\n",
      "Processed 1480 rentals, resting for 70 seconds...\n",
      "Processed 1520 rentals, resting for 70 seconds...\n",
      "Processed 1560 rentals, resting for 70 seconds...\n",
      "switch to next API key: 5b3ce3597851110001cf62486095da9f835d4db4b2a9dcce2c6f872b\n",
      "Processed 1600 rentals, resting for 70 seconds...\n",
      "Processed 1640 rentals, resting for 70 seconds...\n",
      "Processed 1680 rentals, resting for 70 seconds...\n",
      "Processed 1720 rentals, resting for 70 seconds...\n",
      "Processed 1760 rentals, resting for 70 seconds...\n",
      "Processed 1800 rentals, resting for 70 seconds...\n",
      "Processed 1840 rentals, resting for 70 seconds...\n",
      "Processed 1880 rentals, resting for 70 seconds...\n",
      "Processed 1920 rentals, resting for 70 seconds...\n",
      "Processed 1960 rentals, resting for 70 seconds...\n",
      "switch to next API key: 5b3ce3597851110001cf6248a63ba42f01324f9298b2419740c5000e\n",
      "Processed 2000 rentals, resting for 70 seconds...\n",
      "Processed 2040 rentals, resting for 70 seconds...\n",
      "Processed 2080 rentals, resting for 70 seconds...\n",
      "Processed 2120 rentals, resting for 70 seconds...\n",
      "Processed 2160 rentals, resting for 70 seconds...\n",
      "Processed 2200 rentals, resting for 70 seconds...\n",
      "Processed 2240 rentals, resting for 70 seconds...\n",
      "Processed 2280 rentals, resting for 70 seconds...\n",
      "Processed 2320 rentals, resting for 70 seconds...\n",
      "Processed 2360 rentals, resting for 70 seconds...\n",
      "switch to next API key: 5b3ce3597851110001cf62483da649ff61f04e7897e471e310b4ac2a\n",
      "Processed 2400 rentals, resting for 70 seconds...\n",
      "Processed 2440 rentals, resting for 70 seconds...\n",
      "Processed 2480 rentals, resting for 70 seconds...\n",
      "Processed 2520 rentals, resting for 70 seconds...\n",
      "Processed 2560 rentals, resting for 70 seconds...\n",
      "Processed 2600 rentals, resting for 70 seconds...\n",
      "Processed 2640 rentals, resting for 70 seconds...\n",
      "Processed 2680 rentals, resting for 70 seconds...\n",
      "Processed 2720 rentals, resting for 70 seconds...\n",
      "Processed 2760 rentals, resting for 70 seconds...\n",
      "switch to next API key: 5b3ce3597851110001cf62480969bb3ee47846b3b8973a37a9b2b906\n",
      "Processed 2800 rentals, resting for 70 seconds...\n",
      "Processed 2840 rentals, resting for 70 seconds...\n",
      "Processed 2880 rentals, resting for 70 seconds...\n",
      "Processed 2920 rentals, resting for 70 seconds...\n",
      "Processed 2960 rentals, resting for 70 seconds...\n"
     ]
    }
   ],
   "source": [
    "import os\n",
    "\n",
    "# Initialize the processed counter\n",
    "processed_count = 0\n",
    "key_index = 0\n",
    "client = ors.Client(key=api_keys[key_index])\n",
    "max_requests_perkey = 400 \n",
    "total_requests = 0\n",
    "csv_file = '../data/curated/nearst_school_info.csv'\n",
    "\n",
    "# Loop through each block (each with 200 rows)\n",
    "for df in rent_dfs:\n",
    "    df['id'] = df.index + 1\n",
    "    df.columns = df.columns.str.strip()\n",
    "\n",
    "    min_distances = []\n",
    "    min_durations = []\n",
    "\n",
    "    # Process the data in smaller batches of 40 rows at a time within each block\n",
    "    batch_size = 40\n",
    "    num_batches = int(np.ceil(len(df) / batch_size))\n",
    "    \n",
    "    for i in range(num_batches):\n",
    "        batch_start = i * batch_size\n",
    "        batch_end = min((i + 1) * batch_size, len(df))\n",
    "        batch_df = df.iloc[batch_start:batch_end]\n",
    "\n",
    "        for index, rental in batch_df.iterrows():\n",
    "            latitude, longitude = rental['latitude'], rental['longitude']\n",
    "\n",
    "            # Use top_3_nearest to find the 3 nearest schools\n",
    "            top_3_schools = finder.top_3_nearest(latitude, longitude, '../data/curated/school_location_cleaned_2023_modified.csv')\n",
    "\n",
    "            # Get the coordinates of the rental property and the nearest 3 schools\n",
    "            schools = list(zip(top_3_schools['longitude'], top_3_schools['latitude']))\n",
    "            all_coordinates = [(longitude, latitude)] + schools\n",
    "\n",
    "            # Calculate distances and durations\n",
    "            if len(all_coordinates) <= 3500:\n",
    "                distances, durations = cal_distance_duration_batch_large(all_coordinates, client)\n",
    "            else:\n",
    "                distances, durations = cal_distance_duration_batch_small(all_coordinates, client)\n",
    "\n",
    "            min_distance = min([d for d in distances[0] if d > 0])\n",
    "            min_duration = min([t for t in durations[0] if t > 0])\n",
    "\n",
    "            # Append the calculated values to the lists\n",
    "            min_distances.append(min_distance)\n",
    "            min_durations.append(min_duration)\n",
    "\n",
    "            # Update the processed counter\n",
    "            processed_count += 1\n",
    "            total_requests += 1\n",
    "            \n",
    "            # Check if the current key has reached the request limit, and switch to the next key after exceeding 400 times\n",
    "            if total_requests >= max_requests_perkey:\n",
    "                key_index = (key_index + 1) % len(api_keys)\n",
    "                client = ors.Client(key=api_keys[key_index])\n",
    "                total_requests = 0\n",
    "                print(f\"switch to next API key: {api_keys[key_index]}\")\n",
    "\n",
    "            # After processing every 40 rows, sleep for 70 seconds\n",
    "            if processed_count % batch_size == 0:\n",
    "                print(f\"Processed {processed_count} rentals, resting for 70 seconds...\")\n",
    "                time.sleep(70)\n",
    "\n",
    "    # Assign the lists to the DataFrame columns for the current block\n",
    "    df['min_distance_to_school(m)'] = min_distances\n",
    "    df['min_duration_to_school(s)'] = min_durations\n",
    "\n",
    "    result_df = df[['id', 'min_distance_to_school(m)', 'min_duration_to_school(s)']]\n",
    "    \n",
    "    # save\n",
    "    if os.path.exists(csv_file):\n",
    "        result_df.to_csv(csv_file, mode='a', index=False, header=False)\n",
    "    else:\n",
    "        result_df.to_csv(csv_file, mode='w', index=False, header=True)"
   ]
  },
  {
   "cell_type": "code",
   "execution_count": 10,
   "metadata": {},
   "outputs": [
    {
     "name": "stdout",
     "output_type": "stream",
     "text": [
      "        id  min_distance_to_school(m)  min_duration_to_school(s)\n",
      "2765  2766                     178.78                      20.48\n",
      "2766  2767                    1166.58                     122.82\n",
      "2767  2768                    1588.22                     152.86\n",
      "2768  2769                    1524.62                     203.11\n",
      "2769  2770                    1506.79                     189.10\n",
      "...    ...                        ...                        ...\n",
      "2957  2958                     801.29                     108.71\n",
      "2958  2959                     677.64                      90.91\n",
      "2959  2960                     374.77                      89.94\n",
      "2960  2961                     532.74                      91.65\n",
      "2961  2962                     780.51                     122.86\n",
      "\n",
      "[197 rows x 3 columns]\n"
     ]
    }
   ],
   "source": [
    "print(df[['id', 'min_distance_to_school(m)', 'min_duration_to_school(s)']])"
   ]
  }
 ],
 "metadata": {
  "kernelspec": {
   "display_name": "Python 3 (ipykernel)",
   "language": "python",
   "name": "python3"
  },
  "language_info": {
   "codemirror_mode": {
    "name": "ipython",
    "version": 3
   },
   "file_extension": ".py",
   "mimetype": "text/x-python",
   "name": "python",
   "nbconvert_exporter": "python",
   "pygments_lexer": "ipython3",
   "version": "3.10.12"
  }
 },
 "nbformat": 4,
 "nbformat_minor": 4
}
