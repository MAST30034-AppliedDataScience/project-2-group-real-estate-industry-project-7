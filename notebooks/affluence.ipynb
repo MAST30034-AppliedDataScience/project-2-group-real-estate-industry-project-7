{
 "cells": [
  {
   "cell_type": "markdown",
   "metadata": {},
   "source": [
    "# Affluence"
   ]
  },
  {
   "cell_type": "markdown",
   "metadata": {},
   "source": [
    "This notebook aims to determine the affluence of each SA2 suburb by calculating an Affluence Index, which is a weighted combination of 70% average income and 30% population growth rate. The results are then visualized using an SA2 shapefile."
   ]
  },
  {
   "cell_type": "code",
   "execution_count": 14,
   "metadata": {},
   "outputs": [],
   "source": [
    "import pandas as pd\n",
    "import geopandas as gpd\n",
    "import folium"
   ]
  },
  {
   "cell_type": "markdown",
   "metadata": {},
   "source": [
    "## Affluence Index"
   ]
  },
  {
   "cell_type": "code",
   "execution_count": 15,
   "metadata": {},
   "outputs": [],
   "source": [
    "income = pd.read_csv(\"../data/curated/income_cleaned.csv\")"
   ]
  },
  {
   "cell_type": "code",
   "execution_count": 16,
   "metadata": {},
   "outputs": [],
   "source": [
    "# Change data type to integer\n",
    "for col in ['2016-17', '2017-18', '2018-19', '2019-20', '2020-21']:\n",
    "    income[col] = pd.to_numeric(income[col].str.replace(',', ''), errors='coerce')\n"
   ]
  },
  {
   "cell_type": "code",
   "execution_count": 17,
   "metadata": {},
   "outputs": [
    {
     "data": {
      "text/html": [
       "<div>\n",
       "<style scoped>\n",
       "    .dataframe tbody tr th:only-of-type {\n",
       "        vertical-align: middle;\n",
       "    }\n",
       "\n",
       "    .dataframe tbody tr th {\n",
       "        vertical-align: top;\n",
       "    }\n",
       "\n",
       "    .dataframe thead th {\n",
       "        text-align: right;\n",
       "    }\n",
       "</style>\n",
       "<table border=\"1\" class=\"dataframe\">\n",
       "  <thead>\n",
       "    <tr style=\"text-align: right;\">\n",
       "      <th></th>\n",
       "      <th>SA2</th>\n",
       "      <th>SA2 NAME</th>\n",
       "      <th>affluence_index</th>\n",
       "    </tr>\n",
       "  </thead>\n",
       "  <tbody>\n",
       "    <tr>\n",
       "      <th>145</th>\n",
       "      <td>206051130</td>\n",
       "      <td>Port Melbourne</td>\n",
       "      <td>53425.708198</td>\n",
       "    </tr>\n",
       "    <tr>\n",
       "      <th>129</th>\n",
       "      <td>206041119</td>\n",
       "      <td>East Melbourne</td>\n",
       "      <td>52700.952595</td>\n",
       "    </tr>\n",
       "    <tr>\n",
       "      <th>134</th>\n",
       "      <td>206041127</td>\n",
       "      <td>West Melbourne - Industrial</td>\n",
       "      <td>52312.491414</td>\n",
       "    </tr>\n",
       "    <tr>\n",
       "      <th>162</th>\n",
       "      <td>206071517</td>\n",
       "      <td>Richmond (South) - Cremorne</td>\n",
       "      <td>52276.060451</td>\n",
       "    </tr>\n",
       "    <tr>\n",
       "      <th>153</th>\n",
       "      <td>206061138</td>\n",
       "      <td>Toorak</td>\n",
       "      <td>51622.502428</td>\n",
       "    </tr>\n",
       "  </tbody>\n",
       "</table>\n",
       "</div>"
      ],
      "text/plain": [
       "           SA2                     SA2 NAME  affluence_index\n",
       "145  206051130               Port Melbourne     53425.708198\n",
       "129  206041119               East Melbourne     52700.952595\n",
       "134  206041127  West Melbourne - Industrial     52312.491414\n",
       "162  206071517  Richmond (South) - Cremorne     52276.060451\n",
       "153  206061138                       Toorak     51622.502428"
      ]
     },
     "execution_count": 17,
     "metadata": {},
     "output_type": "execute_result"
    }
   ],
   "source": [
    "# Calculate average income across years\n",
    "income['average_income'] = income[['2016-17', '2017-18', '2018-19', '2019-20', '2020-21']].mean(axis=1)\n",
    "\n",
    "# Calculate income growth rate from 2016-17 to 2020-21\n",
    "income['growth_rate'] = (income['2020-21'] - income['2016-17']) / income['2016-17']\n",
    "\n",
    "# Affluence index by combining 70% of average income and 30% of growth rate\n",
    "income['affluence_index'] = income['average_income'] * 0.7 + income['growth_rate'] * 0.3\n",
    "income.to_csv(\"../data/curated/income_with_affluence.csv\")\n",
    "\n",
    "# Sort\n",
    "income = income.sort_values(by='affluence_index', ascending=False)\n",
    "\n",
    "income[['SA2', 'SA2 NAME', 'affluence_index']].head()\n"
   ]
  },
  {
   "cell_type": "markdown",
   "metadata": {},
   "source": [
    "## Visualization of Affluence Index"
   ]
  },
  {
   "cell_type": "code",
   "execution_count": 18,
   "metadata": {},
   "outputs": [],
   "source": [
    "# Load SA2 shapefile\n",
    "zones = gpd.read_file( \"../data/raw/external/SA2_2021_ShapeFile/SA2_2021_AUST_GDA2020.shp\")\n",
    "zones['geometry'] = zones['geometry'].to_crs(\"+proj=longlat +ellps=WGS84 +datum=WGS84 +no_defs\")"
   ]
  },
  {
   "cell_type": "code",
   "execution_count": 19,
   "metadata": {},
   "outputs": [
    {
     "name": "stdout",
     "output_type": "stream",
     "text": [
      "{\"type\": \"FeatureCollection\", \"features\": [{\"id\": \"0\", \"type\": \"Feature\", \"properties\": {\"SA2_NAME21\": \"Port Melbourne\"}, \"geometry\": {\"type\": \"Polygon\", \"coordinates\": [[[144.91690867221345, -37.83653682439829], [144.91721498216685, -37.83647492441878], [144.9198837217586, -37.83596199459752], [144\n"
     ]
    }
   ],
   "source": [
    "gdf = gpd.GeoDataFrame(\n",
    "    pd.merge(income, zones, left_on='SA2 NAME',right_on='SA2_NAME21', how='inner')\n",
    ")\n",
    "\n",
    "# create a JSON \n",
    "geoJSON = gdf[['SA2_NAME21', 'geometry']].drop_duplicates('SA2_NAME21').to_json()\n",
    "\n",
    "# print the first 300 chars of the json\n",
    "print(geoJSON[:300])"
   ]
  },
  {
   "cell_type": "code",
   "execution_count": 20,
   "metadata": {},
   "outputs": [
    {
     "data": {
      "text/plain": [
       "<folium.features.Choropleth at 0x28fdcd950>"
      ]
     },
     "execution_count": 20,
     "metadata": {},
     "output_type": "execute_result"
    }
   ],
   "source": [
    "m = folium.Map(location=[-37.8, 144.9] , tiles=\"Cartodb Positron\", zoom_start=10)\n",
    "\n",
    "\n",
    "c = folium.Choropleth(\n",
    "    geo_data=geoJSON, # geoJSON \n",
    "    name='choropleth', # name of plot\n",
    "    data=income.reset_index(), # data source\n",
    "    columns=['SA2 NAME','affluence_index'], # the columns required\n",
    "    key_on='properties.SA2_NAME21', # this is from the geoJSON's properties\n",
    "    fill_color='OrRd',  # Color map\n",
    "    fill_opacity=0.7,\n",
    "    line_opacity=0.2,\n",
    "    legend_name='affluence index'\n",
    ")\n",
    "\n",
    "c.add_to(m)"
   ]
  },
  {
   "cell_type": "code",
   "execution_count": 21,
   "metadata": {},
   "outputs": [
    {
     "name": "stdout",
     "output_type": "stream",
     "text": [
      "           SA2                     SA2 NAME  affluence_index\n",
      "145  206051130               Port Melbourne     53425.708198\n",
      "129  206041119               East Melbourne     52700.952595\n",
      "134  206041127  West Melbourne - Industrial     52312.491414\n",
      "162  206071517  Richmond (South) - Cremorne     52276.060451\n",
      "153  206061138                       Toorak     51622.502428\n"
     ]
    }
   ],
   "source": [
    "# (y, x) since we want (lat, long)\n",
    "gdf['centroid'] = gdf['geometry'].apply(lambda x: (x.centroid.y, x.centroid.x))\n",
    "\n",
    "# Find top 5 SA2 suburbs with the highest affluence index\n",
    "top_5_population_growth = income.sort_values(by='affluence_index', ascending=False).head(5)\n",
    "\n",
    "# Select the relevant columns: 'GCCSA name', 'SA2 code', 'SA2 name', and 'growth_rate'\n",
    "top_5_population_growth = top_5_population_growth[['SA2', 'SA2 NAME', 'affluence_index']]\n",
    "\n",
    "# Display the result\n",
    "print(top_5_population_growth)"
   ]
  },
  {
   "cell_type": "code",
   "execution_count": 22,
   "metadata": {},
   "outputs": [],
   "source": [
    "for zone_name, coord in gdf.loc[gdf['SA2'].isin(top_5_population_growth['SA2']), ['SA2 NAME', 'centroid']].values:\n",
    "    m.add_child(\n",
    "        folium.Marker(location=coord, popup=zone_name)\n",
    "    )\n",
    "m.save('../plots/affluence_index.html')"
   ]
  }
 ],
 "metadata": {
  "kernelspec": {
   "display_name": "base",
   "language": "python",
   "name": "python3"
  },
  "language_info": {
   "codemirror_mode": {
    "name": "ipython",
    "version": 3
   },
   "file_extension": ".py",
   "mimetype": "text/x-python",
   "name": "python",
   "nbconvert_exporter": "python",
   "pygments_lexer": "ipython3",
   "version": "3.11.5"
  }
 },
 "nbformat": 4,
 "nbformat_minor": 2
}
