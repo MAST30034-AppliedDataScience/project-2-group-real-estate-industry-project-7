{
 "cells": [
  {
   "cell_type": "code",
   "execution_count": 1,
   "id": "37921315",
   "metadata": {},
   "outputs": [],
   "source": [
    "# import library\n",
    "import pandas as pd\n",
    "import folium\n",
    "import geopandas as gpd\n",
    "from folium.plugins import MarkerCluster"
   ]
  },
  {
   "cell_type": "code",
   "execution_count": 2,
   "id": "3ea2e513",
   "metadata": {},
   "outputs": [],
   "source": [
    "# read data\n",
    "school_data = pd.read_csv(\"./data/curated/school_location_cleaned_2023.csv\")\n",
    "train_data = pd.read_csv(\"./data/curated/train_station_cleaned.csv\")\n",
    "population_data = pd.read_csv(\"./data/curated/population_cleaned.csv\")\n",
    "rent_data = pd.read_csv(\"./data/curated/rent_cleaned.csv\")"
   ]
  },
  {
   "cell_type": "code",
   "execution_count": 3,
   "id": "b059540e",
   "metadata": {},
   "outputs": [],
   "source": [
    "# Load the map file for post codes\n",
    "shapefile_data = gpd.read_file(\"./data/raw/external/SA2_2021_AUST_SHP_GDA2020/SA2_2021_AUST_GDA2020.shp\")\n",
    "shapefile_data = shapefile_data.rename(columns={'SA2_2021': 'Postcode'})"
   ]
  },
  {
   "cell_type": "code",
   "execution_count": 4,
   "id": "edddb24c",
   "metadata": {},
   "outputs": [],
   "source": [
    "# define function to extract location points\n",
    "def extract_location_points(lat_list, lng_list, additional_data):\n",
    "    points = []\n",
    "    for lat, lng, data in zip(lat_list, lng_list, additional_data):\n",
    "        points.append((lat, lng, data))\n",
    "    return points"
   ]
  },
  {
   "cell_type": "code",
   "execution_count": 5,
   "id": "0ca95859",
   "metadata": {},
   "outputs": [],
   "source": [
    "# process school data\n",
    "school_points = extract_location_points(school_data[\"Y\"], school_data[\"X\"], school_data[\"School_Type\"])\n",
    "\n",
    "# process train data\n",
    "train_points = extract_location_points(train_data[\"latitude\"], train_data[\"longitude\"], train_data[\"Stop_ID\"])\n",
    "\n",
    "# process rent data\n",
    "rent_points = extract_location_points(rent_data[\"latitude\"], rent_data[\"longitude\"], rent_data[\"price_per_week\"])\n",
    "\n",
    "# process population data\n",
    "postcode_mapping = pd.read_csv(\"./data/raw/external/australian_postcodes.csv\")[[\"SA2_CODE_2021\", \"lat\", \"long\"]]\n",
    "postcode_dict = {row['SA2_CODE_2021']: (row['lat'], row['long']) for _, row in postcode_mapping.iterrows()}\n",
    "\n",
    "population_points = [(postcode_dict[suburb][0], postcode_dict[suburb][1], pop) \n",
    "                     for suburb, pop in zip(population_data[\"SA2 code\"], population_data[\"2023\"]) \n",
    "                     if suburb in postcode_dict]"
   ]
  },
  {
   "cell_type": "code",
   "execution_count": 6,
   "id": "60a7b849",
   "metadata": {},
   "outputs": [],
   "source": [
    "# define function to add marker clusters\n",
    "def create_marker_cluster(map_object, name, icon, color, data_points):\n",
    "    feature_group = folium.FeatureGroup(name=name, control=True)\n",
    "    marker_cluster = MarkerCluster(name=name).add_to(feature_group)\n",
    "    for lat, lng, info in data_points:\n",
    "        folium.Marker(\n",
    "            location=[lat, lng],\n",
    "            icon=folium.Icon(icon=icon, color=color, icon_color='white', prefix=\"fa\"),\n",
    "            popup=str(info)\n",
    "        ).add_to(marker_cluster)\n",
    "    map_object.add_child(feature_group)"
   ]
  },
  {
   "cell_type": "code",
   "execution_count": 7,
   "id": "aee429d0",
   "metadata": {},
   "outputs": [],
   "source": [
    "# create map\n",
    "map_object = folium.Map(location=[-36, 145.3906], tiles=\"OpenStreetMap\", zoom_start=7)"
   ]
  },
  {
   "cell_type": "code",
   "execution_count": 8,
   "id": "2b2349ac",
   "metadata": {},
   "outputs": [],
   "source": [
    "# add markers on map\n",
    "create_marker_cluster(map_object, 'School_Layer', 'university', 'black', school_points)\n",
    "create_marker_cluster(map_object, 'Train_Layer', 'train', 'green', train_points)\n",
    "create_marker_cluster(map_object, 'Rent_Layer', 'home', 'red', rent_points)\n",
    "create_marker_cluster(map_object, 'Population_Layer', 'child', 'blue', population_points)"
   ]
  },
  {
   "cell_type": "code",
   "execution_count": 9,
   "id": "107e5182",
   "metadata": {},
   "outputs": [
    {
     "data": {
      "text/plain": [
       "<folium.map.LayerControl at 0x1f1e4c12710>"
      ]
     },
     "execution_count": 9,
     "metadata": {},
     "output_type": "execute_result"
    }
   ],
   "source": [
    "# add layer control\n",
    "folium.LayerControl().add_to(map_object)"
   ]
  },
  {
   "cell_type": "code",
   "execution_count": 10,
   "id": "e66aa52d",
   "metadata": {},
   "outputs": [],
   "source": [
    "# save map to html file\n",
    "map_object.save('livable.html')"
   ]
  }
 ],
 "metadata": {
  "kernelspec": {
   "display_name": "Python 3",
   "language": "python",
   "name": "python3"
  },
  "language_info": {
   "codemirror_mode": {
    "name": "ipython",
    "version": 3
   },
   "file_extension": ".py",
   "mimetype": "text/x-python",
   "name": "python",
   "nbconvert_exporter": "python",
   "pygments_lexer": "ipython3",
   "version": "3.11.9"
  }
 },
 "nbformat": 4,
 "nbformat_minor": 5
}
