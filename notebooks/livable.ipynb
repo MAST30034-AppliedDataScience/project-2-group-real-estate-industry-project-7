{
 "cells": [
  {
   "cell_type": "code",
   "execution_count": 78,
   "id": "37921315",
   "metadata": {},
   "outputs": [],
   "source": [
    "# import library\n",
    "import pandas as pd\n",
    "import folium\n",
    "import geopandas as gpd\n",
    "from folium.plugins import MarkerCluster\n",
    "from folium.plugins import HeatMap\n",
    "import branca.colormap as cm"
   ]
  },
  {
   "cell_type": "code",
   "execution_count": 79,
   "id": "3ea2e513",
   "metadata": {},
   "outputs": [],
   "source": [
    "# read data\n",
    "school_data = pd.read_csv(\"../data/curated/school_location_cleaned_2023.csv\")\n",
    "train_data = pd.read_csv(\"../data/curated/train_station_cleaned.csv\")\n",
    "population_data = pd.read_csv(\"../data/curated/population_cleaned.csv\")\n",
    "rent_data = pd.read_csv(\"../data/curated/rent_cleaned.csv\")\n",
    "postcode_data = pd.read_csv(\"../data/raw/external/australian_postcodes.csv\")\n",
    "affordable_index = pd.read_csv('../data/curated/rent_income_2023-24.csv')"
   ]
  },
  {
   "cell_type": "code",
   "execution_count": 80,
   "id": "b059540e",
   "metadata": {},
   "outputs": [],
   "source": [
    "# Load the map file for post codes\n",
    "shapefile_data = gpd.read_file(\"../data/raw/external/SA2_2021_ShapeFile/SA2_2021_AUST_GDA2020.shp\")\n",
    "shapefile_data = shapefile_data.rename(columns={'SA2_2021': 'Postcode'})\n",
    "shapefile_data = shapefile_data[shapefile_data.is_valid]"
   ]
  },
  {
   "cell_type": "code",
   "execution_count": 81,
   "id": "3fa9869b",
   "metadata": {},
   "outputs": [],
   "source": [
    "#clean postcode data \n",
    "postcode_data = postcode_data[postcode_data['state'] == 'VIC']"
   ]
  },
  {
   "cell_type": "markdown",
   "id": "8770f2d9",
   "metadata": {},
   "source": [
    "# liveable index"
   ]
  },
  {
   "cell_type": "markdown",
   "id": "94abeb4a",
   "metadata": {},
   "source": [
    "### school count"
   ]
  },
  {
   "cell_type": "code",
   "execution_count": 82,
   "id": "76edc460",
   "metadata": {},
   "outputs": [],
   "source": [
    "#calculate and sort by school count nearby for each postcode\n",
    "school_count = school_data.groupby('Address_Postcode').size().reset_index(name='school_count')\n",
    "school_count = school_count.groupby('Address_Postcode').agg({'school_count': 'sum'}).reset_index()\n",
    "school_count = school_count.sort_values(by='school_count',ascending=False)"
   ]
  },
  {
   "cell_type": "code",
   "execution_count": 83,
   "id": "c3fbafdd",
   "metadata": {},
   "outputs": [
    {
     "data": {
      "text/html": [
       "<div>\n",
       "<style scoped>\n",
       "    .dataframe tbody tr th:only-of-type {\n",
       "        vertical-align: middle;\n",
       "    }\n",
       "\n",
       "    .dataframe tbody tr th {\n",
       "        vertical-align: top;\n",
       "    }\n",
       "\n",
       "    .dataframe thead th {\n",
       "        text-align: right;\n",
       "    }\n",
       "</style>\n",
       "<table border=\"1\" class=\"dataframe\">\n",
       "  <thead>\n",
       "    <tr style=\"text-align: right;\">\n",
       "      <th></th>\n",
       "      <th>Address_Postcode</th>\n",
       "      <th>school_count</th>\n",
       "    </tr>\n",
       "  </thead>\n",
       "  <tbody>\n",
       "    <tr>\n",
       "      <th>20</th>\n",
       "      <td>3029</td>\n",
       "      <td>28</td>\n",
       "    </tr>\n",
       "    <tr>\n",
       "      <th>252</th>\n",
       "      <td>3350</td>\n",
       "      <td>28</td>\n",
       "    </tr>\n",
       "    <tr>\n",
       "      <th>564</th>\n",
       "      <td>3977</td>\n",
       "      <td>27</td>\n",
       "    </tr>\n",
       "    <tr>\n",
       "      <th>21</th>\n",
       "      <td>3030</td>\n",
       "      <td>26</td>\n",
       "    </tr>\n",
       "    <tr>\n",
       "      <th>50</th>\n",
       "      <td>3064</td>\n",
       "      <td>25</td>\n",
       "    </tr>\n",
       "  </tbody>\n",
       "</table>\n",
       "</div>"
      ],
      "text/plain": [
       "     Address_Postcode  school_count\n",
       "20               3029            28\n",
       "252              3350            28\n",
       "564              3977            27\n",
       "21               3030            26\n",
       "50               3064            25"
      ]
     },
     "execution_count": 83,
     "metadata": {},
     "output_type": "execute_result"
    }
   ],
   "source": [
    "school_count.head()"
   ]
  },
  {
   "cell_type": "markdown",
   "id": "b6d5b380",
   "metadata": {},
   "source": [
    "### train station count"
   ]
  },
  {
   "cell_type": "code",
   "execution_count": 84,
   "id": "ed5f2052",
   "metadata": {},
   "outputs": [],
   "source": [
    "#rename column lat and long in postcode data\n",
    "postcode_data['latitude'] = postcode_data['lat']\n",
    "postcode_data['longitude'] = postcode_data['long']\n",
    "\n",
    "#merge postcode data and train data\n",
    "train_count = pd.merge(postcode_data, train_data, on=['latitude', 'longitude'], how='left')\n",
    "\n",
    "#calculate and sort nearby train station count for each postcode\n",
    "train_count = train_count.groupby('postcode').size().reset_index(name='train_count')\n",
    "train_count = train_count.groupby('postcode').agg({'train_count': 'sum'}).reset_index()\n",
    "train_count = train_count.sort_values(by='train_count',ascending=False)"
   ]
  },
  {
   "cell_type": "code",
   "execution_count": 85,
   "id": "2cb1b467",
   "metadata": {},
   "outputs": [
    {
     "data": {
      "text/html": [
       "<div>\n",
       "<style scoped>\n",
       "    .dataframe tbody tr th:only-of-type {\n",
       "        vertical-align: middle;\n",
       "    }\n",
       "\n",
       "    .dataframe tbody tr th {\n",
       "        vertical-align: top;\n",
       "    }\n",
       "\n",
       "    .dataframe thead th {\n",
       "        text-align: right;\n",
       "    }\n",
       "</style>\n",
       "<table border=\"1\" class=\"dataframe\">\n",
       "  <thead>\n",
       "    <tr style=\"text-align: right;\">\n",
       "      <th></th>\n",
       "      <th>postcode</th>\n",
       "      <th>train_count</th>\n",
       "    </tr>\n",
       "  </thead>\n",
       "  <tbody>\n",
       "    <tr>\n",
       "      <th>291</th>\n",
       "      <td>3352</td>\n",
       "      <td>62</td>\n",
       "    </tr>\n",
       "    <tr>\n",
       "      <th>324</th>\n",
       "      <td>3401</td>\n",
       "      <td>48</td>\n",
       "    </tr>\n",
       "    <tr>\n",
       "      <th>413</th>\n",
       "      <td>3551</td>\n",
       "      <td>41</td>\n",
       "    </tr>\n",
       "    <tr>\n",
       "      <th>508</th>\n",
       "      <td>3691</td>\n",
       "      <td>37</td>\n",
       "    </tr>\n",
       "    <tr>\n",
       "      <th>638</th>\n",
       "      <td>3875</td>\n",
       "      <td>35</td>\n",
       "    </tr>\n",
       "  </tbody>\n",
       "</table>\n",
       "</div>"
      ],
      "text/plain": [
       "     postcode  train_count\n",
       "291      3352           62\n",
       "324      3401           48\n",
       "413      3551           41\n",
       "508      3691           37\n",
       "638      3875           35"
      ]
     },
     "execution_count": 85,
     "metadata": {},
     "output_type": "execute_result"
    }
   ],
   "source": [
    "train_count.head()"
   ]
  },
  {
   "cell_type": "markdown",
   "id": "72de105a",
   "metadata": {},
   "source": [
    "### population count"
   ]
  },
  {
   "cell_type": "code",
   "execution_count": 86,
   "id": "a079c769",
   "metadata": {},
   "outputs": [],
   "source": [
    "#sort population data by 2023 population\n",
    "population_sort=population_data.sort_values(by='2023',ascending=False)\n",
    "population_sort=population_sort[['SA2 name','SA2 code','2023']]\n",
    "\n",
    "#calculate and sort each postcode's population in 2023\n",
    "population_count=pd.merge(population_sort, postcode_data, left_on='SA2 name', right_on='SA2_NAME_2021', how='inner')\n",
    "population_count=population_count.groupby('postcode').agg({'2023':'sum'}).reset_index()\n",
    "population_count=population_count[['postcode','2023']]\n",
    "population_count=population_count.sort_values(by='2023',ascending=False)\n"
   ]
  },
  {
   "cell_type": "code",
   "execution_count": 87,
   "id": "6e9b4318",
   "metadata": {},
   "outputs": [
    {
     "data": {
      "text/html": [
       "<div>\n",
       "<style scoped>\n",
       "    .dataframe tbody tr th:only-of-type {\n",
       "        vertical-align: middle;\n",
       "    }\n",
       "\n",
       "    .dataframe tbody tr th {\n",
       "        vertical-align: top;\n",
       "    }\n",
       "\n",
       "    .dataframe thead th {\n",
       "        text-align: right;\n",
       "    }\n",
       "</style>\n",
       "<table border=\"1\" class=\"dataframe\">\n",
       "  <thead>\n",
       "    <tr style=\"text-align: right;\">\n",
       "      <th></th>\n",
       "      <th>postcode</th>\n",
       "      <th>2023</th>\n",
       "    </tr>\n",
       "  </thead>\n",
       "  <tbody>\n",
       "    <tr>\n",
       "      <th>487</th>\n",
       "      <td>3691</td>\n",
       "      <td>548118</td>\n",
       "    </tr>\n",
       "    <tr>\n",
       "      <th>192</th>\n",
       "      <td>3221</td>\n",
       "      <td>527982</td>\n",
       "    </tr>\n",
       "    <tr>\n",
       "      <th>581</th>\n",
       "      <td>3821</td>\n",
       "      <td>488340</td>\n",
       "    </tr>\n",
       "    <tr>\n",
       "      <th>585</th>\n",
       "      <td>3825</td>\n",
       "      <td>470518</td>\n",
       "    </tr>\n",
       "    <tr>\n",
       "      <th>692</th>\n",
       "      <td>3995</td>\n",
       "      <td>395556</td>\n",
       "    </tr>\n",
       "  </tbody>\n",
       "</table>\n",
       "</div>"
      ],
      "text/plain": [
       "     postcode    2023\n",
       "487      3691  548118\n",
       "192      3221  527982\n",
       "581      3821  488340\n",
       "585      3825  470518\n",
       "692      3995  395556"
      ]
     },
     "execution_count": 87,
     "metadata": {},
     "output_type": "execute_result"
    }
   ],
   "source": [
    "population_count.head()"
   ]
  },
  {
   "cell_type": "markdown",
   "id": "5d5c548b",
   "metadata": {},
   "source": [
    "### rent count"
   ]
  },
  {
   "cell_type": "code",
   "execution_count": 88,
   "id": "c9985479",
   "metadata": {},
   "outputs": [],
   "source": [
    "#sort each postcode's mean rent\n",
    "rent_count=rent_data.groupby('postcode').agg({'price_per_week':'mean'}).reset_index()\n",
    "rent_count=rent_count.sort_values(by='price_per_week')"
   ]
  },
  {
   "cell_type": "code",
   "execution_count": 89,
   "id": "1eeff02f",
   "metadata": {},
   "outputs": [
    {
     "data": {
      "text/html": [
       "<div>\n",
       "<style scoped>\n",
       "    .dataframe tbody tr th:only-of-type {\n",
       "        vertical-align: middle;\n",
       "    }\n",
       "\n",
       "    .dataframe tbody tr th {\n",
       "        vertical-align: top;\n",
       "    }\n",
       "\n",
       "    .dataframe thead th {\n",
       "        text-align: right;\n",
       "    }\n",
       "</style>\n",
       "<table border=\"1\" class=\"dataframe\">\n",
       "  <thead>\n",
       "    <tr style=\"text-align: right;\">\n",
       "      <th></th>\n",
       "      <th>postcode</th>\n",
       "      <th>price_per_week</th>\n",
       "    </tr>\n",
       "  </thead>\n",
       "  <tbody>\n",
       "    <tr>\n",
       "      <th>329</th>\n",
       "      <td>3981</td>\n",
       "      <td>200.0</td>\n",
       "    </tr>\n",
       "    <tr>\n",
       "      <th>214</th>\n",
       "      <td>3409</td>\n",
       "      <td>200.0</td>\n",
       "    </tr>\n",
       "    <tr>\n",
       "      <th>212</th>\n",
       "      <td>3396</td>\n",
       "      <td>200.0</td>\n",
       "    </tr>\n",
       "    <tr>\n",
       "      <th>193</th>\n",
       "      <td>3318</td>\n",
       "      <td>230.0</td>\n",
       "    </tr>\n",
       "    <tr>\n",
       "      <th>285</th>\n",
       "      <td>3825</td>\n",
       "      <td>237.5</td>\n",
       "    </tr>\n",
       "  </tbody>\n",
       "</table>\n",
       "</div>"
      ],
      "text/plain": [
       "     postcode  price_per_week\n",
       "329      3981           200.0\n",
       "214      3409           200.0\n",
       "212      3396           200.0\n",
       "193      3318           230.0\n",
       "285      3825           237.5"
      ]
     },
     "execution_count": 89,
     "metadata": {},
     "output_type": "execute_result"
    }
   ],
   "source": [
    "rent_count.head()"
   ]
  },
  {
   "cell_type": "markdown",
   "id": "328a3b95",
   "metadata": {},
   "source": [
    "### calculate liveablity"
   ]
  },
  {
   "cell_type": "code",
   "execution_count": 90,
   "id": "b7222f70",
   "metadata": {},
   "outputs": [],
   "source": [
    "#merge all data of count\n",
    "liveable_count = school_count.merge(train_count,left_on='Address_Postcode',right_on='postcode',how='outer')\\\n",
    "    .merge(population_count, on='postcode', how='outer')\\\n",
    "        .merge(rent_count, on='postcode', how='outer')\n",
    "\n",
    "#define weight of each element\n",
    "school_weight = 0.2\n",
    "train_weight = 0.3\n",
    "population_weight = 0.2\n",
    "rent_weight = 0.3\n",
    "\n",
    "#use Z-score to nomalization\n",
    "liveable_count['school_count'] = (liveable_count['school_count'] - liveable_count['school_count'].min()) / (liveable_count['school_count'].max() - liveable_count['school_count'].min())\n",
    "liveable_count['train_count'] = (liveable_count['train_count'] - liveable_count['train_count'].min()) / (liveable_count['train_count'].max() - liveable_count['train_count'].min())\n",
    "liveable_count['2023'] = (liveable_count['2023'] - liveable_count['2023'].min()) / (liveable_count['2023'].max() - liveable_count['2023'].min())\n",
    "liveable_count['price_per_week'] = (liveable_count['price_per_week'] - liveable_count['price_per_week'].min()) / (liveable_count['price_per_week'].max() - liveable_count['price_per_week'].min())\n",
    "\n",
    "#calculate liveability for each postcode\n",
    "liveable_count['liveability_index'] = (liveable_count['school_count'] * school_weight + liveable_count['train_count'] * train_weight + liveable_count['2023'] * population_weight - liveable_count['price_per_week'] * rent_weight)\n",
    "\n",
    "#sort by liveability\n",
    "liveable_count = liveable_count.sort_values(by='liveability_index', ascending=False)\n",
    "\n",
    "\n"
   ]
  },
  {
   "cell_type": "code",
   "execution_count": 91,
   "id": "3733b3a0",
   "metadata": {},
   "outputs": [
    {
     "data": {
      "text/html": [
       "<div>\n",
       "<style scoped>\n",
       "    .dataframe tbody tr th:only-of-type {\n",
       "        vertical-align: middle;\n",
       "    }\n",
       "\n",
       "    .dataframe tbody tr th {\n",
       "        vertical-align: top;\n",
       "    }\n",
       "\n",
       "    .dataframe thead th {\n",
       "        text-align: right;\n",
       "    }\n",
       "</style>\n",
       "<table border=\"1\" class=\"dataframe\">\n",
       "  <thead>\n",
       "    <tr style=\"text-align: right;\">\n",
       "      <th></th>\n",
       "      <th>Address_Postcode</th>\n",
       "      <th>school_count</th>\n",
       "      <th>postcode</th>\n",
       "      <th>train_count</th>\n",
       "      <th>2023</th>\n",
       "      <th>price_per_week</th>\n",
       "      <th>liveability_index</th>\n",
       "    </tr>\n",
       "  </thead>\n",
       "  <tbody>\n",
       "    <tr>\n",
       "      <th>291</th>\n",
       "      <td>3352.0</td>\n",
       "      <td>0.444444</td>\n",
       "      <td>3352</td>\n",
       "      <td>1.000000</td>\n",
       "      <td>0.601994</td>\n",
       "      <td>0.154067</td>\n",
       "      <td>0.463068</td>\n",
       "    </tr>\n",
       "    <tr>\n",
       "      <th>610</th>\n",
       "      <td>3825.0</td>\n",
       "      <td>0.444444</td>\n",
       "      <td>3825</td>\n",
       "      <td>0.491803</td>\n",
       "      <td>0.858425</td>\n",
       "      <td>0.019737</td>\n",
       "      <td>0.402194</td>\n",
       "    </tr>\n",
       "    <tr>\n",
       "      <th>289</th>\n",
       "      <td>3350.0</td>\n",
       "      <td>1.000000</td>\n",
       "      <td>3350</td>\n",
       "      <td>0.360656</td>\n",
       "      <td>0.540677</td>\n",
       "      <td>0.114079</td>\n",
       "      <td>0.382109</td>\n",
       "    </tr>\n",
       "    <tr>\n",
       "      <th>508</th>\n",
       "      <td>3691.0</td>\n",
       "      <td>0.259259</td>\n",
       "      <td>3691</td>\n",
       "      <td>0.590164</td>\n",
       "      <td>1.000000</td>\n",
       "      <td>0.261404</td>\n",
       "      <td>0.350480</td>\n",
       "    </tr>\n",
       "    <tr>\n",
       "      <th>638</th>\n",
       "      <td>3875.0</td>\n",
       "      <td>0.370370</td>\n",
       "      <td>3875</td>\n",
       "      <td>0.557377</td>\n",
       "      <td>0.450241</td>\n",
       "      <td>0.164286</td>\n",
       "      <td>0.282050</td>\n",
       "    </tr>\n",
       "    <tr>\n",
       "      <th>413</th>\n",
       "      <td>3551.0</td>\n",
       "      <td>0.370370</td>\n",
       "      <td>3551</td>\n",
       "      <td>0.655738</td>\n",
       "      <td>0.313194</td>\n",
       "      <td>0.176316</td>\n",
       "      <td>0.280539</td>\n",
       "    </tr>\n",
       "    <tr>\n",
       "      <th>412</th>\n",
       "      <td>3550.0</td>\n",
       "      <td>0.740741</td>\n",
       "      <td>3550</td>\n",
       "      <td>0.245902</td>\n",
       "      <td>0.444751</td>\n",
       "      <td>0.185938</td>\n",
       "      <td>0.255088</td>\n",
       "    </tr>\n",
       "    <tr>\n",
       "      <th>708</th>\n",
       "      <td>3977.0</td>\n",
       "      <td>0.962963</td>\n",
       "      <td>3977</td>\n",
       "      <td>0.180328</td>\n",
       "      <td>0.296214</td>\n",
       "      <td>0.193026</td>\n",
       "      <td>0.248026</td>\n",
       "    </tr>\n",
       "    <tr>\n",
       "      <th>307</th>\n",
       "      <td>3377.0</td>\n",
       "      <td>0.259259</td>\n",
       "      <td>3377</td>\n",
       "      <td>0.409836</td>\n",
       "      <td>0.401253</td>\n",
       "      <td>0.112281</td>\n",
       "      <td>0.221369</td>\n",
       "    </tr>\n",
       "    <tr>\n",
       "      <th>360</th>\n",
       "      <td>3461.0</td>\n",
       "      <td>0.111111</td>\n",
       "      <td>3461</td>\n",
       "      <td>0.442623</td>\n",
       "      <td>0.540008</td>\n",
       "      <td>0.181579</td>\n",
       "      <td>0.208537</td>\n",
       "    </tr>\n",
       "  </tbody>\n",
       "</table>\n",
       "</div>"
      ],
      "text/plain": [
       "     Address_Postcode  school_count  postcode  train_count      2023  \\\n",
       "291            3352.0      0.444444      3352     1.000000  0.601994   \n",
       "610            3825.0      0.444444      3825     0.491803  0.858425   \n",
       "289            3350.0      1.000000      3350     0.360656  0.540677   \n",
       "508            3691.0      0.259259      3691     0.590164  1.000000   \n",
       "638            3875.0      0.370370      3875     0.557377  0.450241   \n",
       "413            3551.0      0.370370      3551     0.655738  0.313194   \n",
       "412            3550.0      0.740741      3550     0.245902  0.444751   \n",
       "708            3977.0      0.962963      3977     0.180328  0.296214   \n",
       "307            3377.0      0.259259      3377     0.409836  0.401253   \n",
       "360            3461.0      0.111111      3461     0.442623  0.540008   \n",
       "\n",
       "     price_per_week  liveability_index  \n",
       "291        0.154067           0.463068  \n",
       "610        0.019737           0.402194  \n",
       "289        0.114079           0.382109  \n",
       "508        0.261404           0.350480  \n",
       "638        0.164286           0.282050  \n",
       "413        0.176316           0.280539  \n",
       "412        0.185938           0.255088  \n",
       "708        0.193026           0.248026  \n",
       "307        0.112281           0.221369  \n",
       "360        0.181579           0.208537  "
      ]
     },
     "execution_count": 91,
     "metadata": {},
     "output_type": "execute_result"
    }
   ],
   "source": [
    "liveable_count.iloc[:10,:]"
   ]
  },
  {
   "cell_type": "markdown",
   "id": "84e7bfc8",
   "metadata": {},
   "source": [
    "## liveable and affordable index"
   ]
  },
  {
   "cell_type": "code",
   "execution_count": 92,
   "id": "fb6461f8",
   "metadata": {},
   "outputs": [],
   "source": [
    "#clean affordable index data\n",
    "affordable_index1 = affordable_index[['postcode','affordable index of 2023-24']]\n",
    "affordable_index1 = affordable_index1.groupby('postcode').agg({'affordable index of 2023-24':'mean'}).reset_index()\n",
    "\n",
    "#merge affordable index and liveable index data\n",
    "all_index = pd.merge(affordable_index1,liveable_count,on='postcode',how='outer')\n",
    "\n",
    "#Min-Max normalization index values\n",
    "all_index['liveability_index'] = (all_index['liveability_index'] - all_index['liveability_index'].min()) / (all_index['liveability_index'].max() - all_index['liveability_index'].min())\n",
    "all_index['affordable index of 2023-24'] = (all_index['affordable index of 2023-24'] - all_index['affordable index of 2023-24'].min()) / (all_index['affordable index of 2023-24'].max() - all_index['affordable index of 2023-24'].min())\n",
    "\n",
    "#calculate the liveability and affordability of suburb\n",
    "all_index['index'] = all_index['affordable index of 2023-24'] * 0.7 + all_index['liveability_index'] * 0.3\n",
    "\n",
    "#sort index\n",
    "all_index = all_index.sort_values(by='index',ascending=False)\n",
    "all_index = all_index[['postcode','index']]"
   ]
  },
  {
   "cell_type": "code",
   "execution_count": 93,
   "id": "4eeda156",
   "metadata": {},
   "outputs": [
    {
     "data": {
      "text/html": [
       "<div>\n",
       "<style scoped>\n",
       "    .dataframe tbody tr th:only-of-type {\n",
       "        vertical-align: middle;\n",
       "    }\n",
       "\n",
       "    .dataframe tbody tr th {\n",
       "        vertical-align: top;\n",
       "    }\n",
       "\n",
       "    .dataframe thead th {\n",
       "        text-align: right;\n",
       "    }\n",
       "</style>\n",
       "<table border=\"1\" class=\"dataframe\">\n",
       "  <thead>\n",
       "    <tr style=\"text-align: right;\">\n",
       "      <th></th>\n",
       "      <th>postcode</th>\n",
       "      <th>index</th>\n",
       "    </tr>\n",
       "  </thead>\n",
       "  <tbody>\n",
       "    <tr>\n",
       "      <th>712</th>\n",
       "      <td>3981</td>\n",
       "      <td>0.839035</td>\n",
       "    </tr>\n",
       "    <tr>\n",
       "      <th>610</th>\n",
       "      <td>3825</td>\n",
       "      <td>0.789927</td>\n",
       "    </tr>\n",
       "    <tr>\n",
       "      <th>327</th>\n",
       "      <td>3409</td>\n",
       "      <td>0.736872</td>\n",
       "    </tr>\n",
       "    <tr>\n",
       "      <th>321</th>\n",
       "      <td>3396</td>\n",
       "      <td>0.723167</td>\n",
       "    </tr>\n",
       "    <tr>\n",
       "      <th>289</th>\n",
       "      <td>3350</td>\n",
       "      <td>0.595850</td>\n",
       "    </tr>\n",
       "  </tbody>\n",
       "</table>\n",
       "</div>"
      ],
      "text/plain": [
       "     postcode     index\n",
       "712      3981  0.839035\n",
       "610      3825  0.789927\n",
       "327      3409  0.736872\n",
       "321      3396  0.723167\n",
       "289      3350  0.595850"
      ]
     },
     "execution_count": 93,
     "metadata": {},
     "output_type": "execute_result"
    }
   ],
   "source": [
    "all_index.head()"
   ]
  },
  {
   "cell_type": "markdown",
   "id": "49e37dd8",
   "metadata": {},
   "source": [
    "## create map"
   ]
  },
  {
   "cell_type": "code",
   "execution_count": 94,
   "id": "edddb24c",
   "metadata": {},
   "outputs": [],
   "source": [
    "# define function to extract location points\n",
    "def extract_location_points(lat_list, lng_list, additional_data):\n",
    "    points = []\n",
    "    for lat, lng, data in zip(lat_list, lng_list, additional_data):\n",
    "        points.append((lat, lng, data))\n",
    "    return points"
   ]
  },
  {
   "cell_type": "code",
   "execution_count": 95,
   "id": "0ca95859",
   "metadata": {},
   "outputs": [],
   "source": [
    "# process school data\n",
    "school_points = extract_location_points(school_data[\"Y\"], school_data[\"X\"], school_data[\"School_Type\"])\n",
    "\n",
    "# process train data\n",
    "train_points = extract_location_points(train_data[\"latitude\"], train_data[\"longitude\"], train_data[\"Stop_ID\"])\n",
    "\n",
    "#process rent data\n",
    "rent_points = extract_location_points(rent_data[\"latitude\"], rent_data[\"longitude\"],rent_data[\"price_per_week\"])\n",
    "\n",
    "# process population data\n",
    "postcode_mapping = pd.read_csv(\"../data/raw/external/australian_postcodes.csv\")[[\"SA2_CODE_2021\", \"lat\", \"long\"]]\n",
    "postcode_dict = {row['SA2_CODE_2021']: (row['lat'], row['long']) for _, row in postcode_mapping.iterrows()}\n",
    "\n",
    "population_points = [(postcode_dict[suburb][0], postcode_dict[suburb][1], pop) \n",
    "                     for suburb, pop in zip(population_data[\"SA2 code\"], population_data[\"2023\"]) \n",
    "                     if suburb in postcode_dict]\n",
    "\n",
    "#process postcode data\n",
    "postcode_points = extract_location_points(postcode_data[\"lat\"], postcode_data[\"long\"], postcode_data[\"postcode\"])\n",
    "\n",
    "#process index data\n",
    "all_index_most = postcode_data[postcode_data['postcode']==3981]\n",
    "all_index_points = extract_location_points(all_index_most[\"lat\"], all_index_most[\"long\"], all_index_most[\"postcode\"])"
   ]
  },
  {
   "cell_type": "code",
   "execution_count": 96,
   "id": "60a7b849",
   "metadata": {},
   "outputs": [],
   "source": [
    "# define function to add marker clusters\n",
    "def create_marker_cluster(map_object, name, icon, color, data_points):\n",
    "    feature_group = folium.FeatureGroup(name=name, control=True)\n",
    "    marker_cluster = MarkerCluster(name=name).add_to(feature_group)\n",
    "    for lat, lng, info in data_points:\n",
    "        folium.Marker(\n",
    "            location=[lat, lng],\n",
    "            icon=folium.Icon(icon=icon, color=color, icon_color='white', prefix=\"fa\"),\n",
    "            popup=str(info)\n",
    "        ).add_to(marker_cluster)\n",
    "    map_object.add_child(feature_group)"
   ]
  },
  {
   "cell_type": "code",
   "execution_count": 97,
   "id": "aee429d0",
   "metadata": {},
   "outputs": [],
   "source": [
    "# create map\n",
    "map_object=folium.Map(location=[-36, 145.3906], tiles='CartoDB positron', zoom_start=7)"
   ]
  },
  {
   "cell_type": "code",
   "execution_count": 98,
   "id": "8ec4c1af",
   "metadata": {},
   "outputs": [
    {
     "data": {
      "text/plain": [
       "<folium.plugins.heat_map.HeatMap at 0x1b92c8c6690>"
      ]
     },
     "execution_count": 98,
     "metadata": {},
     "output_type": "execute_result"
    }
   ],
   "source": [
    "#create heat map of population in VIC\n",
    "HeatMap(population_points).add_to(map_object)"
   ]
  },
  {
   "cell_type": "code",
   "execution_count": 99,
   "id": "9910f883",
   "metadata": {},
   "outputs": [],
   "source": [
    "#clean affordable index data\n",
    "affordable_index.fillna(0, inplace=True) "
   ]
  },
  {
   "cell_type": "code",
   "execution_count": 100,
   "id": "e0389fe8",
   "metadata": {},
   "outputs": [],
   "source": [
    "#merge shapefil data and affordable index data and clean\n",
    "shapefile_data['SA2_CODE21'] = shapefile_data['SA2_CODE21'].astype(str)\n",
    "affordable_index['SA2'] = affordable_index['SA2'].astype(str)\n",
    "\n",
    "shapefile_data['SA2']=shapefile_data['SA2_CODE21']\n",
    "rent_sa2 = gpd.GeoDataFrame(pd.merge(shapefile_data, affordable_index, on='SA2', how='inner'))"
   ]
  },
  {
   "cell_type": "code",
   "execution_count": 102,
   "id": "2b2349ac",
   "metadata": {},
   "outputs": [],
   "source": [
    "# add markers on map\n",
    "create_marker_cluster(map_object, 'School_Layer', 'university', 'black', school_points)\n",
    "create_marker_cluster(map_object, 'Train_Layer', 'train', 'green', train_points)\n",
    "create_marker_cluster(map_object, 'Postcode_Layer', 'map-marker', 'purple', postcode_points)\n",
    "create_marker_cluster(map_object, 'Rent_Layer', 'map-marker','gray', rent_points)\n",
    "create_marker_cluster(map_object, 'most_liveable_and_affordable_layer','map_marker', 'green', all_index_points)"
   ]
  },
  {
   "cell_type": "code",
   "execution_count": 103,
   "id": "7acba90b",
   "metadata": {},
   "outputs": [
    {
     "data": {
      "text/plain": [
       "<folium.features.Choropleth at 0x1b9808fae10>"
      ]
     },
     "execution_count": 103,
     "metadata": {},
     "output_type": "execute_result"
    }
   ],
   "source": [
    "#create affordable index gradient map\n",
    "folium.Choropleth(\n",
    "    geo_data=rent_sa2, \n",
    "    name='choropleth',\n",
    "    data=affordable_index, \n",
    "    columns=['SA2', 'affordable index of 2023-24'],  \n",
    "    key_on='feature.properties.SA2',  \n",
    "    fill_color='YlOrRd',  \n",
    "    fill_opacity=0.7,\n",
    "    line_opacity=0.2,\n",
    "    nah_fill_color=None,\n",
    "    legend_name='Affordable Index'\n",
    ").add_to(map_object)"
   ]
  },
  {
   "cell_type": "code",
   "execution_count": 104,
   "id": "107e5182",
   "metadata": {},
   "outputs": [
    {
     "data": {
      "text/plain": [
       "<folium.map.LayerControl at 0x1b980ad4a50>"
      ]
     },
     "execution_count": 104,
     "metadata": {},
     "output_type": "execute_result"
    }
   ],
   "source": [
    "# add layer control\n",
    "folium.LayerControl().add_to(map_object)"
   ]
  },
  {
   "cell_type": "code",
   "execution_count": 105,
   "id": "e66aa52d",
   "metadata": {},
   "outputs": [],
   "source": [
    "# save map to html file\n",
    "map_object.save('../plots/livable.html')"
   ]
  }
 ],
 "metadata": {
  "kernelspec": {
   "display_name": "Python 3",
   "language": "python",
   "name": "python3"
  },
  "language_info": {
   "codemirror_mode": {
    "name": "ipython",
    "version": 3
   },
   "file_extension": ".py",
   "mimetype": "text/x-python",
   "name": "python",
   "nbconvert_exporter": "python",
   "pygments_lexer": "ipython3",
   "version": "3.11.9"
  }
 },
 "nbformat": 4,
 "nbformat_minor": 5
}
