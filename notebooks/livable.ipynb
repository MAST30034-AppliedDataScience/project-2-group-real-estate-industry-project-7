{
 "cells": [
  {
   "cell_type": "code",
   "execution_count": 228,
   "id": "37921315",
   "metadata": {},
   "outputs": [],
   "source": [
    "# import library\n",
    "import pandas as pd\n",
    "import folium\n",
    "import geopandas as gpd\n",
    "from folium.plugins import MarkerCluster\n",
    "from folium.plugins import HeatMap\n",
    "import branca.colormap as cm"
   ]
  },
  {
   "cell_type": "code",
   "execution_count": 229,
   "id": "3ea2e513",
   "metadata": {},
   "outputs": [],
   "source": [
    "# read data\n",
    "school_data = pd.read_csv(\"../data/curated/school_location_cleaned_2023.csv\")\n",
    "train_data = pd.read_csv(\"../data/curated/train_station_cleaned.csv\")\n",
    "population_data = pd.read_csv(\"../data/curated/population_cleaned.csv\")\n",
    "rent_data = pd.read_csv(\"../data/curated/rent_cleaned.csv\")\n",
    "postcode_data = pd.read_csv(\"../data/raw/external/australian_postcodes.csv\")\n",
    "affordable_index = pd.read_csv('../data/curated/rent_income_2023-24.csv')"
   ]
  },
  {
   "cell_type": "code",
   "execution_count": 230,
   "id": "b059540e",
   "metadata": {},
   "outputs": [],
   "source": [
    "# Load the map file for post codes\n",
    "shapefile_data = gpd.read_file(\"../data/raw/external/SA2_2021_ShapeFile/SA2_2021_AUST_GDA2020.shp\")\n",
    "shapefile_data = shapefile_data.rename(columns={'SA2_2021': 'Postcode'})\n",
    "shapefile_data = shapefile_data[shapefile_data.is_valid]"
   ]
  },
  {
   "cell_type": "code",
   "execution_count": 231,
   "id": "3fa9869b",
   "metadata": {},
   "outputs": [],
   "source": [
    "#clean postcode data \n",
    "postcode_data = postcode_data[postcode_data['state'] == 'VIC']"
   ]
  },
  {
   "cell_type": "markdown",
   "id": "8770f2d9",
   "metadata": {},
   "source": [
    "# liveable index"
   ]
  },
  {
   "cell_type": "markdown",
   "id": "94abeb4a",
   "metadata": {},
   "source": [
    "### school count"
   ]
  },
  {
   "cell_type": "code",
   "execution_count": 232,
   "id": "76edc460",
   "metadata": {},
   "outputs": [],
   "source": [
    "#calculate and sort by school count nearby for each postcode\n",
    "school_count = school_data.groupby('Address_Postcode').size().reset_index(name='school_count')\n",
    "school_count = school_count.groupby('Address_Postcode').agg({'school_count': 'sum'}).reset_index()\n",
    "school_count = school_count.sort_values(by='school_count',ascending=False)"
   ]
  },
  {
   "cell_type": "code",
   "execution_count": 233,
   "id": "c3fbafdd",
   "metadata": {},
   "outputs": [
    {
     "data": {
      "text/html": [
       "<div>\n",
       "<style scoped>\n",
       "    .dataframe tbody tr th:only-of-type {\n",
       "        vertical-align: middle;\n",
       "    }\n",
       "\n",
       "    .dataframe tbody tr th {\n",
       "        vertical-align: top;\n",
       "    }\n",
       "\n",
       "    .dataframe thead th {\n",
       "        text-align: right;\n",
       "    }\n",
       "</style>\n",
       "<table border=\"1\" class=\"dataframe\">\n",
       "  <thead>\n",
       "    <tr style=\"text-align: right;\">\n",
       "      <th></th>\n",
       "      <th>Address_Postcode</th>\n",
       "      <th>school_count</th>\n",
       "    </tr>\n",
       "  </thead>\n",
       "  <tbody>\n",
       "    <tr>\n",
       "      <th>20</th>\n",
       "      <td>3029</td>\n",
       "      <td>28</td>\n",
       "    </tr>\n",
       "    <tr>\n",
       "      <th>252</th>\n",
       "      <td>3350</td>\n",
       "      <td>28</td>\n",
       "    </tr>\n",
       "    <tr>\n",
       "      <th>564</th>\n",
       "      <td>3977</td>\n",
       "      <td>27</td>\n",
       "    </tr>\n",
       "    <tr>\n",
       "      <th>21</th>\n",
       "      <td>3030</td>\n",
       "      <td>26</td>\n",
       "    </tr>\n",
       "    <tr>\n",
       "      <th>50</th>\n",
       "      <td>3064</td>\n",
       "      <td>25</td>\n",
       "    </tr>\n",
       "  </tbody>\n",
       "</table>\n",
       "</div>"
      ],
      "text/plain": [
       "     Address_Postcode  school_count\n",
       "20               3029            28\n",
       "252              3350            28\n",
       "564              3977            27\n",
       "21               3030            26\n",
       "50               3064            25"
      ]
     },
     "execution_count": 233,
     "metadata": {},
     "output_type": "execute_result"
    }
   ],
   "source": [
    "school_count.head()"
   ]
  },
  {
   "cell_type": "markdown",
   "id": "b6d5b380",
   "metadata": {},
   "source": [
    "### train station count"
   ]
  },
  {
   "cell_type": "code",
   "execution_count": 234,
   "id": "ed5f2052",
   "metadata": {},
   "outputs": [],
   "source": [
    "#rename column lat and long in postcode data\n",
    "postcode_data['latitude'] = postcode_data['lat']\n",
    "postcode_data['longitude'] = postcode_data['long']\n",
    "\n",
    "#merge postcode data and train data\n",
    "train_count = pd.merge(postcode_data, train_data, on=['latitude', 'longitude'], how='left')\n",
    "\n",
    "#calculate and sort nearby train station count for each postcode\n",
    "train_count = train_count.groupby('postcode').size().reset_index(name='train_count')\n",
    "train_count = train_count.groupby('postcode').agg({'train_count': 'sum'}).reset_index()\n",
    "train_count = train_count.sort_values(by='train_count',ascending=False)"
   ]
  },
  {
   "cell_type": "code",
   "execution_count": 235,
   "id": "2cb1b467",
   "metadata": {},
   "outputs": [
    {
     "data": {
      "text/html": [
       "<div>\n",
       "<style scoped>\n",
       "    .dataframe tbody tr th:only-of-type {\n",
       "        vertical-align: middle;\n",
       "    }\n",
       "\n",
       "    .dataframe tbody tr th {\n",
       "        vertical-align: top;\n",
       "    }\n",
       "\n",
       "    .dataframe thead th {\n",
       "        text-align: right;\n",
       "    }\n",
       "</style>\n",
       "<table border=\"1\" class=\"dataframe\">\n",
       "  <thead>\n",
       "    <tr style=\"text-align: right;\">\n",
       "      <th></th>\n",
       "      <th>postcode</th>\n",
       "      <th>train_count</th>\n",
       "    </tr>\n",
       "  </thead>\n",
       "  <tbody>\n",
       "    <tr>\n",
       "      <th>291</th>\n",
       "      <td>3352</td>\n",
       "      <td>62</td>\n",
       "    </tr>\n",
       "    <tr>\n",
       "      <th>324</th>\n",
       "      <td>3401</td>\n",
       "      <td>48</td>\n",
       "    </tr>\n",
       "    <tr>\n",
       "      <th>413</th>\n",
       "      <td>3551</td>\n",
       "      <td>41</td>\n",
       "    </tr>\n",
       "    <tr>\n",
       "      <th>508</th>\n",
       "      <td>3691</td>\n",
       "      <td>37</td>\n",
       "    </tr>\n",
       "    <tr>\n",
       "      <th>638</th>\n",
       "      <td>3875</td>\n",
       "      <td>35</td>\n",
       "    </tr>\n",
       "  </tbody>\n",
       "</table>\n",
       "</div>"
      ],
      "text/plain": [
       "     postcode  train_count\n",
       "291      3352           62\n",
       "324      3401           48\n",
       "413      3551           41\n",
       "508      3691           37\n",
       "638      3875           35"
      ]
     },
     "execution_count": 235,
     "metadata": {},
     "output_type": "execute_result"
    }
   ],
   "source": [
    "train_count.head()"
   ]
  },
  {
   "cell_type": "markdown",
   "id": "72de105a",
   "metadata": {},
   "source": [
    "### population count"
   ]
  },
  {
   "cell_type": "code",
   "execution_count": 236,
   "id": "a079c769",
   "metadata": {},
   "outputs": [],
   "source": [
    "#sort population data by 2023 population\n",
    "population_sort=population_data.sort_values(by='2023',ascending=False)\n",
    "population_sort=population_sort[['SA2 name','SA2 code','2023']]\n",
    "\n",
    "#calculate and sort each postcode's population in 2023\n",
    "population_count=pd.merge(population_sort, postcode_data, left_on='SA2 name', right_on='SA2_NAME_2021', how='inner')\n",
    "population_count=population_count.groupby('postcode').agg({'2023':'sum'}).reset_index()\n",
    "population_count=population_count[['postcode','2023']]\n",
    "population_count=population_count.sort_values(by='2023',ascending=False)\n"
   ]
  },
  {
   "cell_type": "code",
   "execution_count": 237,
   "id": "6e9b4318",
   "metadata": {},
   "outputs": [
    {
     "data": {
      "text/html": [
       "<div>\n",
       "<style scoped>\n",
       "    .dataframe tbody tr th:only-of-type {\n",
       "        vertical-align: middle;\n",
       "    }\n",
       "\n",
       "    .dataframe tbody tr th {\n",
       "        vertical-align: top;\n",
       "    }\n",
       "\n",
       "    .dataframe thead th {\n",
       "        text-align: right;\n",
       "    }\n",
       "</style>\n",
       "<table border=\"1\" class=\"dataframe\">\n",
       "  <thead>\n",
       "    <tr style=\"text-align: right;\">\n",
       "      <th></th>\n",
       "      <th>postcode</th>\n",
       "      <th>2023</th>\n",
       "    </tr>\n",
       "  </thead>\n",
       "  <tbody>\n",
       "    <tr>\n",
       "      <th>487</th>\n",
       "      <td>3691</td>\n",
       "      <td>548118</td>\n",
       "    </tr>\n",
       "    <tr>\n",
       "      <th>192</th>\n",
       "      <td>3221</td>\n",
       "      <td>527982</td>\n",
       "    </tr>\n",
       "    <tr>\n",
       "      <th>581</th>\n",
       "      <td>3821</td>\n",
       "      <td>488340</td>\n",
       "    </tr>\n",
       "    <tr>\n",
       "      <th>585</th>\n",
       "      <td>3825</td>\n",
       "      <td>470518</td>\n",
       "    </tr>\n",
       "    <tr>\n",
       "      <th>692</th>\n",
       "      <td>3995</td>\n",
       "      <td>395556</td>\n",
       "    </tr>\n",
       "  </tbody>\n",
       "</table>\n",
       "</div>"
      ],
      "text/plain": [
       "     postcode    2023\n",
       "487      3691  548118\n",
       "192      3221  527982\n",
       "581      3821  488340\n",
       "585      3825  470518\n",
       "692      3995  395556"
      ]
     },
     "execution_count": 237,
     "metadata": {},
     "output_type": "execute_result"
    }
   ],
   "source": [
    "population_count.head()"
   ]
  },
  {
   "cell_type": "markdown",
   "id": "5d5c548b",
   "metadata": {},
   "source": [
    "### rent count"
   ]
  },
  {
   "cell_type": "code",
   "execution_count": 238,
   "id": "c9985479",
   "metadata": {},
   "outputs": [],
   "source": [
    "#sort each postcode's mean rent\n",
    "rent_count=rent_data.groupby('postcode').agg({'price_per_week':'mean'}).reset_index()\n",
    "rent_count=rent_count.sort_values(by='price_per_week')"
   ]
  },
  {
   "cell_type": "code",
   "execution_count": 239,
   "id": "1eeff02f",
   "metadata": {},
   "outputs": [
    {
     "data": {
      "text/html": [
       "<div>\n",
       "<style scoped>\n",
       "    .dataframe tbody tr th:only-of-type {\n",
       "        vertical-align: middle;\n",
       "    }\n",
       "\n",
       "    .dataframe tbody tr th {\n",
       "        vertical-align: top;\n",
       "    }\n",
       "\n",
       "    .dataframe thead th {\n",
       "        text-align: right;\n",
       "    }\n",
       "</style>\n",
       "<table border=\"1\" class=\"dataframe\">\n",
       "  <thead>\n",
       "    <tr style=\"text-align: right;\">\n",
       "      <th></th>\n",
       "      <th>postcode</th>\n",
       "      <th>price_per_week</th>\n",
       "    </tr>\n",
       "  </thead>\n",
       "  <tbody>\n",
       "    <tr>\n",
       "      <th>329</th>\n",
       "      <td>3981</td>\n",
       "      <td>200.0</td>\n",
       "    </tr>\n",
       "    <tr>\n",
       "      <th>214</th>\n",
       "      <td>3409</td>\n",
       "      <td>200.0</td>\n",
       "    </tr>\n",
       "    <tr>\n",
       "      <th>212</th>\n",
       "      <td>3396</td>\n",
       "      <td>200.0</td>\n",
       "    </tr>\n",
       "    <tr>\n",
       "      <th>193</th>\n",
       "      <td>3318</td>\n",
       "      <td>230.0</td>\n",
       "    </tr>\n",
       "    <tr>\n",
       "      <th>285</th>\n",
       "      <td>3825</td>\n",
       "      <td>237.5</td>\n",
       "    </tr>\n",
       "  </tbody>\n",
       "</table>\n",
       "</div>"
      ],
      "text/plain": [
       "     postcode  price_per_week\n",
       "329      3981           200.0\n",
       "214      3409           200.0\n",
       "212      3396           200.0\n",
       "193      3318           230.0\n",
       "285      3825           237.5"
      ]
     },
     "execution_count": 239,
     "metadata": {},
     "output_type": "execute_result"
    }
   ],
   "source": [
    "rent_count.head()"
   ]
  },
  {
   "cell_type": "markdown",
   "id": "328a3b95",
   "metadata": {},
   "source": [
    "### calculate liveablity"
   ]
  },
  {
   "cell_type": "code",
   "execution_count": 240,
   "id": "b7222f70",
   "metadata": {},
   "outputs": [],
   "source": [
    "#merge all data of count\n",
    "liveable_count = school_count.merge(train_count,left_on='Address_Postcode',right_on='postcode',how='outer')\\\n",
    "    .merge(population_count, on='postcode', how='outer')\\\n",
    "        .merge(rent_count, on='postcode', how='outer')\n",
    "\n",
    "#define weight of each element\n",
    "school_weight = 0.3\n",
    "train_weight = 0.3\n",
    "population_weight = 0.2\n",
    "rent_weight = 0.2\n",
    "\n",
    "#use Z-score to nomalization\n",
    "liveable_count['school_count'] = (liveable_count['school_count'] - liveable_count['school_count'].mean()) / liveable_count['school_count'].std()\n",
    "liveable_count['train_count'] = (liveable_count['train_count'] - liveable_count['train_count'].mean()) / liveable_count['train_count'].std()\n",
    "liveable_count['2023'] = (liveable_count['2023'] - liveable_count['2023'].mean()) / liveable_count['2023'].std()\n",
    "liveable_count['price_per_week'] = (liveable_count['price_per_week'] - liveable_count['price_per_week'].mean()) / liveable_count['price_per_week'].std()\n",
    "\n",
    "#calculate liveability for each postcode\n",
    "liveable_count['liveability_index'] = (liveable_count['school_count'] * school_weight + liveable_count['train_count'] * train_weight + liveable_count['2023'] * population_weight - liveable_count['price_per_week'] * rent_weight)\n",
    "\n",
    "#sort by liveability\n",
    "liveable_count = liveable_count.sort_values(by='liveability_index', ascending=False)\n"
   ]
  },
  {
   "cell_type": "code",
   "execution_count": 241,
   "id": "3733b3a0",
   "metadata": {},
   "outputs": [
    {
     "data": {
      "text/html": [
       "<div>\n",
       "<style scoped>\n",
       "    .dataframe tbody tr th:only-of-type {\n",
       "        vertical-align: middle;\n",
       "    }\n",
       "\n",
       "    .dataframe tbody tr th {\n",
       "        vertical-align: top;\n",
       "    }\n",
       "\n",
       "    .dataframe thead th {\n",
       "        text-align: right;\n",
       "    }\n",
       "</style>\n",
       "<table border=\"1\" class=\"dataframe\">\n",
       "  <thead>\n",
       "    <tr style=\"text-align: right;\">\n",
       "      <th></th>\n",
       "      <th>Address_Postcode</th>\n",
       "      <th>school_count</th>\n",
       "      <th>postcode</th>\n",
       "      <th>train_count</th>\n",
       "      <th>2023</th>\n",
       "      <th>price_per_week</th>\n",
       "      <th>liveability_index</th>\n",
       "    </tr>\n",
       "  </thead>\n",
       "  <tbody>\n",
       "    <tr>\n",
       "      <th>291</th>\n",
       "      <td>3352.0</td>\n",
       "      <td>2.191766</td>\n",
       "      <td>3352</td>\n",
       "      <td>9.193708</td>\n",
       "      <td>4.561803</td>\n",
       "      <td>-0.468051</td>\n",
       "      <td>4.421613</td>\n",
       "    </tr>\n",
       "    <tr>\n",
       "      <th>610</th>\n",
       "      <td>3825.0</td>\n",
       "      <td>2.191766</td>\n",
       "      <td>3825</td>\n",
       "      <td>4.217947</td>\n",
       "      <td>6.837458</td>\n",
       "      <td>-1.668083</td>\n",
       "      <td>3.624022</td>\n",
       "    </tr>\n",
       "    <tr>\n",
       "      <th>289</th>\n",
       "      <td>3350.0</td>\n",
       "      <td>5.848248</td>\n",
       "      <td>3350</td>\n",
       "      <td>2.933880</td>\n",
       "      <td>4.017652</td>\n",
       "      <td>-0.825282</td>\n",
       "      <td>3.603225</td>\n",
       "    </tr>\n",
       "    <tr>\n",
       "      <th>508</th>\n",
       "      <td>3691.0</td>\n",
       "      <td>0.972939</td>\n",
       "      <td>3691</td>\n",
       "      <td>5.180997</td>\n",
       "      <td>8.093850</td>\n",
       "      <td>0.490835</td>\n",
       "      <td>3.366784</td>\n",
       "    </tr>\n",
       "    <tr>\n",
       "      <th>413</th>\n",
       "      <td>3551.0</td>\n",
       "      <td>1.704235</td>\n",
       "      <td>3551</td>\n",
       "      <td>5.823031</td>\n",
       "      <td>1.998877</td>\n",
       "      <td>-0.269292</td>\n",
       "      <td>2.711814</td>\n",
       "    </tr>\n",
       "    <tr>\n",
       "      <th>638</th>\n",
       "      <td>3875.0</td>\n",
       "      <td>1.704235</td>\n",
       "      <td>3875</td>\n",
       "      <td>4.859981</td>\n",
       "      <td>3.215083</td>\n",
       "      <td>-0.376762</td>\n",
       "      <td>2.687634</td>\n",
       "    </tr>\n",
       "    <tr>\n",
       "      <th>412</th>\n",
       "      <td>3550.0</td>\n",
       "      <td>4.141890</td>\n",
       "      <td>3550</td>\n",
       "      <td>1.810321</td>\n",
       "      <td>3.166366</td>\n",
       "      <td>-0.183337</td>\n",
       "      <td>2.455604</td>\n",
       "    </tr>\n",
       "    <tr>\n",
       "      <th>708</th>\n",
       "      <td>3977.0</td>\n",
       "      <td>5.604483</td>\n",
       "      <td>3977</td>\n",
       "      <td>1.168287</td>\n",
       "      <td>1.848191</td>\n",
       "      <td>-0.120009</td>\n",
       "      <td>2.425471</td>\n",
       "    </tr>\n",
       "    <tr>\n",
       "      <th>307</th>\n",
       "      <td>3377.0</td>\n",
       "      <td>0.972939</td>\n",
       "      <td>3377</td>\n",
       "      <td>3.415405</td>\n",
       "      <td>2.780349</td>\n",
       "      <td>-0.841347</td>\n",
       "      <td>2.040842</td>\n",
       "    </tr>\n",
       "    <tr>\n",
       "      <th>360</th>\n",
       "      <td>3461.0</td>\n",
       "      <td>-0.002123</td>\n",
       "      <td>3461</td>\n",
       "      <td>3.736422</td>\n",
       "      <td>4.011710</td>\n",
       "      <td>-0.222274</td>\n",
       "      <td>1.967086</td>\n",
       "    </tr>\n",
       "  </tbody>\n",
       "</table>\n",
       "</div>"
      ],
      "text/plain": [
       "     Address_Postcode  school_count  postcode  train_count      2023  \\\n",
       "291            3352.0      2.191766      3352     9.193708  4.561803   \n",
       "610            3825.0      2.191766      3825     4.217947  6.837458   \n",
       "289            3350.0      5.848248      3350     2.933880  4.017652   \n",
       "508            3691.0      0.972939      3691     5.180997  8.093850   \n",
       "413            3551.0      1.704235      3551     5.823031  1.998877   \n",
       "638            3875.0      1.704235      3875     4.859981  3.215083   \n",
       "412            3550.0      4.141890      3550     1.810321  3.166366   \n",
       "708            3977.0      5.604483      3977     1.168287  1.848191   \n",
       "307            3377.0      0.972939      3377     3.415405  2.780349   \n",
       "360            3461.0     -0.002123      3461     3.736422  4.011710   \n",
       "\n",
       "     price_per_week  liveability_index  \n",
       "291       -0.468051           4.421613  \n",
       "610       -1.668083           3.624022  \n",
       "289       -0.825282           3.603225  \n",
       "508        0.490835           3.366784  \n",
       "413       -0.269292           2.711814  \n",
       "638       -0.376762           2.687634  \n",
       "412       -0.183337           2.455604  \n",
       "708       -0.120009           2.425471  \n",
       "307       -0.841347           2.040842  \n",
       "360       -0.222274           1.967086  "
      ]
     },
     "execution_count": 241,
     "metadata": {},
     "output_type": "execute_result"
    }
   ],
   "source": [
    "liveable_count.iloc[:10,:]"
   ]
  },
  {
   "cell_type": "code",
   "execution_count": 242,
   "id": "edddb24c",
   "metadata": {},
   "outputs": [],
   "source": [
    "# define function to extract location points\n",
    "def extract_location_points(lat_list, lng_list, additional_data):\n",
    "    points = []\n",
    "    for lat, lng, data in zip(lat_list, lng_list, additional_data):\n",
    "        points.append((lat, lng, data))\n",
    "    return points"
   ]
  },
  {
   "cell_type": "code",
   "execution_count": 243,
   "id": "0ca95859",
   "metadata": {},
   "outputs": [],
   "source": [
    "# process school data\n",
    "school_points = extract_location_points(school_data[\"Y\"], school_data[\"X\"], school_data[\"School_Type\"])\n",
    "\n",
    "# process train data\n",
    "train_points = extract_location_points(train_data[\"latitude\"], train_data[\"longitude\"], train_data[\"Stop_ID\"])\n",
    "\n",
    "#process rent data\n",
    "rent_points = extract_location_points(rent_data[\"latitude\"], rent_data[\"longitude\"],rent_data[\"price_per_week\"])\n",
    "\n",
    "# process population data\n",
    "postcode_mapping = pd.read_csv(\"../data/raw/external/australian_postcodes.csv\")[[\"SA2_CODE_2021\", \"lat\", \"long\"]]\n",
    "postcode_dict = {row['SA2_CODE_2021']: (row['lat'], row['long']) for _, row in postcode_mapping.iterrows()}\n",
    "\n",
    "population_points = [(postcode_dict[suburb][0], postcode_dict[suburb][1], pop) \n",
    "                     for suburb, pop in zip(population_data[\"SA2 code\"], population_data[\"2023\"]) \n",
    "                     if suburb in postcode_dict]\n",
    "\n",
    "#process postcode data\n",
    "postcode_points = extract_location_points(postcode_data[\"lat\"], postcode_data[\"long\"], postcode_data[\"postcode\"])"
   ]
  },
  {
   "cell_type": "code",
   "execution_count": 244,
   "id": "60a7b849",
   "metadata": {},
   "outputs": [],
   "source": [
    "# define function to add marker clusters\n",
    "def create_marker_cluster(map_object, name, icon, color, data_points):\n",
    "    feature_group = folium.FeatureGroup(name=name, control=True)\n",
    "    marker_cluster = MarkerCluster(name=name).add_to(feature_group)\n",
    "    for lat, lng, info in data_points:\n",
    "        folium.Marker(\n",
    "            location=[lat, lng],\n",
    "            icon=folium.Icon(icon=icon, color=color, icon_color='white', prefix=\"fa\"),\n",
    "            popup=str(info)\n",
    "        ).add_to(marker_cluster)\n",
    "    map_object.add_child(feature_group)"
   ]
  },
  {
   "cell_type": "code",
   "execution_count": 245,
   "id": "aee429d0",
   "metadata": {},
   "outputs": [],
   "source": [
    "# create map\n",
    "map_object=folium.Map(location=[-36, 145.3906], tiles='CartoDB positron', zoom_start=7)"
   ]
  },
  {
   "cell_type": "code",
   "execution_count": 246,
   "id": "8ec4c1af",
   "metadata": {},
   "outputs": [
    {
     "data": {
      "text/plain": [
       "<folium.plugins.heat_map.HeatMap at 0x1c1b2a066d0>"
      ]
     },
     "execution_count": 246,
     "metadata": {},
     "output_type": "execute_result"
    }
   ],
   "source": [
    "#create heat map of population in VIC\n",
    "HeatMap(population_points).add_to(map_object)"
   ]
  },
  {
   "cell_type": "code",
   "execution_count": 247,
   "id": "9910f883",
   "metadata": {},
   "outputs": [],
   "source": [
    "#clean affordable index data\n",
    "affordable_index.fillna(0, inplace=True) "
   ]
  },
  {
   "cell_type": "code",
   "execution_count": 248,
   "id": "e0389fe8",
   "metadata": {},
   "outputs": [],
   "source": [
    "#merge shapefil data and affordable index data and clean\n",
    "shapefile_data['SA2_CODE21'] = shapefile_data['SA2_CODE21'].astype(str)\n",
    "affordable_index['SA2'] = affordable_index['SA2'].astype(str)\n",
    "\n",
    "shapefile_data['SA2']=shapefile_data['SA2_CODE21']\n",
    "rent_sa2 = gpd.GeoDataFrame(pd.merge(shapefile_data, affordable_index, on='SA2', how='inner'))"
   ]
  },
  {
   "cell_type": "code",
   "execution_count": 249,
   "id": "2b2349ac",
   "metadata": {},
   "outputs": [],
   "source": [
    "# add markers on map\n",
    "create_marker_cluster(map_object, 'School_Layer', 'university', 'black', school_points)\n",
    "create_marker_cluster(map_object, 'Train_Layer', 'train', 'green', train_points)\n",
    "create_marker_cluster(map_object, 'Postcode_Layer', 'map-marker', 'purple', postcode_points)\n",
    "create_marker_cluster(map_object, 'Rent_Layer', 'map-marker','gray', rent_points)"
   ]
  },
  {
   "cell_type": "code",
   "execution_count": 250,
   "id": "7acba90b",
   "metadata": {},
   "outputs": [
    {
     "data": {
      "text/plain": [
       "<folium.features.Choropleth at 0x1c1f27d2a50>"
      ]
     },
     "execution_count": 250,
     "metadata": {},
     "output_type": "execute_result"
    }
   ],
   "source": [
    "#create affordable index gradient map\n",
    "folium.Choropleth(\n",
    "    geo_data=rent_sa2, \n",
    "    name='choropleth',\n",
    "    data=affordable_index, \n",
    "    columns=['SA2', 'affordable index of 2023-24'],  \n",
    "    key_on='feature.properties.SA2',  \n",
    "    fill_color='YlOrRd',  \n",
    "    fill_opacity=0.7,\n",
    "    line_opacity=0.2,\n",
    "    nah_fill_color=None,\n",
    "    legend_name='Affordable Index'\n",
    ").add_to(map_object)"
   ]
  },
  {
   "cell_type": "code",
   "execution_count": 251,
   "id": "107e5182",
   "metadata": {},
   "outputs": [
    {
     "data": {
      "text/plain": [
       "<folium.map.LayerControl at 0x1c1b2e32e90>"
      ]
     },
     "execution_count": 251,
     "metadata": {},
     "output_type": "execute_result"
    }
   ],
   "source": [
    "# add layer control\n",
    "folium.LayerControl().add_to(map_object)"
   ]
  },
  {
   "cell_type": "code",
   "execution_count": 252,
   "id": "e66aa52d",
   "metadata": {},
   "outputs": [],
   "source": [
    "# save map to html file\n",
    "map_object.save('../plots/livable.html')"
   ]
  }
 ],
 "metadata": {
  "kernelspec": {
   "display_name": "Python 3",
   "language": "python",
   "name": "python3"
  },
  "language_info": {
   "codemirror_mode": {
    "name": "ipython",
    "version": 3
   },
   "file_extension": ".py",
   "mimetype": "text/x-python",
   "name": "python",
   "nbconvert_exporter": "python",
   "pygments_lexer": "ipython3",
   "version": "3.11.9"
  }
 },
 "nbformat": 4,
 "nbformat_minor": 5
}
