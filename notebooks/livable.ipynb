{
 "cells": [
  {
   "cell_type": "code",
   "execution_count": 28,
   "id": "37921315",
   "metadata": {},
   "outputs": [],
   "source": [
    "# import library\n",
    "import pandas as pd\n",
    "import folium\n",
    "import geopandas as gpd\n",
    "from folium.plugins import MarkerCluster"
   ]
  },
  {
   "cell_type": "code",
   "execution_count": 29,
   "id": "3ea2e513",
   "metadata": {},
   "outputs": [],
   "source": [
    "# read data\n",
    "school_data = pd.read_csv(\"../data/curated/school_location_cleaned_2023.csv\")\n",
    "train_data = pd.read_csv(\"../data/curated/train_station_cleaned.csv\")\n",
    "population_data = pd.read_csv(\"../data/curated/population_cleaned.csv\")\n",
    "rent_data = pd.read_csv(\"../data/curated/rent_cleaned.csv\")\n",
    "postcode_data = pd.read_csv(\"../data/raw/external/australian_postcodes.csv\")"
   ]
  },
  {
   "cell_type": "code",
   "execution_count": 30,
   "id": "b059540e",
   "metadata": {},
   "outputs": [],
   "source": [
    "# Load the map file for post codes\n",
    "shapefile_data = gpd.read_file(\"../data/raw/external/SA2_2021_ShapeFile/SA2_2021_AUST_GDA2020.shp\")\n",
    "shapefile_data = shapefile_data.rename(columns={'SA2_2021': 'Postcode'})"
   ]
  },
  {
   "cell_type": "markdown",
   "id": "8770f2d9",
   "metadata": {},
   "source": [
    "# liveable index"
   ]
  },
  {
   "cell_type": "markdown",
   "id": "94abeb4a",
   "metadata": {},
   "source": [
    "### school count"
   ]
  },
  {
   "cell_type": "code",
   "execution_count": 34,
   "id": "76edc460",
   "metadata": {},
   "outputs": [],
   "source": [
    "#calculate and sort by school count nearby for each postcode\n",
    "school_count = school_data.groupby('Address_Postcode').size().reset_index(name='school_count')\n",
    "school_count = school_count.rename(columns={'Address_Postcode': 'postcode'})\n",
    "school_count = school_count.groupby('postcode').agg({'school_count': 'sum'}).reset_index()\n",
    "school_count = school_count.sort_values(by='school_count',ascending=False)"
   ]
  },
  {
   "cell_type": "code",
   "execution_count": 35,
   "id": "c3fbafdd",
   "metadata": {},
   "outputs": [
    {
     "data": {
      "text/html": [
       "<div>\n",
       "<style scoped>\n",
       "    .dataframe tbody tr th:only-of-type {\n",
       "        vertical-align: middle;\n",
       "    }\n",
       "\n",
       "    .dataframe tbody tr th {\n",
       "        vertical-align: top;\n",
       "    }\n",
       "\n",
       "    .dataframe thead th {\n",
       "        text-align: right;\n",
       "    }\n",
       "</style>\n",
       "<table border=\"1\" class=\"dataframe\">\n",
       "  <thead>\n",
       "    <tr style=\"text-align: right;\">\n",
       "      <th></th>\n",
       "      <th>postcode</th>\n",
       "      <th>school_count</th>\n",
       "    </tr>\n",
       "  </thead>\n",
       "  <tbody>\n",
       "    <tr>\n",
       "      <th>20</th>\n",
       "      <td>3029</td>\n",
       "      <td>28</td>\n",
       "    </tr>\n",
       "    <tr>\n",
       "      <th>252</th>\n",
       "      <td>3350</td>\n",
       "      <td>28</td>\n",
       "    </tr>\n",
       "    <tr>\n",
       "      <th>564</th>\n",
       "      <td>3977</td>\n",
       "      <td>27</td>\n",
       "    </tr>\n",
       "    <tr>\n",
       "      <th>21</th>\n",
       "      <td>3030</td>\n",
       "      <td>26</td>\n",
       "    </tr>\n",
       "    <tr>\n",
       "      <th>50</th>\n",
       "      <td>3064</td>\n",
       "      <td>25</td>\n",
       "    </tr>\n",
       "  </tbody>\n",
       "</table>\n",
       "</div>"
      ],
      "text/plain": [
       "     postcode  school_count\n",
       "20       3029            28\n",
       "252      3350            28\n",
       "564      3977            27\n",
       "21       3030            26\n",
       "50       3064            25"
      ]
     },
     "execution_count": 35,
     "metadata": {},
     "output_type": "execute_result"
    }
   ],
   "source": [
    "school_count.head()"
   ]
  },
  {
   "cell_type": "markdown",
   "id": "b6d5b380",
   "metadata": {},
   "source": [
    "### train station count"
   ]
  },
  {
   "cell_type": "code",
   "execution_count": 6,
   "id": "ed5f2052",
   "metadata": {},
   "outputs": [],
   "source": [
    "#rename column lat and long in postcode data\n",
    "postcode_data['latitude'] = postcode_data['lat']\n",
    "postcode_data['longitude'] = postcode_data['long']\n",
    "\n",
    "#merge postcode data and train data\n",
    "train_count = pd.merge(postcode_data, train_data, on=['latitude', 'longitude'], how='left')\n",
    "\n",
    "#calculate and sort nearby train station count for each postcode\n",
    "train_count = train_count.groupby('postcode').size().reset_index(name='train_count')\n",
    "school_count = train_count.groupby('postcode').agg({'train_count': 'sum'}).reset_index()\n",
    "train_count = train_count.sort_values(by='train_count',ascending=False)"
   ]
  },
  {
   "cell_type": "code",
   "execution_count": 7,
   "id": "2cb1b467",
   "metadata": {},
   "outputs": [
    {
     "data": {
      "text/html": [
       "<div>\n",
       "<style scoped>\n",
       "    .dataframe tbody tr th:only-of-type {\n",
       "        vertical-align: middle;\n",
       "    }\n",
       "\n",
       "    .dataframe tbody tr th {\n",
       "        vertical-align: top;\n",
       "    }\n",
       "\n",
       "    .dataframe thead th {\n",
       "        text-align: right;\n",
       "    }\n",
       "</style>\n",
       "<table border=\"1\" class=\"dataframe\">\n",
       "  <thead>\n",
       "    <tr style=\"text-align: right;\">\n",
       "      <th></th>\n",
       "      <th>postcode</th>\n",
       "      <th>train_count</th>\n",
       "    </tr>\n",
       "  </thead>\n",
       "  <tbody>\n",
       "    <tr>\n",
       "      <th>13</th>\n",
       "      <td>822</td>\n",
       "      <td>111</td>\n",
       "    </tr>\n",
       "    <tr>\n",
       "      <th>40</th>\n",
       "      <td>872</td>\n",
       "      <td>110</td>\n",
       "    </tr>\n",
       "    <tr>\n",
       "      <th>2049</th>\n",
       "      <td>4702</td>\n",
       "      <td>106</td>\n",
       "    </tr>\n",
       "    <tr>\n",
       "      <th>915</th>\n",
       "      <td>2795</td>\n",
       "      <td>102</td>\n",
       "    </tr>\n",
       "    <tr>\n",
       "      <th>681</th>\n",
       "      <td>2460</td>\n",
       "      <td>97</td>\n",
       "    </tr>\n",
       "  </tbody>\n",
       "</table>\n",
       "</div>"
      ],
      "text/plain": [
       "      postcode  train_count\n",
       "13         822          111\n",
       "40         872          110\n",
       "2049      4702          106\n",
       "915       2795          102\n",
       "681       2460           97"
      ]
     },
     "execution_count": 7,
     "metadata": {},
     "output_type": "execute_result"
    }
   ],
   "source": [
    "train_count.head()"
   ]
  },
  {
   "cell_type": "markdown",
   "id": "72de105a",
   "metadata": {},
   "source": [
    "### population count"
   ]
  },
  {
   "cell_type": "code",
   "execution_count": 48,
   "id": "a079c769",
   "metadata": {},
   "outputs": [],
   "source": [
    "#sort population data by 2023 population\n",
    "population_sort=population_data.sort_values(by='2023',ascending=False)\n",
    "population_sort=population_sort[['SA2 name','SA2 code','2023']]\n",
    "\n",
    "#calculate and sort each postcode's population in 2023\n",
    "population_count=pd.merge(population_sort, postcode_data, left_on='SA2 name', right_on='SA2_NAME_2021', how='inner')\n",
    "population_count=population_count.groupby('postcode').agg({'2023':'sum'}).reset_index()\n",
    "population_count=population_count[['postcode','2023']]\n",
    "population_count=population_count.sort_values(by='2023',ascending=False)\n"
   ]
  },
  {
   "cell_type": "code",
   "execution_count": 49,
   "id": "6e9b4318",
   "metadata": {},
   "outputs": [
    {
     "data": {
      "text/html": [
       "<div>\n",
       "<style scoped>\n",
       "    .dataframe tbody tr th:only-of-type {\n",
       "        vertical-align: middle;\n",
       "    }\n",
       "\n",
       "    .dataframe tbody tr th {\n",
       "        vertical-align: top;\n",
       "    }\n",
       "\n",
       "    .dataframe thead th {\n",
       "        text-align: right;\n",
       "    }\n",
       "</style>\n",
       "<table border=\"1\" class=\"dataframe\">\n",
       "  <thead>\n",
       "    <tr style=\"text-align: right;\">\n",
       "      <th></th>\n",
       "      <th>postcode</th>\n",
       "      <th>2023</th>\n",
       "    </tr>\n",
       "  </thead>\n",
       "  <tbody>\n",
       "    <tr>\n",
       "      <th>487</th>\n",
       "      <td>3691</td>\n",
       "      <td>562932</td>\n",
       "    </tr>\n",
       "    <tr>\n",
       "      <th>192</th>\n",
       "      <td>3221</td>\n",
       "      <td>527982</td>\n",
       "    </tr>\n",
       "    <tr>\n",
       "      <th>581</th>\n",
       "      <td>3821</td>\n",
       "      <td>488340</td>\n",
       "    </tr>\n",
       "    <tr>\n",
       "      <th>585</th>\n",
       "      <td>3825</td>\n",
       "      <td>470518</td>\n",
       "    </tr>\n",
       "    <tr>\n",
       "      <th>692</th>\n",
       "      <td>3995</td>\n",
       "      <td>395556</td>\n",
       "    </tr>\n",
       "  </tbody>\n",
       "</table>\n",
       "</div>"
      ],
      "text/plain": [
       "     postcode    2023\n",
       "487      3691  562932\n",
       "192      3221  527982\n",
       "581      3821  488340\n",
       "585      3825  470518\n",
       "692      3995  395556"
      ]
     },
     "execution_count": 49,
     "metadata": {},
     "output_type": "execute_result"
    }
   ],
   "source": [
    "population_count.head()"
   ]
  },
  {
   "cell_type": "markdown",
   "id": "5d5c548b",
   "metadata": {},
   "source": [
    "### rent count"
   ]
  },
  {
   "cell_type": "code",
   "execution_count": 38,
   "id": "c9985479",
   "metadata": {},
   "outputs": [],
   "source": [
    "#sort each postcode's mean rent\n",
    "rent_count=rent_data.groupby('postcode').agg({'price_per_week':'mean'}).reset_index()\n",
    "rent_count=rent_count.sort_values(by='price_per_week')"
   ]
  },
  {
   "cell_type": "code",
   "execution_count": 39,
   "id": "1eeff02f",
   "metadata": {},
   "outputs": [
    {
     "data": {
      "text/html": [
       "<div>\n",
       "<style scoped>\n",
       "    .dataframe tbody tr th:only-of-type {\n",
       "        vertical-align: middle;\n",
       "    }\n",
       "\n",
       "    .dataframe tbody tr th {\n",
       "        vertical-align: top;\n",
       "    }\n",
       "\n",
       "    .dataframe thead th {\n",
       "        text-align: right;\n",
       "    }\n",
       "</style>\n",
       "<table border=\"1\" class=\"dataframe\">\n",
       "  <thead>\n",
       "    <tr style=\"text-align: right;\">\n",
       "      <th></th>\n",
       "      <th>postcode</th>\n",
       "      <th>price_per_week</th>\n",
       "    </tr>\n",
       "  </thead>\n",
       "  <tbody>\n",
       "    <tr>\n",
       "      <th>329</th>\n",
       "      <td>3981</td>\n",
       "      <td>200.0</td>\n",
       "    </tr>\n",
       "    <tr>\n",
       "      <th>214</th>\n",
       "      <td>3409</td>\n",
       "      <td>200.0</td>\n",
       "    </tr>\n",
       "    <tr>\n",
       "      <th>212</th>\n",
       "      <td>3396</td>\n",
       "      <td>200.0</td>\n",
       "    </tr>\n",
       "    <tr>\n",
       "      <th>193</th>\n",
       "      <td>3318</td>\n",
       "      <td>230.0</td>\n",
       "    </tr>\n",
       "    <tr>\n",
       "      <th>285</th>\n",
       "      <td>3825</td>\n",
       "      <td>237.5</td>\n",
       "    </tr>\n",
       "  </tbody>\n",
       "</table>\n",
       "</div>"
      ],
      "text/plain": [
       "     postcode  price_per_week\n",
       "329      3981           200.0\n",
       "214      3409           200.0\n",
       "212      3396           200.0\n",
       "193      3318           230.0\n",
       "285      3825           237.5"
      ]
     },
     "execution_count": 39,
     "metadata": {},
     "output_type": "execute_result"
    }
   ],
   "source": [
    "rent_count.head()"
   ]
  },
  {
   "cell_type": "markdown",
   "id": "328a3b95",
   "metadata": {},
   "source": [
    "### calculate liveablity"
   ]
  },
  {
   "cell_type": "code",
   "execution_count": 50,
   "id": "b7222f70",
   "metadata": {},
   "outputs": [],
   "source": [
    "#merge all data of count\n",
    "liveable_count = school_count.merge(train_count,on='postcode',how='outer')\\\n",
    "    .merge(population_count, on='postcode', how='outer')\\\n",
    "        .merge(rent_count, on='postcode', how='outer')\n",
    "\n",
    "#define weight of each element\n",
    "school_weight = 0.3\n",
    "train_weight = 0.3\n",
    "population_weight = 0.2\n",
    "rent_weight = 0.2\n",
    "\n",
    "#use Z-score to nomalization\n",
    "liveable_count['school_count'] = (liveable_count['school_count'] - liveable_count['school_count'].mean()) / liveable_count['school_count'].std()\n",
    "liveable_count['train_count'] = (liveable_count['train_count'] - liveable_count['train_count'].mean()) / liveable_count['train_count'].std()\n",
    "liveable_count['2023'] = (liveable_count['2023'] - liveable_count['2023'].mean()) / liveable_count['2023'].std()\n",
    "liveable_count['price_per_week'] = (liveable_count['price_per_week'] - liveable_count['price_per_week'].mean()) / liveable_count['price_per_week'].std()\n",
    "\n",
    "#calculate liveability for each postcode\n",
    "liveable_count['liveability_index'] = (liveable_count['school_count'] * school_weight + liveable_count['train_count'] * train_weight + liveable_count['2023'] * population_weight - liveable_count['price_per_week'] * rent_weight)\n",
    "\n",
    "#sort by liveability\n",
    "liveable_count = liveable_count.sort_values(by='liveability_index', ascending=False)\n"
   ]
  },
  {
   "cell_type": "code",
   "execution_count": 51,
   "id": "3733b3a0",
   "metadata": {},
   "outputs": [
    {
     "data": {
      "text/html": [
       "<div>\n",
       "<style scoped>\n",
       "    .dataframe tbody tr th:only-of-type {\n",
       "        vertical-align: middle;\n",
       "    }\n",
       "\n",
       "    .dataframe tbody tr th {\n",
       "        vertical-align: top;\n",
       "    }\n",
       "\n",
       "    .dataframe thead th {\n",
       "        text-align: right;\n",
       "    }\n",
       "</style>\n",
       "<table border=\"1\" class=\"dataframe\">\n",
       "  <thead>\n",
       "    <tr style=\"text-align: right;\">\n",
       "      <th></th>\n",
       "      <th>postcode</th>\n",
       "      <th>school_count</th>\n",
       "      <th>train_count</th>\n",
       "      <th>2023</th>\n",
       "      <th>price_per_week</th>\n",
       "      <th>liveability_index</th>\n",
       "    </tr>\n",
       "  </thead>\n",
       "  <tbody>\n",
       "    <tr>\n",
       "      <th>1282</th>\n",
       "      <td>3352</td>\n",
       "      <td>2.191766</td>\n",
       "      <td>5.998478</td>\n",
       "      <td>4.545999</td>\n",
       "      <td>-0.468051</td>\n",
       "      <td>3.459883</td>\n",
       "    </tr>\n",
       "    <tr>\n",
       "      <th>1280</th>\n",
       "      <td>3350</td>\n",
       "      <td>5.848248</td>\n",
       "      <td>1.832798</td>\n",
       "      <td>4.003559</td>\n",
       "      <td>-0.825282</td>\n",
       "      <td>3.270082</td>\n",
       "    </tr>\n",
       "    <tr>\n",
       "      <th>1601</th>\n",
       "      <td>3825</td>\n",
       "      <td>2.191766</td>\n",
       "      <td>2.687296</td>\n",
       "      <td>6.814501</td>\n",
       "      <td>-1.668083</td>\n",
       "      <td>3.160236</td>\n",
       "    </tr>\n",
       "    <tr>\n",
       "      <th>1499</th>\n",
       "      <td>3691</td>\n",
       "      <td>0.972939</td>\n",
       "      <td>3.434982</td>\n",
       "      <td>8.306037</td>\n",
       "      <td>0.490835</td>\n",
       "      <td>2.885417</td>\n",
       "    </tr>\n",
       "    <tr>\n",
       "      <th>1699</th>\n",
       "      <td>3977</td>\n",
       "      <td>5.604483</td>\n",
       "      <td>0.657863</td>\n",
       "      <td>1.840917</td>\n",
       "      <td>-0.120009</td>\n",
       "      <td>2.270889</td>\n",
       "    </tr>\n",
       "    <tr>\n",
       "      <th>1403</th>\n",
       "      <td>3550</td>\n",
       "      <td>4.141890</td>\n",
       "      <td>1.085112</td>\n",
       "      <td>3.154949</td>\n",
       "      <td>-0.183337</td>\n",
       "      <td>2.235758</td>\n",
       "    </tr>\n",
       "    <tr>\n",
       "      <th>1629</th>\n",
       "      <td>3875</td>\n",
       "      <td>1.704235</td>\n",
       "      <td>3.114546</td>\n",
       "      <td>3.203513</td>\n",
       "      <td>-0.376762</td>\n",
       "      <td>2.161689</td>\n",
       "    </tr>\n",
       "    <tr>\n",
       "      <th>1404</th>\n",
       "      <td>3551</td>\n",
       "      <td>1.704235</td>\n",
       "      <td>3.755419</td>\n",
       "      <td>1.991130</td>\n",
       "      <td>-0.269292</td>\n",
       "      <td>2.089981</td>\n",
       "    </tr>\n",
       "    <tr>\n",
       "      <th>1185</th>\n",
       "      <td>3216</td>\n",
       "      <td>3.166828</td>\n",
       "      <td>0.337426</td>\n",
       "      <td>3.093473</td>\n",
       "      <td>-0.451673</td>\n",
       "      <td>1.760305</td>\n",
       "    </tr>\n",
       "    <tr>\n",
       "      <th>1016</th>\n",
       "      <td>3029</td>\n",
       "      <td>5.848248</td>\n",
       "      <td>-0.303448</td>\n",
       "      <td>0.185853</td>\n",
       "      <td>-0.133638</td>\n",
       "      <td>1.727338</td>\n",
       "    </tr>\n",
       "  </tbody>\n",
       "</table>\n",
       "</div>"
      ],
      "text/plain": [
       "      postcode  school_count  train_count      2023  price_per_week  \\\n",
       "1282      3352      2.191766     5.998478  4.545999       -0.468051   \n",
       "1280      3350      5.848248     1.832798  4.003559       -0.825282   \n",
       "1601      3825      2.191766     2.687296  6.814501       -1.668083   \n",
       "1499      3691      0.972939     3.434982  8.306037        0.490835   \n",
       "1699      3977      5.604483     0.657863  1.840917       -0.120009   \n",
       "1403      3550      4.141890     1.085112  3.154949       -0.183337   \n",
       "1629      3875      1.704235     3.114546  3.203513       -0.376762   \n",
       "1404      3551      1.704235     3.755419  1.991130       -0.269292   \n",
       "1185      3216      3.166828     0.337426  3.093473       -0.451673   \n",
       "1016      3029      5.848248    -0.303448  0.185853       -0.133638   \n",
       "\n",
       "      liveability_index  \n",
       "1282           3.459883  \n",
       "1280           3.270082  \n",
       "1601           3.160236  \n",
       "1499           2.885417  \n",
       "1699           2.270889  \n",
       "1403           2.235758  \n",
       "1629           2.161689  \n",
       "1404           2.089981  \n",
       "1185           1.760305  \n",
       "1016           1.727338  "
      ]
     },
     "execution_count": 51,
     "metadata": {},
     "output_type": "execute_result"
    }
   ],
   "source": [
    "liveable_count.iloc[:10,:]"
   ]
  },
  {
   "cell_type": "code",
   "execution_count": 47,
   "id": "edddb24c",
   "metadata": {},
   "outputs": [],
   "source": [
    "# define function to extract location points\n",
    "def extract_location_points(lat_list, lng_list, additional_data):\n",
    "    points = []\n",
    "    for lat, lng, data in zip(lat_list, lng_list, additional_data):\n",
    "        points.append((lat, lng, data))\n",
    "    return points"
   ]
  },
  {
   "cell_type": "code",
   "execution_count": 48,
   "id": "0ca95859",
   "metadata": {},
   "outputs": [],
   "source": [
    "# process school data\n",
    "school_points = extract_location_points(school_data[\"Y\"], school_data[\"X\"], school_data[\"School_Type\"])\n",
    "\n",
    "# process train data\n",
    "train_points = extract_location_points(train_data[\"latitude\"], train_data[\"longitude\"], train_data[\"Stop_ID\"])\n",
    "\n",
    "# process rent data\n",
    "rent_points = extract_location_points(rent_data[\"latitude\"], rent_data[\"longitude\"], rent_data[\"price_per_week\"])\n",
    "\n",
    "# process population data\n",
    "postcode_mapping = pd.read_csv(\"../data/raw/external/australian_postcodes.csv\")[[\"SA2_CODE_2021\", \"lat\", \"long\"]]\n",
    "postcode_dict = {row['SA2_CODE_2021']: (row['lat'], row['long']) for _, row in postcode_mapping.iterrows()}\n",
    "\n",
    "population_points = [(postcode_dict[suburb][0], postcode_dict[suburb][1], pop) \n",
    "                     for suburb, pop in zip(population_data[\"SA2 code\"], population_data[\"2023\"]) \n",
    "                     if suburb in postcode_dict]\n",
    "\n",
    "#process postcode data\n",
    "postcode_points = extract_location_points(postcode_data[\"lat\"], postcode_data[\"long\"], postcode_data[\"postcode\"])"
   ]
  },
  {
   "cell_type": "code",
   "execution_count": 49,
   "id": "60a7b849",
   "metadata": {},
   "outputs": [],
   "source": [
    "# define function to add marker clusters\n",
    "def create_marker_cluster(map_object, name, icon, color, data_points):\n",
    "    feature_group = folium.FeatureGroup(name=name, control=True)\n",
    "    marker_cluster = MarkerCluster(name=name).add_to(feature_group)\n",
    "    for lat, lng, info in data_points:\n",
    "        folium.Marker(\n",
    "            location=[lat, lng],\n",
    "            icon=folium.Icon(icon=icon, color=color, icon_color='white', prefix=\"fa\"),\n",
    "            popup=str(info)\n",
    "        ).add_to(marker_cluster)\n",
    "    map_object.add_child(feature_group)"
   ]
  },
  {
   "cell_type": "code",
   "execution_count": 50,
   "id": "aee429d0",
   "metadata": {},
   "outputs": [],
   "source": [
    "# create map\n",
    "map_object = folium.Map(location=[-36, 145.3906], tiles=\"OpenStreetMap\", zoom_start=7)"
   ]
  },
  {
   "cell_type": "code",
   "execution_count": 51,
   "id": "2b2349ac",
   "metadata": {},
   "outputs": [],
   "source": [
    "# add markers on map\n",
    "create_marker_cluster(map_object, 'School_Layer', 'university', 'black', school_points)\n",
    "create_marker_cluster(map_object, 'Train_Layer', 'train', 'green', train_points)\n",
    "create_marker_cluster(map_object, 'Rent_Layer', 'home', 'red', rent_points)\n",
    "create_marker_cluster(map_object, 'Population_Layer', 'child', 'blue', population_points)\n",
    "create_marker_cluster(map_object, 'Postcode_Layer', 'map-marker', 'purple', postcode_points)"
   ]
  },
  {
   "cell_type": "code",
   "execution_count": 52,
   "id": "107e5182",
   "metadata": {},
   "outputs": [
    {
     "data": {
      "text/plain": [
       "<folium.map.LayerControl at 0x2b7b6287ed0>"
      ]
     },
     "execution_count": 52,
     "metadata": {},
     "output_type": "execute_result"
    }
   ],
   "source": [
    "# add layer control\n",
    "folium.LayerControl().add_to(map_object)"
   ]
  },
  {
   "cell_type": "code",
   "execution_count": 53,
   "id": "e66aa52d",
   "metadata": {},
   "outputs": [],
   "source": [
    "# save map to html file\n",
    "map_object.save('../plots/livable.html')"
   ]
  }
 ],
 "metadata": {
  "kernelspec": {
   "display_name": "Python 3",
   "language": "python",
   "name": "python3"
  },
  "language_info": {
   "codemirror_mode": {
    "name": "ipython",
    "version": 3
   },
   "file_extension": ".py",
   "mimetype": "text/x-python",
   "name": "python",
   "nbconvert_exporter": "python",
   "pygments_lexer": "ipython3",
   "version": "3.11.9"
  }
 },
 "nbformat": 4,
 "nbformat_minor": 5
}
